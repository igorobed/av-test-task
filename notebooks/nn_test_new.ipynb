{
  "cells": [
    {
      "cell_type": "code",
      "execution_count": null,
      "metadata": {
        "id": "NnaphWULbpUC"
      },
      "outputs": [],
      "source": [
        "import torch\n",
        "import torch.nn as nn\n",
        "import torch.nn.functional as F\n",
        "from torch.utils.data import Dataset, DataLoader\n",
        "import numpy as np\n",
        "from sklearn import datasets\n",
        "import matplotlib.pyplot as plt\n",
        "from sklearn.model_selection import train_test_split\n",
        "from sklearn.metrics import mean_squared_error, r2_score\n",
        "from tqdm import tqdm\n",
        "import pandas as pd\n",
        "from sklearn.preprocessing import LabelEncoder"
      ]
    },
    {
      "cell_type": "code",
      "execution_count": null,
      "metadata": {
        "id": "48FMbffEbpUF"
      },
      "outputs": [],
      "source": [
        "sys.path.append(\"../\")\n",
        "import src.data_utils as d_u\n",
        "import src.feats_generation as f_g\n",
        "import src.eval_utils as e_u"
      ]
    },
    {
      "cell_type": "code",
      "execution_count": null,
      "metadata": {
        "id": "4ZoY97m-bpUG"
      },
      "outputs": [],
      "source": [
        "df = d_u.get_preprocess_data()\n",
        "\n",
        "X = df.drop(columns=[\"commit_message\", \"bugs\"])\n",
        "y = df.bugs\n",
        "\n",
        "msg_embs = f_g.pretrained_model_sentence_emb(df.commit_message.values)\n",
        "\n",
        "X = np.concatenate((X.to_numpy(), msg_embs), axis=1)\n",
        "\n",
        "X_train, X_test, y_train, y_test = train_test_split(X, y, random_state=42)\n"
      ]
    },
    {
      "cell_type": "code",
      "execution_count": null,
      "metadata": {
        "id": "ECCZKJUybpUG",
        "outputId": "663bd092-6e5c-4198-902d-2eb528c7f915"
      },
      "outputs": [
        {
          "name": "stdout",
          "output_type": "stream",
          "text": [
            "1.0778253074522304\n",
            "0.5805107049565632\n"
          ]
        }
      ],
      "source": [
        "from sklearn.neural_network import MLPRegressor\n",
        "\n",
        "best_config = {'activation': 'relu', 'hidden_layer_sizes': (300, 100), 'learning_rate': 'constant', 'max_iter': 10000, 'random_state': 42, 'solver': 'sgd'}\n",
        "\n",
        "model_sk = MLPRegressor(**best_config)\n",
        "\n",
        "model_sk.fit(X_train, y_train)\n",
        "preds = model_sk.predict(X_test)\n",
        "\n",
        "print(mean_squared_error(y_test, preds))\n",
        "print(r2_score(y_test, preds))"
      ]
    },
    {
      "cell_type": "code",
      "execution_count": null,
      "metadata": {
        "id": "-lY-U_4DbpUH"
      },
      "outputs": [],
      "source": [
        "X_train = torch.from_numpy(X_train.astype(np.float32))\n",
        "X_test = torch.from_numpy(X_test.astype(np.float32))\n",
        "y_train = torch.from_numpy(y_train.to_numpy().astype(np.float32))\n",
        "y_test = torch.from_numpy(y_test.to_numpy().astype(np.float32))"
      ]
    },
    {
      "cell_type": "code",
      "execution_count": null,
      "metadata": {
        "id": "BVpzGmopbpUI"
      },
      "outputs": [],
      "source": [
        "y_train = y_train.view(y_train.shape[0], 1)\n",
        "y_test = y_test.view(y_test.shape[0], 1)"
      ]
    },
    {
      "cell_type": "code",
      "execution_count": null,
      "metadata": {
        "id": "a1Apo7RvbpUI"
      },
      "outputs": [],
      "source": [
        "_, n_features = X_train.shape"
      ]
    },
    {
      "cell_type": "code",
      "execution_count": null,
      "metadata": {
        "id": "FbAuy_lJbpUJ",
        "outputId": "0adcd920-e211-4fa9-870d-30b9da1074b7"
      },
      "outputs": [
        {
          "name": "stderr",
          "output_type": "stream",
          "text": [
            "100%|██████████| 12000/12000 [00:41<00:00, 288.02it/s]\n"
          ]
        }
      ],
      "source": [
        "input_size = n_features\n",
        "output_size = 1\n",
        "\n",
        "model = nn.Sequential(\n",
        "    nn.Linear(input_size, 300),\n",
        "    nn.ReLU(),\n",
        "    nn.Linear(300, 100),\n",
        "    nn.ReLU(),\n",
        "    nn.Linear(100, 1)\n",
        "    )\n",
        "\n",
        "criterion = nn.MSELoss()\n",
        "optimizer = torch.optim.SGD(model.parameters(), lr=0.001, weight_decay=0.0001)\n",
        "\n",
        "num_epochs = 12000\n",
        "\n",
        "for epoch in tqdm(range(num_epochs)):\n",
        "    \n",
        "    optimizer.zero_grad()\n",
        "    y_predicted = model(X_train)\n",
        "    loss = criterion(y_predicted, y_train)\n",
        "    loss.backward()\n",
        "    optimizer.step()"
      ]
    },
    {
      "cell_type": "code",
      "execution_count": null,
      "metadata": {
        "id": "d-fHXP_cbpUJ",
        "outputId": "d52ffb3a-a7ee-407a-94ce-148330aa1e1b"
      },
      "outputs": [
        {
          "name": "stdout",
          "output_type": "stream",
          "text": [
            "tensor(1.0467, grad_fn=<MseLossBackward0>)\n"
          ]
        }
      ],
      "source": [
        "model.eval()\n",
        "\n",
        "y_pred = model(X_test)\n",
        "\n",
        "print(criterion(y_pred, y_test))"
      ]
    },
    {
      "cell_type": "code",
      "execution_count": null,
      "metadata": {
        "id": "7pzVu8sqbpUK",
        "outputId": "fe476d5a-67e8-4e51-de59-3b0da3e6a47c"
      },
      "outputs": [
        {
          "data": {
            "text/plain": [
              "0.5609809924712574"
            ]
          },
          "execution_count": 393,
          "metadata": {},
          "output_type": "execute_result"
        }
      ],
      "source": [
        "r2_score(y_test.squeeze().detach().numpy(), y_pred.squeeze().detach().numpy())"
      ]
    },
    {
      "cell_type": "markdown",
      "metadata": {
        "id": "zym-n7j5bpUK"
      },
      "source": [
        "# Попробуем теперь подход с эмбеддингами для категориальных"
      ]
    },
    {
      "cell_type": "code",
      "execution_count": null,
      "metadata": {
        "id": "JDhGJf4KbpUL"
      },
      "outputs": [],
      "source": [
        "df = pd.read_csv(\"../data/raw/АВСОФТ_тест_ML_приложение.csv\")\n",
        "\n",
        "df.drop(columns=[\"commit_hash\"], inplace=True)"
      ]
    },
    {
      "cell_type": "code",
      "execution_count": null,
      "metadata": {
        "id": "N3QMpI8wbpUM",
        "outputId": "f338cd1a-f0e4-4301-ccb6-06e6da2aff35"
      },
      "outputs": [
        {
          "data": {
            "text/html": [
              "<div>\n",
              "<style scoped>\n",
              "    .dataframe tbody tr th:only-of-type {\n",
              "        vertical-align: middle;\n",
              "    }\n",
              "\n",
              "    .dataframe tbody tr th {\n",
              "        vertical-align: top;\n",
              "    }\n",
              "\n",
              "    .dataframe thead th {\n",
              "        text-align: right;\n",
              "    }\n",
              "</style>\n",
              "<table border=\"1\" class=\"dataframe\">\n",
              "  <thead>\n",
              "    <tr style=\"text-align: right;\">\n",
              "      <th></th>\n",
              "      <th>repository_name</th>\n",
              "      <th>commit_date</th>\n",
              "      <th>commit_author</th>\n",
              "      <th>commit_message</th>\n",
              "      <th>bugs</th>\n",
              "    </tr>\n",
              "  </thead>\n",
              "  <tbody>\n",
              "    <tr>\n",
              "      <th>0</th>\n",
              "      <td>mlm</td>\n",
              "      <td>2020-06-12T14:26:12</td>\n",
              "      <td>Victor</td>\n",
              "      <td>объяснения предсказаний с помощью lime</td>\n",
              "      <td>4</td>\n",
              "    </tr>\n",
              "    <tr>\n",
              "      <th>1</th>\n",
              "      <td>mlm</td>\n",
              "      <td>2020-06-12T11:53:10</td>\n",
              "      <td>Victor</td>\n",
              "      <td>Поставил lime вместо eli5</td>\n",
              "      <td>3</td>\n",
              "    </tr>\n",
              "    <tr>\n",
              "      <th>2</th>\n",
              "      <td>mlm</td>\n",
              "      <td>2020-06-11T15:19:03</td>\n",
              "      <td>Victor</td>\n",
              "      <td>Скрипт для создния пакетов обновления</td>\n",
              "      <td>4</td>\n",
              "    </tr>\n",
              "    <tr>\n",
              "      <th>3</th>\n",
              "      <td>mlm</td>\n",
              "      <td>2020-06-11T10:42:29</td>\n",
              "      <td>Victor</td>\n",
              "      <td>Сортировка весов по убыванию</td>\n",
              "      <td>3</td>\n",
              "    </tr>\n",
              "    <tr>\n",
              "      <th>4</th>\n",
              "      <td>mlm</td>\n",
              "      <td>2020-06-11T09:25:19</td>\n",
              "      <td>Victor</td>\n",
              "      <td>не надо конвертировать массив до операции по с...</td>\n",
              "      <td>7</td>\n",
              "    </tr>\n",
              "  </tbody>\n",
              "</table>\n",
              "</div>"
            ],
            "text/plain": [
              "  repository_name          commit_date commit_author  \\\n",
              "0             mlm  2020-06-12T14:26:12        Victor   \n",
              "1             mlm  2020-06-12T11:53:10        Victor   \n",
              "2             mlm  2020-06-11T15:19:03        Victor   \n",
              "3             mlm  2020-06-11T10:42:29        Victor   \n",
              "4             mlm  2020-06-11T09:25:19        Victor   \n",
              "\n",
              "                                      commit_message  bugs  \n",
              "0             объяснения предсказаний с помощью lime     4  \n",
              "1                          Поставил lime вместо eli5     3  \n",
              "2              Скрипт для создния пакетов обновления     4  \n",
              "3                       Сортировка весов по убыванию     3  \n",
              "4  не надо конвертировать массив до операции по с...     7  "
            ]
          },
          "execution_count": 516,
          "metadata": {},
          "output_type": "execute_result"
        }
      ],
      "source": [
        "df.head()"
      ]
    },
    {
      "cell_type": "code",
      "execution_count": null,
      "metadata": {
        "id": "fC0dtl1fbpUM"
      },
      "outputs": [],
      "source": [
        "df.repository_name = LabelEncoder().fit_transform(df.repository_name)"
      ]
    },
    {
      "cell_type": "code",
      "execution_count": null,
      "metadata": {
        "id": "297cp0IEbpUN"
      },
      "outputs": [],
      "source": [
        "df.commit_author = LabelEncoder().fit_transform(df.commit_author)"
      ]
    },
    {
      "cell_type": "code",
      "execution_count": null,
      "metadata": {
        "id": "JZcYUW1ZbpUN",
        "outputId": "fbb36e33-c98b-4ac6-aec6-1135b9c42fe2"
      },
      "outputs": [
        {
          "data": {
            "text/plain": [
              "8    134\n",
              "5     67\n",
              "9     48\n",
              "3     42\n",
              "7      9\n",
              "4      9\n",
              "2      4\n",
              "6      2\n",
              "1      2\n",
              "0      2\n",
              "Name: commit_author, dtype: int64"
            ]
          },
          "execution_count": 519,
          "metadata": {},
          "output_type": "execute_result"
        }
      ],
      "source": [
        "df.commit_author.value_counts()"
      ]
    },
    {
      "cell_type": "code",
      "execution_count": null,
      "metadata": {
        "id": "lAxiHswIbpUN"
      },
      "outputs": [],
      "source": [
        "def to_4(x):\n",
        "    if x == 8:\n",
        "        return 3\n",
        "    elif x in [5, 9, 3]:\n",
        "        return 2\n",
        "    elif x in [7, 4]:\n",
        "        return 1\n",
        "    else:\n",
        "        return 0\n",
        "\n",
        "df.commit_author = df.commit_author.apply(to_4)"
      ]
    },
    {
      "cell_type": "code",
      "execution_count": null,
      "metadata": {
        "id": "JkLCOICJbpUN",
        "outputId": "5facfa2a-7553-465b-ae30-3b86b1e1ea37"
      },
      "outputs": [
        {
          "data": {
            "text/plain": [
              "2    157\n",
              "3    134\n",
              "1     18\n",
              "0     10\n",
              "Name: commit_author, dtype: int64"
            ]
          },
          "execution_count": 521,
          "metadata": {},
          "output_type": "execute_result"
        }
      ],
      "source": [
        "df.commit_author.value_counts()"
      ]
    },
    {
      "cell_type": "code",
      "execution_count": null,
      "metadata": {
        "id": "j5byX8JPbpUN"
      },
      "outputs": [],
      "source": [
        "# https://forums.fast.ai/t/size-of-embedding-for-categorical-variables/42608\n",
        "def compute_embed_dim(n_cat: int) -> int:\n",
        "    return min(600, round(1.6 * n_cat**0.56))"
      ]
    },
    {
      "cell_type": "code",
      "execution_count": null,
      "metadata": {
        "id": "GvlVmTInbpUO",
        "outputId": "4499d93e-6f34-4c29-9371-5e5000b310d6"
      },
      "outputs": [
        {
          "data": {
            "text/html": [
              "<div>\n",
              "<style scoped>\n",
              "    .dataframe tbody tr th:only-of-type {\n",
              "        vertical-align: middle;\n",
              "    }\n",
              "\n",
              "    .dataframe tbody tr th {\n",
              "        vertical-align: top;\n",
              "    }\n",
              "\n",
              "    .dataframe thead th {\n",
              "        text-align: right;\n",
              "    }\n",
              "</style>\n",
              "<table border=\"1\" class=\"dataframe\">\n",
              "  <thead>\n",
              "    <tr style=\"text-align: right;\">\n",
              "      <th></th>\n",
              "      <th>repository_name</th>\n",
              "      <th>commit_date</th>\n",
              "      <th>commit_author</th>\n",
              "      <th>commit_message</th>\n",
              "      <th>bugs</th>\n",
              "    </tr>\n",
              "  </thead>\n",
              "  <tbody>\n",
              "    <tr>\n",
              "      <th>0</th>\n",
              "      <td>3</td>\n",
              "      <td>2020-06-12T14:26:12</td>\n",
              "      <td>3</td>\n",
              "      <td>объяснения предсказаний с помощью lime</td>\n",
              "      <td>4</td>\n",
              "    </tr>\n",
              "    <tr>\n",
              "      <th>1</th>\n",
              "      <td>3</td>\n",
              "      <td>2020-06-12T11:53:10</td>\n",
              "      <td>3</td>\n",
              "      <td>Поставил lime вместо eli5</td>\n",
              "      <td>3</td>\n",
              "    </tr>\n",
              "    <tr>\n",
              "      <th>2</th>\n",
              "      <td>3</td>\n",
              "      <td>2020-06-11T15:19:03</td>\n",
              "      <td>3</td>\n",
              "      <td>Скрипт для создния пакетов обновления</td>\n",
              "      <td>4</td>\n",
              "    </tr>\n",
              "    <tr>\n",
              "      <th>3</th>\n",
              "      <td>3</td>\n",
              "      <td>2020-06-11T10:42:29</td>\n",
              "      <td>3</td>\n",
              "      <td>Сортировка весов по убыванию</td>\n",
              "      <td>3</td>\n",
              "    </tr>\n",
              "    <tr>\n",
              "      <th>4</th>\n",
              "      <td>3</td>\n",
              "      <td>2020-06-11T09:25:19</td>\n",
              "      <td>3</td>\n",
              "      <td>не надо конвертировать массив до операции по с...</td>\n",
              "      <td>7</td>\n",
              "    </tr>\n",
              "    <tr>\n",
              "      <th>...</th>\n",
              "      <td>...</td>\n",
              "      <td>...</td>\n",
              "      <td>...</td>\n",
              "      <td>...</td>\n",
              "      <td>...</td>\n",
              "    </tr>\n",
              "    <tr>\n",
              "      <th>314</th>\n",
              "      <td>4</td>\n",
              "      <td>2020-03-23T12:54:35</td>\n",
              "      <td>2</td>\n",
              "      <td>setting hostname</td>\n",
              "      <td>1</td>\n",
              "    </tr>\n",
              "    <tr>\n",
              "      <th>315</th>\n",
              "      <td>4</td>\n",
              "      <td>2020-03-23T12:30:52</td>\n",
              "      <td>2</td>\n",
              "      <td>heralding default dockerfile</td>\n",
              "      <td>2</td>\n",
              "    </tr>\n",
              "    <tr>\n",
              "      <th>316</th>\n",
              "      <td>4</td>\n",
              "      <td>2020-03-23T11:27:40</td>\n",
              "      <td>2</td>\n",
              "      <td>unnesserity /data path permissions setting</td>\n",
              "      <td>3</td>\n",
              "    </tr>\n",
              "    <tr>\n",
              "      <th>317</th>\n",
              "      <td>4</td>\n",
              "      <td>2020-03-23T11:20:50</td>\n",
              "      <td>2</td>\n",
              "      <td>added trapconductor</td>\n",
              "      <td>1</td>\n",
              "    </tr>\n",
              "    <tr>\n",
              "      <th>318</th>\n",
              "      <td>4</td>\n",
              "      <td>2020-03-23T11:07:07</td>\n",
              "      <td>2</td>\n",
              "      <td>sensor</td>\n",
              "      <td>1</td>\n",
              "    </tr>\n",
              "  </tbody>\n",
              "</table>\n",
              "<p>319 rows × 5 columns</p>\n",
              "</div>"
            ],
            "text/plain": [
              "     repository_name          commit_date  commit_author  \\\n",
              "0                  3  2020-06-12T14:26:12              3   \n",
              "1                  3  2020-06-12T11:53:10              3   \n",
              "2                  3  2020-06-11T15:19:03              3   \n",
              "3                  3  2020-06-11T10:42:29              3   \n",
              "4                  3  2020-06-11T09:25:19              3   \n",
              "..               ...                  ...            ...   \n",
              "314                4  2020-03-23T12:54:35              2   \n",
              "315                4  2020-03-23T12:30:52              2   \n",
              "316                4  2020-03-23T11:27:40              2   \n",
              "317                4  2020-03-23T11:20:50              2   \n",
              "318                4  2020-03-23T11:07:07              2   \n",
              "\n",
              "                                        commit_message  bugs  \n",
              "0               объяснения предсказаний с помощью lime     4  \n",
              "1                            Поставил lime вместо eli5     3  \n",
              "2                Скрипт для создния пакетов обновления     4  \n",
              "3                         Сортировка весов по убыванию     3  \n",
              "4    не надо конвертировать массив до операции по с...     7  \n",
              "..                                                 ...   ...  \n",
              "314                                   setting hostname     1  \n",
              "315                       heralding default dockerfile     2  \n",
              "316         unnesserity /data path permissions setting     3  \n",
              "317                                added trapconductor     1  \n",
              "318                                             sensor     1  \n",
              "\n",
              "[319 rows x 5 columns]"
            ]
          },
          "execution_count": 523,
          "metadata": {},
          "output_type": "execute_result"
        }
      ],
      "source": [
        "df"
      ]
    },
    {
      "cell_type": "code",
      "execution_count": null,
      "metadata": {
        "id": "jYo_9BFobpUO"
      },
      "outputs": [],
      "source": [
        "embeds_info = {col : (len(df[col].unique()), compute_embed_dim(len(df[col].unique()))) for col in [\"repository_name\", \"commit_author\"]}"
      ]
    },
    {
      "cell_type": "code",
      "execution_count": null,
      "metadata": {
        "id": "FEckWi-9bpUO",
        "outputId": "d649c91f-ba2e-4544-cd52-d3f40942b14f"
      },
      "outputs": [
        {
          "data": {
            "text/plain": [
              "{'repository_name': (6, 4), 'commit_author': (4, 3)}"
            ]
          },
          "execution_count": 525,
          "metadata": {},
          "output_type": "execute_result"
        }
      ],
      "source": [
        "embeds_info"
      ]
    },
    {
      "cell_type": "code",
      "execution_count": null,
      "metadata": {
        "id": "ELyETVC5bpUO"
      },
      "outputs": [],
      "source": [
        "df.commit_date = pd.to_datetime(df.commit_date)\n",
        "\n",
        "df[\"day\"] = df.commit_date.apply(lambda x: x.weekday())\n",
        "df[\"day\"] = df[\"day\"].apply(lambda x: 1 if x in list(range(0, 5)) else 0)\n",
        "\n",
        "df[\"hour\"] = df.commit_date.apply(lambda x: x.hour)\n",
        "df[\"hour\"] = df[\"hour\"].apply(lambda x: 1 if x in list(range(8, 19)) else 0)"
      ]
    },
    {
      "cell_type": "code",
      "execution_count": null,
      "metadata": {
        "id": "NcyUECEMbpUP",
        "outputId": "dba7e10a-1ae4-442b-8283-74158e6c7e02"
      },
      "outputs": [
        {
          "data": {
            "text/html": [
              "<div>\n",
              "<style scoped>\n",
              "    .dataframe tbody tr th:only-of-type {\n",
              "        vertical-align: middle;\n",
              "    }\n",
              "\n",
              "    .dataframe tbody tr th {\n",
              "        vertical-align: top;\n",
              "    }\n",
              "\n",
              "    .dataframe thead th {\n",
              "        text-align: right;\n",
              "    }\n",
              "</style>\n",
              "<table border=\"1\" class=\"dataframe\">\n",
              "  <thead>\n",
              "    <tr style=\"text-align: right;\">\n",
              "      <th></th>\n",
              "      <th>repository_name</th>\n",
              "      <th>commit_date</th>\n",
              "      <th>commit_author</th>\n",
              "      <th>commit_message</th>\n",
              "      <th>bugs</th>\n",
              "      <th>day</th>\n",
              "      <th>hour</th>\n",
              "    </tr>\n",
              "  </thead>\n",
              "  <tbody>\n",
              "    <tr>\n",
              "      <th>0</th>\n",
              "      <td>3</td>\n",
              "      <td>2020-06-12 14:26:12</td>\n",
              "      <td>3</td>\n",
              "      <td>объяснения предсказаний с помощью lime</td>\n",
              "      <td>4</td>\n",
              "      <td>1</td>\n",
              "      <td>1</td>\n",
              "    </tr>\n",
              "    <tr>\n",
              "      <th>1</th>\n",
              "      <td>3</td>\n",
              "      <td>2020-06-12 11:53:10</td>\n",
              "      <td>3</td>\n",
              "      <td>Поставил lime вместо eli5</td>\n",
              "      <td>3</td>\n",
              "      <td>1</td>\n",
              "      <td>1</td>\n",
              "    </tr>\n",
              "    <tr>\n",
              "      <th>2</th>\n",
              "      <td>3</td>\n",
              "      <td>2020-06-11 15:19:03</td>\n",
              "      <td>3</td>\n",
              "      <td>Скрипт для создния пакетов обновления</td>\n",
              "      <td>4</td>\n",
              "      <td>1</td>\n",
              "      <td>1</td>\n",
              "    </tr>\n",
              "    <tr>\n",
              "      <th>3</th>\n",
              "      <td>3</td>\n",
              "      <td>2020-06-11 10:42:29</td>\n",
              "      <td>3</td>\n",
              "      <td>Сортировка весов по убыванию</td>\n",
              "      <td>3</td>\n",
              "      <td>1</td>\n",
              "      <td>1</td>\n",
              "    </tr>\n",
              "    <tr>\n",
              "      <th>4</th>\n",
              "      <td>3</td>\n",
              "      <td>2020-06-11 09:25:19</td>\n",
              "      <td>3</td>\n",
              "      <td>не надо конвертировать массив до операции по с...</td>\n",
              "      <td>7</td>\n",
              "      <td>1</td>\n",
              "      <td>1</td>\n",
              "    </tr>\n",
              "  </tbody>\n",
              "</table>\n",
              "</div>"
            ],
            "text/plain": [
              "   repository_name         commit_date  commit_author  \\\n",
              "0                3 2020-06-12 14:26:12              3   \n",
              "1                3 2020-06-12 11:53:10              3   \n",
              "2                3 2020-06-11 15:19:03              3   \n",
              "3                3 2020-06-11 10:42:29              3   \n",
              "4                3 2020-06-11 09:25:19              3   \n",
              "\n",
              "                                      commit_message  bugs  day  hour  \n",
              "0             объяснения предсказаний с помощью lime     4    1     1  \n",
              "1                          Поставил lime вместо eli5     3    1     1  \n",
              "2              Скрипт для создния пакетов обновления     4    1     1  \n",
              "3                       Сортировка весов по убыванию     3    1     1  \n",
              "4  не надо конвертировать массив до операции по с...     7    1     1  "
            ]
          },
          "execution_count": 527,
          "metadata": {},
          "output_type": "execute_result"
        }
      ],
      "source": [
        "df.head()"
      ]
    },
    {
      "cell_type": "code",
      "execution_count": null,
      "metadata": {
        "id": "DyEjAb_TbpUP"
      },
      "outputs": [],
      "source": [
        "X_idx_tab_emb = df[[\"repository_name\", \"commit_author\"]]\n",
        "X_cont = df.drop(columns=[\"commit_message\", \"bugs\", \"repository_name\", \"commit_author\", \"commit_date\"])\n",
        "\n",
        "y = df[\"bugs\"]"
      ]
    },
    {
      "cell_type": "code",
      "execution_count": null,
      "metadata": {
        "id": "GMYPz2u5bpUP",
        "outputId": "15b5064b-0f41-4b7c-c5b4-878d33b2e617"
      },
      "outputs": [
        {
          "data": {
            "text/html": [
              "<div>\n",
              "<style scoped>\n",
              "    .dataframe tbody tr th:only-of-type {\n",
              "        vertical-align: middle;\n",
              "    }\n",
              "\n",
              "    .dataframe tbody tr th {\n",
              "        vertical-align: top;\n",
              "    }\n",
              "\n",
              "    .dataframe thead th {\n",
              "        text-align: right;\n",
              "    }\n",
              "</style>\n",
              "<table border=\"1\" class=\"dataframe\">\n",
              "  <thead>\n",
              "    <tr style=\"text-align: right;\">\n",
              "      <th></th>\n",
              "      <th>day</th>\n",
              "      <th>hour</th>\n",
              "    </tr>\n",
              "  </thead>\n",
              "  <tbody>\n",
              "    <tr>\n",
              "      <th>0</th>\n",
              "      <td>1</td>\n",
              "      <td>1</td>\n",
              "    </tr>\n",
              "    <tr>\n",
              "      <th>1</th>\n",
              "      <td>1</td>\n",
              "      <td>1</td>\n",
              "    </tr>\n",
              "    <tr>\n",
              "      <th>2</th>\n",
              "      <td>1</td>\n",
              "      <td>1</td>\n",
              "    </tr>\n",
              "    <tr>\n",
              "      <th>3</th>\n",
              "      <td>1</td>\n",
              "      <td>1</td>\n",
              "    </tr>\n",
              "    <tr>\n",
              "      <th>4</th>\n",
              "      <td>1</td>\n",
              "      <td>1</td>\n",
              "    </tr>\n",
              "  </tbody>\n",
              "</table>\n",
              "</div>"
            ],
            "text/plain": [
              "   day  hour\n",
              "0    1     1\n",
              "1    1     1\n",
              "2    1     1\n",
              "3    1     1\n",
              "4    1     1"
            ]
          },
          "execution_count": 529,
          "metadata": {},
          "output_type": "execute_result"
        }
      ],
      "source": [
        "X_cont.head()"
      ]
    },
    {
      "cell_type": "code",
      "execution_count": null,
      "metadata": {
        "id": "9iP1twzObpUP"
      },
      "outputs": [],
      "source": [
        "temp_train, temp_test, _, _ = train_test_split(X_cont, y, random_state=42)\n",
        "\n",
        "train_idxs, test_idxs = temp_train.index, temp_test.index "
      ]
    },
    {
      "cell_type": "code",
      "execution_count": null,
      "metadata": {
        "id": "rRs0O_2ibpUP"
      },
      "outputs": [],
      "source": [
        "msg_embs = f_g.pretrained_model_sentence_emb(df.commit_message.values)\n",
        "\n",
        "X_cont = np.concatenate((X_cont.to_numpy(), msg_embs), axis=1)"
      ]
    },
    {
      "cell_type": "code",
      "execution_count": null,
      "metadata": {
        "id": "0iCi_53ZbpUQ"
      },
      "outputs": [],
      "source": [
        "X_cont_train, X_cont_test = X_cont[train_idxs], X_cont[test_idxs]"
      ]
    },
    {
      "cell_type": "code",
      "execution_count": null,
      "metadata": {
        "id": "TiBH3gQbbpUQ"
      },
      "outputs": [],
      "source": [
        "y_train, y_test = y[train_idxs], y[test_idxs]"
      ]
    },
    {
      "cell_type": "code",
      "execution_count": null,
      "metadata": {
        "id": "nZIPzJTxbpUQ"
      },
      "outputs": [],
      "source": [
        "X_idx_tab_emb_train = X_idx_tab_emb.loc[train_idxs]\n",
        "X_idx_tab_emb_test = X_idx_tab_emb.loc[test_idxs]"
      ]
    },
    {
      "cell_type": "code",
      "execution_count": null,
      "metadata": {
        "id": "1LOc1FlsbpUQ",
        "outputId": "cb1353ba-5134-4d1f-da9c-d9338b00d725"
      },
      "outputs": [
        {
          "data": {
            "text/plain": [
              "(239, 514)"
            ]
          },
          "execution_count": 535,
          "metadata": {},
          "output_type": "execute_result"
        }
      ],
      "source": [
        "X_cont_train.shape"
      ]
    },
    {
      "cell_type": "code",
      "execution_count": null,
      "metadata": {
        "id": "XF1xQgl0bpUQ"
      },
      "outputs": [],
      "source": [
        "X_idx_tab_emb_train = torch.from_numpy(X_idx_tab_emb_train.to_numpy())\n",
        "y_train = torch.from_numpy(y_train.to_numpy().astype(np.float32)).view(y_train.shape[0], 1)\n",
        "X_cont_train = torch.from_numpy(X_cont_train.astype(np.float32))\n",
        "\n",
        "X_idx_tab_emb_test = torch.from_numpy(X_idx_tab_emb_test.to_numpy())\n",
        "y_test = torch.from_numpy(y_test.to_numpy().astype(np.float32)).view(y_test.shape[0], 1)\n",
        "X_cont_test = torch.from_numpy(X_cont_test.astype(np.float32))"
      ]
    },
    {
      "cell_type": "code",
      "execution_count": null,
      "metadata": {
        "id": "ys5i07dxbpUQ"
      },
      "outputs": [],
      "source": [
        "class MyModel(nn.Module):\n",
        "    def __init__(self, embedding_sizes):\n",
        "        super().__init__()\n",
        "        self.embs = nn.ModuleList([\n",
        "            nn.Embedding(embedding_sizes[\"repository_name\"][0], embedding_sizes[\"repository_name\"][1]),\n",
        "            nn.Embedding(embedding_sizes[\"commit_author\"][0], embedding_sizes[\"commit_author\"][1])\n",
        "        ])\n",
        "        \n",
        "        self.lin1 = nn.Linear(514 + 7, 300)\n",
        "        self.lin2 = nn.Linear(300, 100)\n",
        "        self.lin3 = nn.Linear(100, 1)\n",
        "    \n",
        "    def forward(self, x_cat, x_cont):\n",
        "        x = [emb(x_cat[:,i]) for i, emb in enumerate(self.embs)]\n",
        "        x = torch.cat(x, 1)\n",
        "        x = torch.cat([x, x_cont], 1)\n",
        "        x = F.relu(self.lin1(x))\n",
        "        x = F.relu(self.lin2(x))\n",
        "        return self.lin3(x)\n"
      ]
    },
    {
      "cell_type": "code",
      "execution_count": null,
      "metadata": {
        "id": "oBmWm62kbpUR"
      },
      "outputs": [],
      "source": [
        "model = MyModel(embeds_info)"
      ]
    },
    {
      "cell_type": "code",
      "execution_count": null,
      "metadata": {
        "id": "2rixvjGpbpUR",
        "outputId": "aac07ed9-f463-4a72-cf1f-7485bf35a76d"
      },
      "outputs": [
        {
          "name": "stderr",
          "output_type": "stream",
          "text": [
            "100%|██████████| 15000/15000 [01:05<00:00, 229.55it/s]\n"
          ]
        }
      ],
      "source": [
        "criterion = nn.MSELoss()\n",
        "optimizer = torch.optim.SGD(model.parameters(), lr=0.001, weight_decay=0.0001)\n",
        "\n",
        "num_epochs = 15000\n",
        "\n",
        "model.train()\n",
        "\n",
        "for epoch in tqdm(range(num_epochs)):\n",
        "    optimizer.zero_grad()\n",
        "    y_predicted = model(X_idx_tab_emb_train, X_cont_train)\n",
        "    loss = criterion(y_predicted, y_train)\n",
        "    loss.backward()\n",
        "    optimizer.step()"
      ]
    },
    {
      "cell_type": "code",
      "execution_count": null,
      "metadata": {
        "id": "KyvbvlGtbpUR",
        "outputId": "8be01861-4773-4583-9cbc-75ef7399ea9c"
      },
      "outputs": [
        {
          "name": "stdout",
          "output_type": "stream",
          "text": [
            "tensor(1.0684, grad_fn=<MseLossBackward0>)\n"
          ]
        }
      ],
      "source": [
        "model.eval()\n",
        "\n",
        "y_pred = model(X_idx_tab_emb_test, X_cont_test)\n",
        "\n",
        "print(criterion(y_pred, y_test))"
      ]
    },
    {
      "cell_type": "code",
      "execution_count": null,
      "metadata": {
        "id": "nSPFnChRbpUR"
      },
      "outputs": [],
      "source": [
        ""
      ]
    },
    {
      "cell_type": "code",
      "execution_count": null,
      "metadata": {
        "id": "oJA-f298bpUR"
      },
      "outputs": [],
      "source": [
        ""
      ]
    },
    {
      "cell_type": "code",
      "execution_count": null,
      "metadata": {
        "id": "FDoOVB0SbpUR"
      },
      "outputs": [],
      "source": [
        ""
      ]
    }
  ],
  "metadata": {
    "kernelspec": {
      "display_name": "Python 3.9.12 ('avsoft_test_task')",
      "language": "python",
      "name": "python3"
    },
    "language_info": {
      "codemirror_mode": {
        "name": "ipython",
        "version": 3
      },
      "file_extension": ".py",
      "mimetype": "text/x-python",
      "name": "python",
      "nbconvert_exporter": "python",
      "pygments_lexer": "ipython3",
      "version": "3.9.12"
    },
    "orig_nbformat": 4,
    "vscode": {
      "interpreter": {
        "hash": "55b5977c218ce617a475901f98f0c5239dda01575bc0160c4b4058a44613146e"
      }
    },
    "colab": {
      "name": "nn_test.ipynb",
      "provenance": []
    }
  },
  "nbformat": 4,
  "nbformat_minor": 0
}