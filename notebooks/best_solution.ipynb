{
 "cells": [
  {
   "cell_type": "code",
   "execution_count": 1,
   "metadata": {},
   "outputs": [
    {
     "name": "stderr",
     "output_type": "stream",
     "text": [
      "c:\\Users\\DungeonMaster3000\\.conda\\envs\\avsoft_test_task\\lib\\site-packages\\tqdm\\auto.py:22: TqdmWarning: IProgress not found. Please update jupyter and ipywidgets. See https://ipywidgets.readthedocs.io/en/stable/user_install.html\n",
      "  from .autonotebook import tqdm as notebook_tqdm\n",
      "[nltk_data] Downloading package stopwords to\n",
      "[nltk_data]     C:\\Users\\DungeonMaster3000\\AppData\\Roaming\\nltk_data..\n",
      "[nltk_data]     .\n",
      "[nltk_data]   Package stopwords is already up-to-date!\n"
     ]
    }
   ],
   "source": [
    "import pandas as pd\n",
    "import sys\n",
    "from sklearn.linear_model import Ridge\n",
    "from sklearn.neural_network import MLPRegressor\n",
    "from sklearn.model_selection import GridSearchCV, KFold, cross_val_score\n",
    "from sentence_transformers import SentenceTransformer\n",
    "import numpy as np\n",
    "from lightgbm import LGBMRegressor\n",
    "from sklearn.ensemble import GradientBoostingRegressor\n",
    "from catboost import CatBoostRegressor\n",
    "\n",
    "sys.path.append(\"../\")\n",
    "import src.data_utils as d_u\n",
    "import src.feats_generation as f_g\n",
    "import src.eval_utils as e_u"
   ]
  },
  {
   "cell_type": "markdown",
   "metadata": {},
   "source": [
    "Сначала с помощью подбора гиперпараметров посмотрим, какое наилучшее решение мы можем получить, используя линейную регрессию с L2 регуляризацией"
   ]
  },
  {
   "cell_type": "code",
   "execution_count": 2,
   "metadata": {},
   "outputs": [],
   "source": [
    "# Получим предобработанный датасет\n",
    "\n",
    "df = d_u.get_preprocess_data()\n",
    "\n",
    "X = df.drop(columns=[\"commit_message\", \"bugs\"])\n",
    "y = df.bugs\n",
    "\n",
    "msg_embs = f_g.pretrained_model_sentence_emb(df.commit_message.values)\n",
    "\n",
    "X = np.concatenate((X.to_numpy(), msg_embs), axis=1)"
   ]
  },
  {
   "cell_type": "code",
   "execution_count": 3,
   "metadata": {},
   "outputs": [],
   "source": [
    "# конфигурация для поиска наилучшего решения\n",
    "\n",
    "ridge_config = {\n",
    "    \"alpha\": [0.5, 1.0, 1.5, 5.0, 10],\n",
    "    \"solver\": [\"auto\", \"svd\", \"cholesky\", \"sag\"],\n",
    "    \"random_state\": [42],\n",
    "    \"tol\": [1e-2, 1e-3, 1e-4]\n",
    "}\n"
   ]
  },
  {
   "cell_type": "code",
   "execution_count": 14,
   "metadata": {},
   "outputs": [
    {
     "name": "stdout",
     "output_type": "stream",
     "text": [
      "Fitting 5 folds for each of 60 candidates, totalling 300 fits\n",
      "{'alpha': 0.5, 'random_state': 42, 'solver': 'sag', 'tol': 0.01}\n",
      "-1.3645594120400553\n"
     ]
    }
   ],
   "source": [
    "cv = KFold(n_splits=5, shuffle=True, random_state=42)\n",
    "\n",
    "model_ridge = Ridge(random_state=42)\n",
    "gs_ridge = GridSearchCV(model_ridge, ridge_config, cv=cv, scoring=\"neg_mean_squared_error\", verbose=1)\n",
    "search = gs_ridge.fit(X, y)\n",
    "\n",
    "# Посмотрим на лучшие параметры и лучшую оценку\n",
    "\n",
    "print(gs_ridge.best_params_)\n",
    "print(gs_ridge.best_score_)"
   ]
  },
  {
   "cell_type": "markdown",
   "metadata": {},
   "source": [
    "Коэффициент детерминации для линейной модели"
   ]
  },
  {
   "cell_type": "code",
   "execution_count": 20,
   "metadata": {},
   "outputs": [
    {
     "name": "stdout",
     "output_type": "stream",
     "text": [
      "Fitting 5 folds for each of 60 candidates, totalling 300 fits\n",
      "{'alpha': 1.0, 'random_state': 42, 'solver': 'sag', 'tol': 0.001}\n",
      "0.5903246804521681\n"
     ]
    }
   ],
   "source": [
    "model_ridge = Ridge(random_state=42)\n",
    "gs_ridge = GridSearchCV(model_ridge, ridge_config, cv=cv, scoring=\"r2\", verbose=1)\n",
    "search = gs_ridge.fit(X, y)\n",
    "\n",
    "# Посмотрим на лучшие параметры и лучшую оценку\n",
    "\n",
    "print(gs_ridge.best_params_)\n",
    "print(gs_ridge.best_score_)"
   ]
  },
  {
   "cell_type": "markdown",
   "metadata": {},
   "source": [
    "Лучшее качество для линейной модели с L2 регуляризацией - 1.3645594120400553"
   ]
  },
  {
   "cell_type": "markdown",
   "metadata": {},
   "source": [
    "Теперь подберем параметры для нейронной сети из sklearn"
   ]
  },
  {
   "cell_type": "code",
   "execution_count": 22,
   "metadata": {},
   "outputs": [],
   "source": [
    "nn_config = {\n",
    "    \"hidden_layer_sizes\": [(100,), (300, 100,), (300, 100, 50)],\n",
    "    \"activation\": [\"logistic\", \"tanh\", \"relu\"],\n",
    "    \"solver\": [\"sgd\", \"adam\"],\n",
    "    \"learning_rate\": [\"constant\", \"invscaling\", \"adaptive\"],\n",
    "    \"random_state\": [42],\n",
    "    \"max_iter\": [10000]\n",
    "}"
   ]
  },
  {
   "cell_type": "code",
   "execution_count": 23,
   "metadata": {},
   "outputs": [
    {
     "name": "stdout",
     "output_type": "stream",
     "text": [
      "Fitting 5 folds for each of 54 candidates, totalling 270 fits\n",
      "{'activation': 'relu', 'hidden_layer_sizes': (300, 100), 'learning_rate': 'constant', 'max_iter': 10000, 'random_state': 42, 'solver': 'sgd'}\n",
      "-1.0978673099828316\n"
     ]
    }
   ],
   "source": [
    "cv = KFold(n_splits=5, shuffle=True, random_state=42)\n",
    "\n",
    "model_nn = MLPRegressor(random_state=42)\n",
    "gs_nn = GridSearchCV(model_nn, nn_config, cv=cv, scoring=\"neg_mean_squared_error\", verbose=1)\n",
    "search = gs_nn.fit(X, y)\n",
    "\n",
    "# Посмотрим на лучшие параметры и лучшую оценку\n",
    "\n",
    "print(search.best_params_)\n",
    "print(search.best_score_)"
   ]
  },
  {
   "cell_type": "markdown",
   "metadata": {},
   "source": [
    "Коэффициент детерминации для нейронной сети"
   ]
  },
  {
   "cell_type": "code",
   "execution_count": 24,
   "metadata": {},
   "outputs": [
    {
     "name": "stdout",
     "output_type": "stream",
     "text": [
      "Fitting 5 folds for each of 54 candidates, totalling 270 fits\n",
      "{'activation': 'relu', 'hidden_layer_sizes': (300, 100), 'learning_rate': 'adaptive', 'max_iter': 10000, 'random_state': 42, 'solver': 'sgd'}\n",
      "0.663177781335307\n"
     ]
    }
   ],
   "source": [
    "model_nn = MLPRegressor(random_state=42)\n",
    "gs_nn = GridSearchCV(model_nn, nn_config, cv=cv, scoring=\"r2\", verbose=1)\n",
    "search = gs_nn.fit(X, y)\n",
    "\n",
    "# Посмотрим на лучшие параметры и лучшую оценку\n",
    "\n",
    "print(search.best_params_)\n",
    "print(search.best_score_)"
   ]
  },
  {
   "cell_type": "markdown",
   "metadata": {},
   "source": [
    "Лучшее качество для нейронной сети - 1.0978673099828316"
   ]
  },
  {
   "cell_type": "markdown",
   "metadata": {},
   "source": [
    "Теперь попробуем подобрать параметры для градиентного бустинга"
   ]
  },
  {
   "cell_type": "code",
   "execution_count": 25,
   "metadata": {},
   "outputs": [],
   "source": [
    "gb_config = {\n",
    "    \"loss\": [\"squared_error\", \"absolute_error\", \"huber\"],\n",
    "    \"learning_rate\": [0.1, 0.5, 1.0],\n",
    "    \"n_estimators\": [100, 150, 200],\n",
    "    \"criterion\": [\"squared_error\"],\n",
    "    \"max_depth\": [3, 5, 7],\n",
    "    \"random_state\": [42]    \n",
    "}"
   ]
  },
  {
   "cell_type": "code",
   "execution_count": 27,
   "metadata": {},
   "outputs": [
    {
     "name": "stdout",
     "output_type": "stream",
     "text": [
      "Fitting 5 folds for each of 81 candidates, totalling 405 fits\n",
      "{'criterion': 'squared_error', 'learning_rate': 0.1, 'loss': 'squared_error', 'max_depth': 3, 'n_estimators': 150, 'random_state': 42}\n",
      "-1.4590573214275597\n"
     ]
    }
   ],
   "source": [
    "cv = KFold(n_splits=5, shuffle=True, random_state=42)\n",
    "\n",
    "model_gb = GradientBoostingRegressor(random_state=42)\n",
    "gs_gb = GridSearchCV(model_gb, gb_config, cv=cv, scoring=\"neg_mean_squared_error\", verbose=1)\n",
    "search = gs_gb.fit(X, y)\n",
    "\n",
    "# Посмотрим на лучшие параметры и лучшую оценку\n",
    "\n",
    "print(search.best_params_)\n",
    "print(search.best_score_)"
   ]
  },
  {
   "cell_type": "markdown",
   "metadata": {},
   "source": [
    "Коэффициент детерминации для градиентного бустинга"
   ]
  },
  {
   "cell_type": "code",
   "execution_count": 28,
   "metadata": {},
   "outputs": [
    {
     "name": "stdout",
     "output_type": "stream",
     "text": [
      "Fitting 5 folds for each of 81 candidates, totalling 405 fits\n",
      "{'criterion': 'squared_error', 'learning_rate': 0.1, 'loss': 'squared_error', 'max_depth': 3, 'n_estimators': 150, 'random_state': 42}\n",
      "0.5730774817621374\n"
     ]
    }
   ],
   "source": [
    "model_gb = GradientBoostingRegressor(random_state=42)\n",
    "gs_gb = GridSearchCV(model_gb, gb_config, cv=cv, scoring=\"r2\", verbose=1)\n",
    "search = gs_gb.fit(X, y)"
   ]
  },
  {
   "cell_type": "code",
   "execution_count": 29,
   "metadata": {},
   "outputs": [
    {
     "name": "stdout",
     "output_type": "stream",
     "text": [
      "{'criterion': 'squared_error', 'learning_rate': 0.1, 'loss': 'squared_error', 'max_depth': 3, 'n_estimators': 150, 'random_state': 42}\n",
      "0.5730774817621374\n"
     ]
    }
   ],
   "source": [
    "# Посмотрим на лучшие параметры и лучшую оценку\n",
    "print(search.best_params_)\n",
    "print(search.best_score_)"
   ]
  },
  {
   "cell_type": "markdown",
   "metadata": {},
   "source": [
    "Градиентный бустинг дает качество на даннной задаче значительно хуже нежели Ridge и MLP"
   ]
  },
  {
   "cell_type": "markdown",
   "metadata": {},
   "source": [
    "Попробуем специализированные библиотеки для градиентного бустинга"
   ]
  },
  {
   "cell_type": "code",
   "execution_count": 30,
   "metadata": {},
   "outputs": [
    {
     "name": "stdout",
     "output_type": "stream",
     "text": [
      "MSE:\n",
      "-1.7115090825707544\n",
      "R2:\n",
      "0.4976710368532662\n"
     ]
    }
   ],
   "source": [
    "cv = KFold(n_splits=5, shuffle=True, random_state=42)\n",
    "\n",
    "model_lgb = LGBMRegressor(random_state=42)\n",
    "\n",
    "print(\"MSE:\")\n",
    "print(np.mean(cross_val_score(model_lgb, X, y, cv=cv, scoring=\"neg_mean_squared_error\")))\n",
    "print(\"R2:\")\n",
    "print(np.mean(cross_val_score(model_lgb, X, y, cv=cv, scoring=\"r2\")))"
   ]
  },
  {
   "cell_type": "code",
   "execution_count": 31,
   "metadata": {},
   "outputs": [
    {
     "name": "stdout",
     "output_type": "stream",
     "text": [
      "MSE:\n",
      "-1.4879989582292803\n",
      "R2:\n",
      "0.5650289740256935\n"
     ]
    }
   ],
   "source": [
    "cv = KFold(n_splits=5, shuffle=True, random_state=42)\n",
    "\n",
    "model_cgb = CatBoostRegressor(random_state=42, verbose=0)\n",
    "\n",
    "print(\"MSE:\")\n",
    "print(np.mean(cross_val_score(model_cgb, X, y, cv=cv, scoring=\"neg_mean_squared_error\")))\n",
    "print(\"R2:\")\n",
    "print(np.mean(cross_val_score(model_cgb, X, y, cv=cv, scoring=\"r2\")))"
   ]
  },
  {
   "cell_type": "markdown",
   "metadata": {},
   "source": [
    "У базового регрессора из catboost качество получилось близкое к качеству модели градиентного бустинга из sklearn с параметрами, подобранными по сетке. Попробуем применить его без ручной предобработки категориальных признаков"
   ]
  },
  {
   "cell_type": "code",
   "execution_count": 32,
   "metadata": {},
   "outputs": [],
   "source": [
    "df = pd.read_csv(\"../data/raw/АВСОФТ_тест_ML_приложение.csv\")\n",
    "df.drop(columns=[\"commit_hash\"], inplace=True)\n",
    "\n",
    "df[\"commit_date\"] = pd.to_datetime(df.commit_date)\n",
    "\n",
    "df = f_g.encode_work_days(df)\n",
    "df = f_g.encode_work_hours(df)\n",
    "\n",
    "if \"commit_date\" in df.columns:\n",
    "    df.drop(columns=[\"commit_date\"], inplace=True)\n",
    "\n",
    "X = df.drop(columns=[\"commit_message\", \"bugs\"])\n",
    "y = df.bugs\n",
    "\n",
    "msg_embs = f_g.pretrained_model_sentence_emb(df.commit_message.values)\n",
    "\n",
    "X = pd.concat((X, pd.DataFrame(msg_embs)), axis=1)"
   ]
  },
  {
   "cell_type": "code",
   "execution_count": 33,
   "metadata": {},
   "outputs": [
    {
     "data": {
      "text/html": [
       "<div>\n",
       "<style scoped>\n",
       "    .dataframe tbody tr th:only-of-type {\n",
       "        vertical-align: middle;\n",
       "    }\n",
       "\n",
       "    .dataframe tbody tr th {\n",
       "        vertical-align: top;\n",
       "    }\n",
       "\n",
       "    .dataframe thead th {\n",
       "        text-align: right;\n",
       "    }\n",
       "</style>\n",
       "<table border=\"1\" class=\"dataframe\">\n",
       "  <thead>\n",
       "    <tr style=\"text-align: right;\">\n",
       "      <th></th>\n",
       "      <th>repository_name</th>\n",
       "      <th>commit_author</th>\n",
       "      <th>no_work_d</th>\n",
       "      <th>work_d</th>\n",
       "      <th>no_work_h</th>\n",
       "      <th>work_h</th>\n",
       "      <th>0</th>\n",
       "      <th>1</th>\n",
       "      <th>2</th>\n",
       "      <th>3</th>\n",
       "      <th>...</th>\n",
       "      <th>502</th>\n",
       "      <th>503</th>\n",
       "      <th>504</th>\n",
       "      <th>505</th>\n",
       "      <th>506</th>\n",
       "      <th>507</th>\n",
       "      <th>508</th>\n",
       "      <th>509</th>\n",
       "      <th>510</th>\n",
       "      <th>511</th>\n",
       "    </tr>\n",
       "  </thead>\n",
       "  <tbody>\n",
       "    <tr>\n",
       "      <th>229</th>\n",
       "      <td>sensor</td>\n",
       "      <td>Victor</td>\n",
       "      <td>0</td>\n",
       "      <td>1</td>\n",
       "      <td>0</td>\n",
       "      <td>1</td>\n",
       "      <td>-0.016877</td>\n",
       "      <td>0.027794</td>\n",
       "      <td>0.049338</td>\n",
       "      <td>0.006484</td>\n",
       "      <td>...</td>\n",
       "      <td>0.038219</td>\n",
       "      <td>-0.019692</td>\n",
       "      <td>-0.002961</td>\n",
       "      <td>0.113271</td>\n",
       "      <td>0.001113</td>\n",
       "      <td>-0.034759</td>\n",
       "      <td>-0.046529</td>\n",
       "      <td>0.037617</td>\n",
       "      <td>-0.080065</td>\n",
       "      <td>-0.019196</td>\n",
       "    </tr>\n",
       "    <tr>\n",
       "      <th>109</th>\n",
       "      <td>conductor</td>\n",
       "      <td>Wendy</td>\n",
       "      <td>0</td>\n",
       "      <td>1</td>\n",
       "      <td>0</td>\n",
       "      <td>1</td>\n",
       "      <td>0.016724</td>\n",
       "      <td>0.067799</td>\n",
       "      <td>-0.023899</td>\n",
       "      <td>-0.049798</td>\n",
       "      <td>...</td>\n",
       "      <td>-0.009636</td>\n",
       "      <td>-0.063183</td>\n",
       "      <td>-0.002601</td>\n",
       "      <td>0.025828</td>\n",
       "      <td>-0.016108</td>\n",
       "      <td>-0.094530</td>\n",
       "      <td>-0.004286</td>\n",
       "      <td>0.068062</td>\n",
       "      <td>-0.022065</td>\n",
       "      <td>-0.052371</td>\n",
       "    </tr>\n",
       "    <tr>\n",
       "      <th>270</th>\n",
       "      <td>sensor</td>\n",
       "      <td>Victor</td>\n",
       "      <td>0</td>\n",
       "      <td>1</td>\n",
       "      <td>1</td>\n",
       "      <td>0</td>\n",
       "      <td>0.010032</td>\n",
       "      <td>0.045232</td>\n",
       "      <td>-0.018128</td>\n",
       "      <td>0.035715</td>\n",
       "      <td>...</td>\n",
       "      <td>0.034483</td>\n",
       "      <td>0.004908</td>\n",
       "      <td>0.025319</td>\n",
       "      <td>-0.036731</td>\n",
       "      <td>-0.037718</td>\n",
       "      <td>-0.067906</td>\n",
       "      <td>-0.025513</td>\n",
       "      <td>0.016430</td>\n",
       "      <td>-0.076118</td>\n",
       "      <td>0.006357</td>\n",
       "    </tr>\n",
       "  </tbody>\n",
       "</table>\n",
       "<p>3 rows × 518 columns</p>\n",
       "</div>"
      ],
      "text/plain": [
       "    repository_name commit_author  no_work_d  work_d  no_work_h  work_h  \\\n",
       "229          sensor        Victor          0       1          0       1   \n",
       "109       conductor         Wendy          0       1          0       1   \n",
       "270          sensor        Victor          0       1          1       0   \n",
       "\n",
       "            0         1         2         3  ...       502       503  \\\n",
       "229 -0.016877  0.027794  0.049338  0.006484  ...  0.038219 -0.019692   \n",
       "109  0.016724  0.067799 -0.023899 -0.049798  ... -0.009636 -0.063183   \n",
       "270  0.010032  0.045232 -0.018128  0.035715  ...  0.034483  0.004908   \n",
       "\n",
       "          504       505       506       507       508       509       510  \\\n",
       "229 -0.002961  0.113271  0.001113 -0.034759 -0.046529  0.037617 -0.080065   \n",
       "109 -0.002601  0.025828 -0.016108 -0.094530 -0.004286  0.068062 -0.022065   \n",
       "270  0.025319 -0.036731 -0.037718 -0.067906 -0.025513  0.016430 -0.076118   \n",
       "\n",
       "          511  \n",
       "229 -0.019196  \n",
       "109 -0.052371  \n",
       "270  0.006357  \n",
       "\n",
       "[3 rows x 518 columns]"
      ]
     },
     "execution_count": 33,
     "metadata": {},
     "output_type": "execute_result"
    }
   ],
   "source": [
    "X.sample(3)"
   ]
  },
  {
   "cell_type": "code",
   "execution_count": 35,
   "metadata": {},
   "outputs": [],
   "source": [
    "cv = KFold(n_splits=5, shuffle=True, random_state=42)\n",
    "\n",
    "model_cgb = CatBoostRegressor(random_state=42, verbose=0, cat_features=[\"repository_name\", \"commit_author\"])"
   ]
  },
  {
   "cell_type": "code",
   "execution_count": 36,
   "metadata": {},
   "outputs": [
    {
     "name": "stdout",
     "output_type": "stream",
     "text": [
      "MSE:\n",
      "-1.609263768264578\n"
     ]
    }
   ],
   "source": [
    "print(\"MSE:\")\n",
    "mse_score = np.mean(cross_val_score(model_cgb, X, y, cv=cv, scoring=\"neg_mean_squared_error\"))"
   ]
  },
  {
   "cell_type": "code",
   "execution_count": 38,
   "metadata": {},
   "outputs": [
    {
     "name": "stdout",
     "output_type": "stream",
     "text": [
      "-1.609263768264578\n"
     ]
    }
   ],
   "source": [
    "print(mse_score)"
   ]
  },
  {
   "cell_type": "code",
   "execution_count": 37,
   "metadata": {},
   "outputs": [
    {
     "name": "stdout",
     "output_type": "stream",
     "text": [
      "R2:\n",
      "0.531847915952463\n"
     ]
    }
   ],
   "source": [
    "print(\"R2:\")\n",
    "r2_score = np.mean(cross_val_score(model_cgb, X, y, cv=cv, scoring=\"r2\"))\n",
    "print(r2_score)"
   ]
  },
  {
   "cell_type": "markdown",
   "metadata": {},
   "source": [
    "Вряд ли подбор параметров позволит приблизиться к лидеру(нейронная сеть), однако в дальнейшем стоит поэксперементировать"
   ]
  },
  {
   "cell_type": "markdown",
   "metadata": {},
   "source": [
    "### Выводы"
   ]
  },
  {
   "cell_type": "markdown",
   "metadata": {},
   "source": [
    "Наилучшим подходом в данный момент себя показало кодирование имени репозитория, используя One-Hot Encoder, деление на 3 группы авторов комммитов по числу найденных ими ошибок и кодирование их также с помощью One-Hot Encoder. Была подтверждена гипотеза, что, учитывая смысл(хотя бы частичный) сообщения коммита, можно лучше предсказывать число найденных багов. Время коммита было преобразовано в пару полезных признаков: рабочее-нерабочее время, рабочий-выходной день недели. Я испытал как TfidfVectorizer, так и предобученную мультиязыковую модель на основе Transformer и CNN для получения эмбеддинга предложения. Второй вариант дал гораздо более сильное уменьшение средней квадратичной ошибки. Были испробованы TruncatedSVD и PCA, так как данных очень мало, а размер получаемого вектора признаков для объекта превышает общее количество объектов в имеющемся датасете. Однако, данные подходы не показали сколько-нибудь значительного улучшения качества работы модели.\n",
    "\n",
    "Лучше всего себя на данный момент показала двухслойная нейронная сеть с функцийе активации Relu. Ее mse на кросс-валидации составило 1.0978673099828316, а коэффициент детерминации - 0.663177781335307\n",
    "\n",
    "Дальнейшая работа:\n",
    "\n",
    "1. Обучить двух(трех)слойную нейронную сеть с помощью фрэймворка Pytorch с использованием слоя Embeddings для категориальных переменных, таких как имя репозитория, имя автора коммита, рабочее время, будний день недели.\n",
    "\n",
    "2. Попробовать применить стэкинг\n",
    "\n",
    "3. Подумать над тем, какие еще признаки можно сгенерировать вручную на основе времени коммита и текста сообщения коммита.\n",
    "\n",
    "4. Попробовать подобрать параметры для моделей из специализированных библиотек для градиентного бустинга(lightgbm и catboost)\n"
   ]
  },
  {
   "cell_type": "markdown",
   "metadata": {},
   "source": []
  }
 ],
 "metadata": {
  "kernelspec": {
   "display_name": "Python 3.9.12 ('avsoft_test_task')",
   "language": "python",
   "name": "python3"
  },
  "language_info": {
   "codemirror_mode": {
    "name": "ipython",
    "version": 3
   },
   "file_extension": ".py",
   "mimetype": "text/x-python",
   "name": "python",
   "nbconvert_exporter": "python",
   "pygments_lexer": "ipython3",
   "version": "3.9.12"
  },
  "orig_nbformat": 4,
  "vscode": {
   "interpreter": {
    "hash": "55b5977c218ce617a475901f98f0c5239dda01575bc0160c4b4058a44613146e"
   }
  }
 },
 "nbformat": 4,
 "nbformat_minor": 2
}
