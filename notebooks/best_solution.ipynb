{
 "cells": [
  {
   "cell_type": "code",
   "execution_count": 9,
   "metadata": {},
   "outputs": [],
   "source": [
    "import pandas as pd\n",
    "import sys\n",
    "from sklearn.linear_model import Ridge\n",
    "from sklearn.model_selection import GridSearchCV, KFold\n",
    "from sentence_transformers import SentenceTransformer\n",
    "import numpy as np\n",
    "\n",
    "sys.path.append(\"../\")\n",
    "import src.data_utils as d_u\n",
    "import src.feats_generation as f_g"
   ]
  },
  {
   "cell_type": "markdown",
   "metadata": {},
   "source": [
    "Сначала с помощью подбора гиперпараметров посмотрим, какое наилучшее решение мы можем получить, используя линейную регрессию с L2 регуляризацией"
   ]
  },
  {
   "cell_type": "code",
   "execution_count": 5,
   "metadata": {},
   "outputs": [],
   "source": [
    "# Получим предобработанный датасет\n",
    "\n",
    "df = pd.read_csv(\"../data/raw/АВСОФТ_тест_ML_приложение.csv\")\n",
    "df.drop(columns=[\"commit_hash\"], inplace=True)\n",
    "df = pd.concat([df, pd.get_dummies(df.repository_name)], axis=1)\n",
    "df.drop(columns=[\"repository_name\"], inplace=True)\n",
    "df = f_g.ohe(df, \"commit_author\")\n",
    "df[\"commit_date\"] = pd.to_datetime(df.commit_date)\n",
    "\n",
    "df = f_g.encode_work_days(df)\n",
    "df = f_g.encode_work_hours(df)\n",
    "\n",
    "if \"commit_date\" in df.columns:\n",
    "    df.drop(columns=[\"commit_date\"], inplace=True)\n",
    "\n",
    "X = df.drop(columns=[\"commit_message\", \"bugs\"])\n",
    "y = df.bugs\n",
    "\n",
    "model = SentenceTransformer('sentence-transformers/distiluse-base-multilingual-cased-v1')\n",
    "\n",
    "msg_embs = model.encode(df.commit_message.values)\n",
    "\n",
    "X = np.concatenate((X.to_numpy(), msg_embs), axis=1)"
   ]
  },
  {
   "cell_type": "code",
   "execution_count": 17,
   "metadata": {},
   "outputs": [],
   "source": [
    "# конфигурация для поиска наилучшего решения\n",
    "\n",
    "ridge_config = {\n",
    "    \"alpha\": [0.5, 1.0, 1.5, 5.0, 10],\n",
    "    \"solver\": [\"auto\", \"svd\", \"cholesky\", \"sag\"],\n",
    "    \"random_state\": [42],\n",
    "    \"tol\": [1e-2, 1e-3, 1e-4]\n",
    "}\n"
   ]
  },
  {
   "cell_type": "code",
   "execution_count": 20,
   "metadata": {},
   "outputs": [
    {
     "name": "stdout",
     "output_type": "stream",
     "text": [
      "Fitting 5 folds for each of 60 candidates, totalling 300 fits\n"
     ]
    }
   ],
   "source": [
    "cv = KFold(n_splits=5, shuffle=True, random_state=42)\n",
    "\n",
    "model_ridge = Ridge(random_state=42)\n",
    "gs_ridge = GridSearchCV(model_ridge, ridge_config, cv=cv, scoring=\"neg_mean_squared_error\", verbose=1)\n",
    "search = gs_ridge.fit(X, y)"
   ]
  },
  {
   "cell_type": "code",
   "execution_count": 21,
   "metadata": {},
   "outputs": [
    {
     "name": "stdout",
     "output_type": "stream",
     "text": [
      "{'alpha': 0.5, 'random_state': 42, 'solver': 'sag', 'tol': 0.01}\n",
      "-1.3645594120400553\n"
     ]
    }
   ],
   "source": [
    "# Посмотрим на лучшие параметры и лучшую оценку\n",
    "\n",
    "print(search.best_params_)\n",
    "print(search.best_score_)"
   ]
  },
  {
   "cell_type": "markdown",
   "metadata": {},
   "source": [
    "Лучшее качество для линейной модели с L2 регуляризацией - 1.3645594120400553"
   ]
  },
  {
   "cell_type": "markdown",
   "metadata": {},
   "source": [
    "Теперь поперебираем параметры для нейронной сети из sklearn"
   ]
  },
  {
   "cell_type": "code",
   "execution_count": null,
   "metadata": {},
   "outputs": [],
   "source": [
    "nn_config = {\n",
    "    \n",
    "}"
   ]
  }
 ],
 "metadata": {
  "kernelspec": {
   "display_name": "Python 3.9.12 ('avsoft_test_task')",
   "language": "python",
   "name": "python3"
  },
  "language_info": {
   "codemirror_mode": {
    "name": "ipython",
    "version": 3
   },
   "file_extension": ".py",
   "mimetype": "text/x-python",
   "name": "python",
   "nbconvert_exporter": "python",
   "pygments_lexer": "ipython3",
   "version": "3.9.12"
  },
  "orig_nbformat": 4,
  "vscode": {
   "interpreter": {
    "hash": "55b5977c218ce617a475901f98f0c5239dda01575bc0160c4b4058a44613146e"
   }
  }
 },
 "nbformat": 4,
 "nbformat_minor": 2
}
