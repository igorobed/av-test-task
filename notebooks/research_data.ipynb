{
 "cells": [
  {
   "cell_type": "code",
   "execution_count": 407,
   "metadata": {},
   "outputs": [],
   "source": [
    "import pandas as pd\n",
    "from sklearn.preprocessing import LabelEncoder\n",
    "from typing import List\n",
    "from sklearn.feature_extraction.text import CountVectorizer, TfidfVectorizer\n",
    "import nltk\n",
    "# nltk.download(\"stopwords\")\n",
    "from nltk.corpus import stopwords\n",
    "from nltk.tokenize import wordpunct_tokenize\n",
    "from string import punctuation\n",
    "from sklearn.preprocessing import StandardScaler\n",
    "from sklearn.model_selection import train_test_split\n",
    "from sklearn.linear_model import LinearRegression\n",
    "from sklearn.metrics import mean_squared_error\n",
    "from sklearn.ensemble import RandomForestRegressor, GradientBoostingRegressor\n",
    "from sklearn.decomposition import TruncatedSVD\n",
    "from sklearn.decomposition import PCA"
   ]
  },
  {
   "cell_type": "code",
   "execution_count": 3,
   "metadata": {},
   "outputs": [],
   "source": [
    "df = pd.read_csv(\"../data/raw/АВСОФТ_тест_ML_приложение.csv\")"
   ]
  },
  {
   "cell_type": "code",
   "execution_count": 4,
   "metadata": {},
   "outputs": [
    {
     "data": {
      "text/html": [
       "<div>\n",
       "<style scoped>\n",
       "    .dataframe tbody tr th:only-of-type {\n",
       "        vertical-align: middle;\n",
       "    }\n",
       "\n",
       "    .dataframe tbody tr th {\n",
       "        vertical-align: top;\n",
       "    }\n",
       "\n",
       "    .dataframe thead th {\n",
       "        text-align: right;\n",
       "    }\n",
       "</style>\n",
       "<table border=\"1\" class=\"dataframe\">\n",
       "  <thead>\n",
       "    <tr style=\"text-align: right;\">\n",
       "      <th></th>\n",
       "      <th>repository_name</th>\n",
       "      <th>commit_hash</th>\n",
       "      <th>commit_date</th>\n",
       "      <th>commit_author</th>\n",
       "      <th>commit_message</th>\n",
       "      <th>bugs</th>\n",
       "    </tr>\n",
       "  </thead>\n",
       "  <tbody>\n",
       "    <tr>\n",
       "      <th>37</th>\n",
       "      <td>mlm</td>\n",
       "      <td>a8b55539</td>\n",
       "      <td>2020-03-08T17:19:19</td>\n",
       "      <td>Victor</td>\n",
       "      <td>Added .gitignore</td>\n",
       "      <td>3</td>\n",
       "    </tr>\n",
       "    <tr>\n",
       "      <th>304</th>\n",
       "      <td>sensor</td>\n",
       "      <td>f946e945</td>\n",
       "      <td>2020-04-01T12:27:44</td>\n",
       "      <td>Mallory</td>\n",
       "      <td>Added logrotate</td>\n",
       "      <td>1</td>\n",
       "    </tr>\n",
       "    <tr>\n",
       "      <th>293</th>\n",
       "      <td>sensor</td>\n",
       "      <td>4f2ef924</td>\n",
       "      <td>2020-04-02T13:52:38</td>\n",
       "      <td>Mallory</td>\n",
       "      <td>Added dns trap logs in filebeat config</td>\n",
       "      <td>4</td>\n",
       "    </tr>\n",
       "    <tr>\n",
       "      <th>177</th>\n",
       "      <td>conductor</td>\n",
       "      <td>8a99dcc4</td>\n",
       "      <td>2020-03-20T10:31:11</td>\n",
       "      <td>Dabe</td>\n",
       "      <td>More flexible removing of extension in compose...</td>\n",
       "      <td>6</td>\n",
       "    </tr>\n",
       "    <tr>\n",
       "      <th>120</th>\n",
       "      <td>conductor</td>\n",
       "      <td>1e6c10c7</td>\n",
       "      <td>2020-04-24T14:05:14</td>\n",
       "      <td>Trudy</td>\n",
       "      <td>keep_alive url changed</td>\n",
       "      <td>2</td>\n",
       "    </tr>\n",
       "  </tbody>\n",
       "</table>\n",
       "</div>"
      ],
      "text/plain": [
       "    repository_name commit_hash          commit_date commit_author  \\\n",
       "37              mlm    a8b55539  2020-03-08T17:19:19        Victor   \n",
       "304          sensor    f946e945  2020-04-01T12:27:44       Mallory   \n",
       "293          sensor    4f2ef924  2020-04-02T13:52:38       Mallory   \n",
       "177       conductor    8a99dcc4  2020-03-20T10:31:11          Dabe   \n",
       "120       conductor    1e6c10c7  2020-04-24T14:05:14         Trudy   \n",
       "\n",
       "                                        commit_message  bugs  \n",
       "37                                    Added .gitignore     3  \n",
       "304                                    Added logrotate     1  \n",
       "293             Added dns trap logs in filebeat config     4  \n",
       "177  More flexible removing of extension in compose...     6  \n",
       "120                             keep_alive url changed     2  "
      ]
     },
     "execution_count": 4,
     "metadata": {},
     "output_type": "execute_result"
    }
   ],
   "source": [
    "df.sample(5)"
   ]
  },
  {
   "cell_type": "code",
   "execution_count": 5,
   "metadata": {},
   "outputs": [
    {
     "name": "stdout",
     "output_type": "stream",
     "text": [
      "Размер датасета: 319\n"
     ]
    }
   ],
   "source": [
    "print(f\"Размер датасета: {len(df)}\")"
   ]
  },
  {
   "cell_type": "markdown",
   "metadata": {},
   "source": [
    "Данных довольно мало....посмотрим на наличие пропусков и дубликатов"
   ]
  },
  {
   "cell_type": "code",
   "execution_count": 6,
   "metadata": {},
   "outputs": [
    {
     "data": {
      "text/plain": [
       "repository_name    0\n",
       "commit_hash        0\n",
       "commit_date        0\n",
       "commit_author      0\n",
       "commit_message     0\n",
       "bugs               0\n",
       "dtype: int64"
      ]
     },
     "execution_count": 6,
     "metadata": {},
     "output_type": "execute_result"
    }
   ],
   "source": [
    "df.isnull().sum()"
   ]
  },
  {
   "cell_type": "code",
   "execution_count": 7,
   "metadata": {},
   "outputs": [
    {
     "data": {
      "text/plain": [
       "0"
      ]
     },
     "execution_count": 7,
     "metadata": {},
     "output_type": "execute_result"
    }
   ],
   "source": [
    "df.duplicated().sum()"
   ]
  },
  {
   "cell_type": "markdown",
   "metadata": {},
   "source": [
    "А чего от меня вообще хотят??? угу....тут задача регрессии...над предсказывать количество багов в зависимости от всех остальных параметров\n",
    "\n",
    "Сначала посмотрим на признак commit_hash"
   ]
  },
  {
   "cell_type": "code",
   "execution_count": 8,
   "metadata": {},
   "outputs": [
    {
     "data": {
      "text/plain": [
       "True"
      ]
     },
     "execution_count": 8,
     "metadata": {},
     "output_type": "execute_result"
    }
   ],
   "source": [
    "len(df) == len(set(df.commit_hash.values))"
   ]
  },
  {
   "cell_type": "markdown",
   "metadata": {},
   "source": [
    "хммммм значит все значения уникальны...данный признак удаляем, так как он не содержит никакой полезной информации для нас"
   ]
  },
  {
   "cell_type": "code",
   "execution_count": 9,
   "metadata": {},
   "outputs": [],
   "source": [
    "df.drop(columns=[\"commit_hash\"], inplace=True)"
   ]
  },
  {
   "cell_type": "code",
   "execution_count": 10,
   "metadata": {},
   "outputs": [
    {
     "name": "stdout",
     "output_type": "stream",
     "text": [
      "Index(['repository_name', 'commit_date', 'commit_author', 'commit_message',\n",
      "       'bugs'],\n",
      "      dtype='object')\n",
      "319\n"
     ]
    }
   ],
   "source": [
    "print(df.columns)\n",
    "print(len(df))"
   ]
  },
  {
   "cell_type": "code",
   "execution_count": 11,
   "metadata": {},
   "outputs": [
    {
     "name": "stdout",
     "output_type": "stream",
     "text": [
      "Число уникальных элементов в столбце repository_name - 6\n",
      "Число уникальных элементов в столбце commit_author - 10\n"
     ]
    }
   ],
   "source": [
    "# посмотрим на количество уникальных элементов в ряде столбцов\n",
    "for column_name in [\"repository_name\", \"commit_author\"]:\n",
    "    print(f\"Число уникальных элементов в столбце {column_name} - {len(df[column_name].unique())}\")"
   ]
  },
  {
   "cell_type": "markdown",
   "metadata": {},
   "source": [
    "Посмотрим суммарное количество ошибок для определенных авторов и репозиториев"
   ]
  },
  {
   "cell_type": "code",
   "execution_count": 12,
   "metadata": {},
   "outputs": [
    {
     "name": "stdout",
     "output_type": "stream",
     "text": [
      "repository_name\n",
      "agent         41\n",
      "conductor    343\n",
      "dockers       48\n",
      "mlm          206\n",
      "sensor       233\n",
      "standard      85\n",
      "Name: bugs, dtype: int64\n",
      "\n",
      "commit_author\n",
      "Alice        1\n",
      "Bob          5\n",
      "Carol        6\n",
      "Dabe       101\n",
      "Eve         32\n",
      "Mallory    213\n",
      "Peggy        7\n",
      "Trudy       19\n",
      "Victor     464\n",
      "Wendy      108\n",
      "Name: bugs, dtype: int64\n"
     ]
    }
   ],
   "source": [
    "print(df.groupby(\"repository_name\")[\"bugs\"].sum())\n",
    "print()\n",
    "print(df.groupby(\"commit_author\")[\"bugs\"].sum())"
   ]
  },
  {
   "cell_type": "markdown",
   "metadata": {},
   "source": [
    "Тут напрашивается OHE, но пока оставим как есть, ибо данных оч мало, и прост закодируем числами для применения деревянной модели"
   ]
  },
  {
   "cell_type": "markdown",
   "metadata": {},
   "source": [
    "Но сначала посмотрим на дату и описание коммита"
   ]
  },
  {
   "cell_type": "code",
   "execution_count": 13,
   "metadata": {},
   "outputs": [],
   "source": [
    "date_from_df = pd.to_datetime(df.commit_date)"
   ]
  },
  {
   "cell_type": "code",
   "execution_count": 14,
   "metadata": {},
   "outputs": [
    {
     "data": {
      "text/plain": [
       "Timestamp('2020-06-12 14:26:12')"
      ]
     },
     "execution_count": 14,
     "metadata": {},
     "output_type": "execute_result"
    }
   ],
   "source": [
    "date_from_df[0]"
   ]
  },
  {
   "cell_type": "code",
   "execution_count": 15,
   "metadata": {},
   "outputs": [
    {
     "name": "stdout",
     "output_type": "stream",
     "text": [
      "2020    319\n",
      "Name: commit_date, dtype: int64\n",
      "\n",
      "4    122\n",
      "5     83\n",
      "3     65\n",
      "6     49\n",
      "Name: commit_date, dtype: int64\n",
      "\n",
      "1     32\n",
      "10    24\n",
      "24    22\n",
      "8     17\n",
      "13    16\n",
      "15    15\n",
      "14    15\n",
      "23    15\n",
      "30    14\n",
      "9     14\n",
      "22    13\n",
      "6     13\n",
      "20    13\n",
      "2     11\n",
      "4      9\n",
      "21     9\n",
      "29     9\n",
      "5      9\n",
      "3      8\n",
      "16     7\n",
      "7      7\n",
      "12     6\n",
      "11     6\n",
      "28     6\n",
      "17     4\n",
      "19     2\n",
      "27     1\n",
      "18     1\n",
      "25     1\n",
      "Name: commit_date, dtype: int64\n"
     ]
    }
   ],
   "source": [
    "print(date_from_df.apply(lambda x: x.year).value_counts())\n",
    "print()\n",
    "print(date_from_df.apply(lambda x: x.month).value_counts())\n",
    "print()\n",
    "print(date_from_df.apply(lambda x: x.day).value_counts())\n"
   ]
  },
  {
   "cell_type": "code",
   "execution_count": 16,
   "metadata": {},
   "outputs": [],
   "source": [
    "temp_date = date_from_df[0]"
   ]
  },
  {
   "cell_type": "code",
   "execution_count": 17,
   "metadata": {},
   "outputs": [
    {
     "data": {
      "text/plain": [
       "4"
      ]
     },
     "execution_count": 17,
     "metadata": {},
     "output_type": "execute_result"
    }
   ],
   "source": [
    "temp_date.day_of_week"
   ]
  },
  {
   "cell_type": "code",
   "execution_count": 18,
   "metadata": {},
   "outputs": [
    {
     "data": {
      "text/plain": [
       "14"
      ]
     },
     "execution_count": 18,
     "metadata": {},
     "output_type": "execute_result"
    }
   ],
   "source": [
    "temp_date.hour"
   ]
  },
  {
   "cell_type": "markdown",
   "metadata": {},
   "source": [
    "Чего мне делать с временем??? мне над разбить день на опредленные части также учитывать месяц год учитывать не над\n",
    "\n",
    "так как он одинаковый везде хммммм день недели мне нужен?"
   ]
  },
  {
   "cell_type": "markdown",
   "metadata": {},
   "source": [
    "Теперь посмотрим на сообщение в коммите"
   ]
  },
  {
   "cell_type": "code",
   "execution_count": 24,
   "metadata": {},
   "outputs": [
    {
     "name": "stdout",
     "output_type": "stream",
     "text": [
      "['объяснения предсказаний с помощью lime' 'Поставил lime вместо eli5'\n",
      " 'Скрипт для создния пакетов обновления' 'Сортировка весов по убыванию'\n",
      " 'не надо конвертировать массив до операции по смене знака'\n",
      " 'Добавлено больше логирования и фикс до частичной работоспособности'\n",
      " 'Отладка, чтоб оно хотябы запускалось'\n",
      " 'Добавил скрипт для запуска контейнера' 'label не нужен'\n",
      " 'Установка всех зависимостей теперь в докер файле' 'Использование sha256'\n",
      " 'Обновление схем'\n",
      " 'Не сохранять неизвестные поля, на них нельзя обучаться и поэтому нет смысла их хранить'\n",
      " 'hdf5 не умеет хранить матрицы различных типов, сделал группу с хешами, а в...'\n",
      " 'Скрипт для создания датасета из csv файла'\n",
      " 'тип и всякие статичные данные пусть лежат в датасете'\n",
      " 'eli5 предсказание для бинарных классификаторов' 'Функции проверки меток'\n",
      " 'Апи для моделей и датасетов'\n",
      " 'Пересмотрели архитектуру, теперь все запросы через http'\n",
      " 'Перешли с npz на hdf5' 'добавил aiohttp'\n",
      " 'Диаграмы процессов и архитектуры' 'Оптимизировал докер файл'\n",
      " 'Models loading in memory' 'Multiple cursors' 'Check Lables'\n",
      " 'send results to mysql' 'no feature names in queue calls'\n",
      " 'Fixed continous error' 'Default rabbitMQ NETWORK ip'\n",
      " 'Docker COPY cannot in directories' 'Removed default freeze package'\n",
      " 'aio_pika connection_closed loop'\n",
      " 'global variable assignment without global'\n",
      " 'Saving unknown labels on emergency saving'\n",
      " 'Small Fixes in main.py to make it work' 'Added .gitignore'\n",
      " 'Small Fixes in models.py to make it work'\n",
      " 'JsonMaster as function separator' 'Initial commit' 'fix trap'\n",
      " 'oups fixed dist' 'Добавлены теги к service'\n",
      " 'Статус файла на проверке pending или complete'\n",
      " \"Merge branch 'master' of \" 'Добавлена возможность создания тунелей'\n",
      " 'Изменены поля создания атаки' 'Обработка сессий от коври' 'delete trash'\n",
      " \"Merge branch 'master' of \" 'Commit' 'testing/trapped_files'\n",
      " 'Добавил проверку вердикта для загруженных файлов'\n",
      " 'Обновил комманды для еластика созданием подстановок' 'Update mapping'\n",
      " 'Добавлен стек 7.6 версии' 'Импортировал зависимости для вебхука'\n",
      " 'Fix 2 args devextreme filter' 'Update FullStarter.sh'\n",
      " 'Исправлены ошибки конвертации из DevExtreme в sql запрос'\n",
      " 'Fix proxy_install' 'fix set_state' 'fix set_state'\n",
      " 'Фикс фильтрации справочников' 'Fix update_check_list'\n",
      " 'Забыл логирование в state_controller' 'Добавил состояния для прокси'\n",
      " 'Добавлен отправщик правил сурикаты' 'Initial commit' 'self deploy'\n",
      " 'Делать бэкап при первом запуске' 'added deploy scripts'\n",
      " 'Смена адреса хоста обновлений' 'Added update logs'\n",
      " 'Обращение к главному серверу'\n",
      " 'Логирование всех выполненых на хосте команд'\n",
      " 'Поправки после запуска на тестовом сервере'\n",
      " 'Подключение с приватным ключем'\n",
      " 'Импорт одной функции из storage.py вместо *'\n",
      " 'Изменение версии и статуса, после обновления' 'Деплой через ssh'\n",
      " 'Исправления с тестами' 'Initial commit'\n",
      " 'Улучшен алгоритм отправки файла' 'add check before upload'\n",
      " 'fix turnoff filebeat' 'fix IMAGES when wrong yaml' 'changed images'\n",
      " 'add log cleaner' 'fix oups' 'add sync when suricata install'\n",
      " 'Изменён способ доставки правил сурикаты' 'little fix and clear'\n",
      " 'Добавлены алерты на неработающие правила сурикаты'\n",
      " 'Update src/express.py'\n",
      " 'Поменял название полей для создания туней в соответсвии с именами на хосте'\n",
      " 'Удаление всех образов по имени'\n",
      " 'Не создавать директорию если в конце есть точка(скорее всего это файл)'\n",
      " 'Download rules twhen suricata installed']\n"
     ]
    }
   ],
   "source": [
    "print(df.commit_message.values[:100])"
   ]
  },
  {
   "cell_type": "markdown",
   "metadata": {},
   "source": [
    "Попробуем самую простую токенизацию по пробельным символам"
   ]
  },
  {
   "cell_type": "code",
   "execution_count": 376,
   "metadata": {},
   "outputs": [],
   "source": [
    "en_stops = set(stopwords.words('english'))\n",
    "ru_stops = set(stopwords.words('russian'))\n",
    "stops = en_stops | ru_stops\n",
    "\n",
    "def tokenize(in_str: str) -> List[str]:\n",
    "    temp_tokenize = [item for item in wordpunct_tokenize(in_str) if item not in punctuation]\n",
    "    return [item for item in temp_tokenize if item not in stops]\n",
    "    "
   ]
  },
  {
   "cell_type": "code",
   "execution_count": 391,
   "metadata": {},
   "outputs": [],
   "source": [
    "vectorizer = TfidfVectorizer(tokenizer=tokenize)\n",
    "vec_texts = vectorizer.fit_transform(df.commit_message).toarray()\n",
    "svd = TruncatedSVD(n_components=15, random_state=42)\n",
    "pca = PCA(n_components=50, random_state=42)\n",
    "# svd_vec = svd.fit_transform(vec_texts)\n",
    "svd_vec = pca.fit_transform(vec_texts)"
   ]
  },
  {
   "cell_type": "code",
   "execution_count": 392,
   "metadata": {},
   "outputs": [
    {
     "data": {
      "text/plain": [
       "(319, 50)"
      ]
     },
     "execution_count": 392,
     "metadata": {},
     "output_type": "execute_result"
    }
   ],
   "source": [
    "svd_vec.shape"
   ]
  },
  {
   "cell_type": "code",
   "execution_count": 393,
   "metadata": {},
   "outputs": [
    {
     "data": {
      "text/html": [
       "<div>\n",
       "<style scoped>\n",
       "    .dataframe tbody tr th:only-of-type {\n",
       "        vertical-align: middle;\n",
       "    }\n",
       "\n",
       "    .dataframe tbody tr th {\n",
       "        vertical-align: top;\n",
       "    }\n",
       "\n",
       "    .dataframe thead th {\n",
       "        text-align: right;\n",
       "    }\n",
       "</style>\n",
       "<table border=\"1\" class=\"dataframe\">\n",
       "  <thead>\n",
       "    <tr style=\"text-align: right;\">\n",
       "      <th></th>\n",
       "      <th>repository_name</th>\n",
       "      <th>commit_date</th>\n",
       "      <th>commit_author</th>\n",
       "      <th>commit_message</th>\n",
       "      <th>bugs</th>\n",
       "      <th>month</th>\n",
       "      <th>week</th>\n",
       "      <th>day</th>\n",
       "      <th>dayOfWeek</th>\n",
       "      <th>hour</th>\n",
       "      <th>dayOfWeek_</th>\n",
       "      <th>dayPart</th>\n",
       "      <th>dayPartLogic</th>\n",
       "    </tr>\n",
       "  </thead>\n",
       "  <tbody>\n",
       "    <tr>\n",
       "      <th>0</th>\n",
       "      <td>mlm</td>\n",
       "      <td>2020-06-12 14:26:12</td>\n",
       "      <td>Victor</td>\n",
       "      <td>объяснения предсказаний с помощью lime</td>\n",
       "      <td>4</td>\n",
       "      <td>6</td>\n",
       "      <td>24</td>\n",
       "      <td>12</td>\n",
       "      <td>4</td>\n",
       "      <td>14</td>\n",
       "      <td>1</td>\n",
       "      <td>2</td>\n",
       "      <td>2.0</td>\n",
       "    </tr>\n",
       "    <tr>\n",
       "      <th>1</th>\n",
       "      <td>mlm</td>\n",
       "      <td>2020-06-12 11:53:10</td>\n",
       "      <td>Victor</td>\n",
       "      <td>Поставил lime вместо eli5</td>\n",
       "      <td>3</td>\n",
       "      <td>6</td>\n",
       "      <td>24</td>\n",
       "      <td>12</td>\n",
       "      <td>4</td>\n",
       "      <td>11</td>\n",
       "      <td>1</td>\n",
       "      <td>2</td>\n",
       "      <td>2.0</td>\n",
       "    </tr>\n",
       "    <tr>\n",
       "      <th>2</th>\n",
       "      <td>mlm</td>\n",
       "      <td>2020-06-11 15:19:03</td>\n",
       "      <td>Victor</td>\n",
       "      <td>Скрипт для создния пакетов обновления</td>\n",
       "      <td>4</td>\n",
       "      <td>6</td>\n",
       "      <td>24</td>\n",
       "      <td>11</td>\n",
       "      <td>3</td>\n",
       "      <td>15</td>\n",
       "      <td>1</td>\n",
       "      <td>2</td>\n",
       "      <td>2.0</td>\n",
       "    </tr>\n",
       "    <tr>\n",
       "      <th>3</th>\n",
       "      <td>mlm</td>\n",
       "      <td>2020-06-11 10:42:29</td>\n",
       "      <td>Victor</td>\n",
       "      <td>Сортировка весов по убыванию</td>\n",
       "      <td>3</td>\n",
       "      <td>6</td>\n",
       "      <td>24</td>\n",
       "      <td>11</td>\n",
       "      <td>3</td>\n",
       "      <td>10</td>\n",
       "      <td>1</td>\n",
       "      <td>2</td>\n",
       "      <td>2.0</td>\n",
       "    </tr>\n",
       "    <tr>\n",
       "      <th>4</th>\n",
       "      <td>mlm</td>\n",
       "      <td>2020-06-11 09:25:19</td>\n",
       "      <td>Victor</td>\n",
       "      <td>не надо конвертировать массив до операции по с...</td>\n",
       "      <td>7</td>\n",
       "      <td>6</td>\n",
       "      <td>24</td>\n",
       "      <td>11</td>\n",
       "      <td>3</td>\n",
       "      <td>9</td>\n",
       "      <td>1</td>\n",
       "      <td>2</td>\n",
       "      <td>1.0</td>\n",
       "    </tr>\n",
       "    <tr>\n",
       "      <th>...</th>\n",
       "      <td>...</td>\n",
       "      <td>...</td>\n",
       "      <td>...</td>\n",
       "      <td>...</td>\n",
       "      <td>...</td>\n",
       "      <td>...</td>\n",
       "      <td>...</td>\n",
       "      <td>...</td>\n",
       "      <td>...</td>\n",
       "      <td>...</td>\n",
       "      <td>...</td>\n",
       "      <td>...</td>\n",
       "      <td>...</td>\n",
       "    </tr>\n",
       "    <tr>\n",
       "      <th>314</th>\n",
       "      <td>sensor</td>\n",
       "      <td>2020-03-23 12:54:35</td>\n",
       "      <td>Dabe</td>\n",
       "      <td>setting hostname</td>\n",
       "      <td>1</td>\n",
       "      <td>3</td>\n",
       "      <td>13</td>\n",
       "      <td>23</td>\n",
       "      <td>0</td>\n",
       "      <td>12</td>\n",
       "      <td>1</td>\n",
       "      <td>2</td>\n",
       "      <td>2.0</td>\n",
       "    </tr>\n",
       "    <tr>\n",
       "      <th>315</th>\n",
       "      <td>sensor</td>\n",
       "      <td>2020-03-23 12:30:52</td>\n",
       "      <td>Dabe</td>\n",
       "      <td>heralding default dockerfile</td>\n",
       "      <td>2</td>\n",
       "      <td>3</td>\n",
       "      <td>13</td>\n",
       "      <td>23</td>\n",
       "      <td>0</td>\n",
       "      <td>12</td>\n",
       "      <td>1</td>\n",
       "      <td>2</td>\n",
       "      <td>2.0</td>\n",
       "    </tr>\n",
       "    <tr>\n",
       "      <th>316</th>\n",
       "      <td>sensor</td>\n",
       "      <td>2020-03-23 11:27:40</td>\n",
       "      <td>Dabe</td>\n",
       "      <td>unnesserity /data path permissions setting</td>\n",
       "      <td>3</td>\n",
       "      <td>3</td>\n",
       "      <td>13</td>\n",
       "      <td>23</td>\n",
       "      <td>0</td>\n",
       "      <td>11</td>\n",
       "      <td>1</td>\n",
       "      <td>2</td>\n",
       "      <td>2.0</td>\n",
       "    </tr>\n",
       "    <tr>\n",
       "      <th>317</th>\n",
       "      <td>sensor</td>\n",
       "      <td>2020-03-23 11:20:50</td>\n",
       "      <td>Dabe</td>\n",
       "      <td>added trapconductor</td>\n",
       "      <td>1</td>\n",
       "      <td>3</td>\n",
       "      <td>13</td>\n",
       "      <td>23</td>\n",
       "      <td>0</td>\n",
       "      <td>11</td>\n",
       "      <td>1</td>\n",
       "      <td>2</td>\n",
       "      <td>2.0</td>\n",
       "    </tr>\n",
       "    <tr>\n",
       "      <th>318</th>\n",
       "      <td>sensor</td>\n",
       "      <td>2020-03-23 11:07:07</td>\n",
       "      <td>Dabe</td>\n",
       "      <td>sensor</td>\n",
       "      <td>1</td>\n",
       "      <td>3</td>\n",
       "      <td>13</td>\n",
       "      <td>23</td>\n",
       "      <td>0</td>\n",
       "      <td>11</td>\n",
       "      <td>1</td>\n",
       "      <td>2</td>\n",
       "      <td>2.0</td>\n",
       "    </tr>\n",
       "  </tbody>\n",
       "</table>\n",
       "<p>319 rows × 13 columns</p>\n",
       "</div>"
      ],
      "text/plain": [
       "    repository_name         commit_date commit_author  \\\n",
       "0               mlm 2020-06-12 14:26:12        Victor   \n",
       "1               mlm 2020-06-12 11:53:10        Victor   \n",
       "2               mlm 2020-06-11 15:19:03        Victor   \n",
       "3               mlm 2020-06-11 10:42:29        Victor   \n",
       "4               mlm 2020-06-11 09:25:19        Victor   \n",
       "..              ...                 ...           ...   \n",
       "314          sensor 2020-03-23 12:54:35          Dabe   \n",
       "315          sensor 2020-03-23 12:30:52          Dabe   \n",
       "316          sensor 2020-03-23 11:27:40          Dabe   \n",
       "317          sensor 2020-03-23 11:20:50          Dabe   \n",
       "318          sensor 2020-03-23 11:07:07          Dabe   \n",
       "\n",
       "                                        commit_message  bugs  month  week  \\\n",
       "0               объяснения предсказаний с помощью lime     4      6    24   \n",
       "1                            Поставил lime вместо eli5     3      6    24   \n",
       "2                Скрипт для создния пакетов обновления     4      6    24   \n",
       "3                         Сортировка весов по убыванию     3      6    24   \n",
       "4    не надо конвертировать массив до операции по с...     7      6    24   \n",
       "..                                                 ...   ...    ...   ...   \n",
       "314                                   setting hostname     1      3    13   \n",
       "315                       heralding default dockerfile     2      3    13   \n",
       "316         unnesserity /data path permissions setting     3      3    13   \n",
       "317                                added trapconductor     1      3    13   \n",
       "318                                             sensor     1      3    13   \n",
       "\n",
       "     day  dayOfWeek  hour  dayOfWeek_  dayPart  dayPartLogic  \n",
       "0     12          4    14           1        2           2.0  \n",
       "1     12          4    11           1        2           2.0  \n",
       "2     11          3    15           1        2           2.0  \n",
       "3     11          3    10           1        2           2.0  \n",
       "4     11          3     9           1        2           1.0  \n",
       "..   ...        ...   ...         ...      ...           ...  \n",
       "314   23          0    12           1        2           2.0  \n",
       "315   23          0    12           1        2           2.0  \n",
       "316   23          0    11           1        2           2.0  \n",
       "317   23          0    11           1        2           2.0  \n",
       "318   23          0    11           1        2           2.0  \n",
       "\n",
       "[319 rows x 13 columns]"
      ]
     },
     "execution_count": 393,
     "metadata": {},
     "output_type": "execute_result"
    }
   ],
   "source": [
    "df"
   ]
  },
  {
   "cell_type": "markdown",
   "metadata": {},
   "source": [
    "Что я могу сделать с временем..."
   ]
  },
  {
   "cell_type": "code",
   "execution_count": 394,
   "metadata": {},
   "outputs": [],
   "source": [
    "df.commit_date = pd.to_datetime(df.commit_date)"
   ]
  },
  {
   "cell_type": "code",
   "execution_count": 395,
   "metadata": {},
   "outputs": [],
   "source": [
    "df[\"month\"] = df.commit_date.apply(lambda x: x.month)\n",
    "df[\"week\"] = df.commit_date.apply(lambda x: x.week)\n",
    "df[\"day\"] = df.commit_date.apply(lambda x: x.day)\n",
    "df[\"dayOfWeek\"] = df.commit_date.apply(lambda x: x.weekday())\n",
    "df[\"hour\"] = df.commit_date.apply(lambda x: x.hour)"
   ]
  },
  {
   "cell_type": "code",
   "execution_count": 396,
   "metadata": {},
   "outputs": [
    {
     "data": {
      "text/plain": [
       "13    44\n",
       "16    39\n",
       "11    37\n",
       "12    36\n",
       "15    31\n",
       "14    30\n",
       "10    30\n",
       "17    24\n",
       "9     19\n",
       "18     8\n",
       "8      5\n",
       "21     4\n",
       "20     4\n",
       "19     3\n",
       "23     2\n",
       "6      1\n",
       "7      1\n",
       "22     1\n",
       "Name: hour, dtype: int64"
      ]
     },
     "execution_count": 396,
     "metadata": {},
     "output_type": "execute_result"
    }
   ],
   "source": [
    "df.hour.value_counts()"
   ]
  },
  {
   "cell_type": "code",
   "execution_count": 397,
   "metadata": {},
   "outputs": [],
   "source": [
    "def get_part_day_work(x: int) -> int:\n",
    "    if x < 9 or x > 17:\n",
    "        return 1\n",
    "    else:\n",
    "        return 2\n",
    "\n",
    "\n",
    "def get_part_day_logic(x: int) -> int:\n",
    "    if x > 3 and x < 10:\n",
    "        return 1\n",
    "    if x >= 10 and x < 18:\n",
    "        return 2\n",
    "    if x >= 18 and x < 23:\n",
    "        return 3\n",
    "    if x >= 23 and x <= 3:\n",
    "        return 4"
   ]
  },
  {
   "cell_type": "code",
   "execution_count": 398,
   "metadata": {},
   "outputs": [],
   "source": [
    "import razdel\n",
    "from sentence_transformers import SentenceTransformer\n",
    "\n",
    "# model = SentenceTransformer('sentence-transformers/distiluse-base-multilingual-cased-v1')"
   ]
  },
  {
   "cell_type": "code",
   "execution_count": 399,
   "metadata": {},
   "outputs": [],
   "source": [
    "df[\"dayOfWeek_\"] = df.dayOfWeek.apply(lambda x: 1 if x in [0, 1, 2, 3, 4] else 2)\n",
    "df[\"dayPart\"] = df.hour.apply(lambda x: get_part_day_work(x))\n",
    "df[\"dayPartLogic\"] = df.hour.apply(lambda x: get_part_day_logic(x))\n",
    "\n",
    "\n",
    "temp = model.encode(df.commit_message.values)\n",
    "\n",
    "pca_emb = PCA(n_components=10)\n",
    "low_emb = pd.DataFrame(pca_emb.fit_transform(temp))"
   ]
  },
  {
   "cell_type": "code",
   "execution_count": 400,
   "metadata": {},
   "outputs": [],
   "source": [
    "# X_train, X_test, y_train, y_test = train_test_split(vec_texts.toarray(), df.bugs.values)\n",
    "# new_df = pd.concat([pd.get_dummies(df.repository_name), pd.get_dummies(df.commit_author), pd.DataFrame(svd_vec)], axis=1)\n",
    "# new_df = pd.concat([pd.get_dummies(df.repository_name), pd.get_dummies(df.commit_author), pd.get_dummies(df.dayOfWeek_),\n",
    "# pd.get_dummies(df.dayPart), pd.DataFrame(svd_vec)], axis=1)\n",
    "\n",
    "new_df = pd.concat([pd.get_dummies(df.repository_name), pd.get_dummies(df.commit_author), pd.get_dummies(df.dayOfWeek_),\n",
    "pd.get_dummies(df.dayPart), low_emb], axis=1)\n",
    "\n",
    "X_train, X_test, y_train, y_test = train_test_split(new_df, df.bugs.values, random_state=42)\n",
    "# pd.get_dummies(df.commit_author)\n",
    "\n"
   ]
  },
  {
   "cell_type": "code",
   "execution_count": 401,
   "metadata": {},
   "outputs": [
    {
     "data": {
      "text/plain": [
       "(239, 30)"
      ]
     },
     "execution_count": 401,
     "metadata": {},
     "output_type": "execute_result"
    }
   ],
   "source": [
    "X_train.shape"
   ]
  },
  {
   "cell_type": "code",
   "execution_count": 402,
   "metadata": {},
   "outputs": [
    {
     "name": "stderr",
     "output_type": "stream",
     "text": [
      "c:\\ProgramData\\Anaconda3\\envs\\diplomaProject\\lib\\site-packages\\sklearn\\utils\\validation.py:1858: FutureWarning: Feature names only support names that are all strings. Got feature names with dtypes: ['int', 'str']. An error will be raised in 1.2.\n",
      "  warnings.warn(\n",
      "c:\\ProgramData\\Anaconda3\\envs\\diplomaProject\\lib\\site-packages\\sklearn\\utils\\validation.py:1858: FutureWarning: Feature names only support names that are all strings. Got feature names with dtypes: ['int', 'str']. An error will be raised in 1.2.\n",
      "  warnings.warn(\n",
      "c:\\ProgramData\\Anaconda3\\envs\\diplomaProject\\lib\\site-packages\\sklearn\\utils\\validation.py:1858: FutureWarning: Feature names only support names that are all strings. Got feature names with dtypes: ['int', 'str']. An error will be raised in 1.2.\n",
      "  warnings.warn(\n"
     ]
    }
   ],
   "source": [
    "ss = StandardScaler()\n",
    "X_train = ss.fit_transform(X_train)\n",
    "X_test = ss.transform(X_test)"
   ]
  },
  {
   "cell_type": "code",
   "execution_count": 408,
   "metadata": {},
   "outputs": [
    {
     "data": {
      "text/html": [
       "<style>#sk-container-id-36 {color: black;background-color: white;}#sk-container-id-36 pre{padding: 0;}#sk-container-id-36 div.sk-toggleable {background-color: white;}#sk-container-id-36 label.sk-toggleable__label {cursor: pointer;display: block;width: 100%;margin-bottom: 0;padding: 0.3em;box-sizing: border-box;text-align: center;}#sk-container-id-36 label.sk-toggleable__label-arrow:before {content: \"▸\";float: left;margin-right: 0.25em;color: #696969;}#sk-container-id-36 label.sk-toggleable__label-arrow:hover:before {color: black;}#sk-container-id-36 div.sk-estimator:hover label.sk-toggleable__label-arrow:before {color: black;}#sk-container-id-36 div.sk-toggleable__content {max-height: 0;max-width: 0;overflow: hidden;text-align: left;background-color: #f0f8ff;}#sk-container-id-36 div.sk-toggleable__content pre {margin: 0.2em;color: black;border-radius: 0.25em;background-color: #f0f8ff;}#sk-container-id-36 input.sk-toggleable__control:checked~div.sk-toggleable__content {max-height: 200px;max-width: 100%;overflow: auto;}#sk-container-id-36 input.sk-toggleable__control:checked~label.sk-toggleable__label-arrow:before {content: \"▾\";}#sk-container-id-36 div.sk-estimator input.sk-toggleable__control:checked~label.sk-toggleable__label {background-color: #d4ebff;}#sk-container-id-36 div.sk-label input.sk-toggleable__control:checked~label.sk-toggleable__label {background-color: #d4ebff;}#sk-container-id-36 input.sk-hidden--visually {border: 0;clip: rect(1px 1px 1px 1px);clip: rect(1px, 1px, 1px, 1px);height: 1px;margin: -1px;overflow: hidden;padding: 0;position: absolute;width: 1px;}#sk-container-id-36 div.sk-estimator {font-family: monospace;background-color: #f0f8ff;border: 1px dotted black;border-radius: 0.25em;box-sizing: border-box;margin-bottom: 0.5em;}#sk-container-id-36 div.sk-estimator:hover {background-color: #d4ebff;}#sk-container-id-36 div.sk-parallel-item::after {content: \"\";width: 100%;border-bottom: 1px solid gray;flex-grow: 1;}#sk-container-id-36 div.sk-label:hover label.sk-toggleable__label {background-color: #d4ebff;}#sk-container-id-36 div.sk-serial::before {content: \"\";position: absolute;border-left: 1px solid gray;box-sizing: border-box;top: 0;bottom: 0;left: 50%;z-index: 0;}#sk-container-id-36 div.sk-serial {display: flex;flex-direction: column;align-items: center;background-color: white;padding-right: 0.2em;padding-left: 0.2em;position: relative;}#sk-container-id-36 div.sk-item {position: relative;z-index: 1;}#sk-container-id-36 div.sk-parallel {display: flex;align-items: stretch;justify-content: center;background-color: white;position: relative;}#sk-container-id-36 div.sk-item::before, #sk-container-id-36 div.sk-parallel-item::before {content: \"\";position: absolute;border-left: 1px solid gray;box-sizing: border-box;top: 0;bottom: 0;left: 50%;z-index: -1;}#sk-container-id-36 div.sk-parallel-item {display: flex;flex-direction: column;z-index: 1;position: relative;background-color: white;}#sk-container-id-36 div.sk-parallel-item:first-child::after {align-self: flex-end;width: 50%;}#sk-container-id-36 div.sk-parallel-item:last-child::after {align-self: flex-start;width: 50%;}#sk-container-id-36 div.sk-parallel-item:only-child::after {width: 0;}#sk-container-id-36 div.sk-dashed-wrapped {border: 1px dashed gray;margin: 0 0.4em 0.5em 0.4em;box-sizing: border-box;padding-bottom: 0.4em;background-color: white;}#sk-container-id-36 div.sk-label label {font-family: monospace;font-weight: bold;display: inline-block;line-height: 1.2em;}#sk-container-id-36 div.sk-label-container {text-align: center;}#sk-container-id-36 div.sk-container {/* jupyter's `normalize.less` sets `[hidden] { display: none; }` but bootstrap.min.css set `[hidden] { display: none !important; }` so we also need the `!important` here to be able to override the default hidden behavior on the sphinx rendered scikit-learn.org. See: https://github.com/scikit-learn/scikit-learn/issues/21755 */display: inline-block !important;position: relative;}#sk-container-id-36 div.sk-text-repr-fallback {display: none;}</style><div id=\"sk-container-id-36\" class=\"sk-top-container\"><div class=\"sk-text-repr-fallback\"><pre>GradientBoostingRegressor(random_state=42)</pre><b>In a Jupyter environment, please rerun this cell to show the HTML representation or trust the notebook. <br />On GitHub, the HTML representation is unable to render, please try loading this page with nbviewer.org.</b></div><div class=\"sk-container\" hidden><div class=\"sk-item\"><div class=\"sk-estimator sk-toggleable\"><input class=\"sk-toggleable__control sk-hidden--visually\" id=\"sk-estimator-id-36\" type=\"checkbox\" checked><label for=\"sk-estimator-id-36\" class=\"sk-toggleable__label sk-toggleable__label-arrow\">GradientBoostingRegressor</label><div class=\"sk-toggleable__content\"><pre>GradientBoostingRegressor(random_state=42)</pre></div></div></div></div></div>"
      ],
      "text/plain": [
       "GradientBoostingRegressor(random_state=42)"
      ]
     },
     "execution_count": 408,
     "metadata": {},
     "output_type": "execute_result"
    }
   ],
   "source": [
    "lr = LinearRegression()\n",
    "rf = RandomForestRegressor(random_state=42)\n",
    "gb = GradientBoostingRegressor(random_state=42)\n",
    "gb.fit(X_train, y_train)"
   ]
  },
  {
   "cell_type": "code",
   "execution_count": 409,
   "metadata": {},
   "outputs": [
    {
     "data": {
      "text/plain": [
       "1.0791168366919504"
      ]
     },
     "execution_count": 409,
     "metadata": {},
     "output_type": "execute_result"
    }
   ],
   "source": [
    "mean_squared_error(y_test, gb.predict(X_test))"
   ]
  },
  {
   "cell_type": "code",
   "execution_count": 355,
   "metadata": {},
   "outputs": [
    {
     "data": {
      "text/plain": [
       "array([ 2.52300454e+00,  1.49227315e+00,  6.19487954e+00,  3.94487954e+00,\n",
       "        5.17144204e+00,  3.65581704e+00,  2.42144204e+00,  2.42144204e+00,\n",
       "        3.15581704e+00,  2.86727315e+00,  1.85112954e+00,  2.52300454e+00,\n",
       "        2.42144204e+00,  2.42144204e+00,  2.60894204e+00,  2.99175454e+00,\n",
       "        2.42144204e+00,  3.14019204e+00,  1.12456704e+00,  2.35894204e+00,\n",
       "        2.81206704e+00,  2.42144204e+00,  2.42144204e+00,  3.65581704e+00,\n",
       "        2.02300454e+00,  2.58550454e+00,  2.11727315e+00,  5.17144204e+00,\n",
       "        3.65581704e+00,  2.42144204e+00,  3.14019204e+00,  1.89800454e+00,\n",
       "        2.42144204e+00,  2.35894204e+00,  3.78081704e+00,  2.52300454e+00,\n",
       "        2.42144204e+00,  2.42144204e+00,  3.14019204e+00,  3.44487954e+00,\n",
       "        5.17144204e+00,  5.06987954e+00,  1.85112954e+00,  1.85112954e+00,\n",
       "       -1.61661250e+14,  5.17144204e+00,  3.14019204e+00,  2.35894204e+00,\n",
       "        2.35894204e+00,  2.80477315e+00,  3.15581704e+00,  2.83550454e+00,\n",
       "        2.42144204e+00, -1.61661250e+14,  6.67977315e+00,  2.42144204e+00,\n",
       "        3.65581704e+00,  2.02300454e+00,  5.17144204e+00,  1.49227315e+00,\n",
       "        4.42925454e+00,  2.52300454e+00,  2.52300454e+00,  3.14019204e+00,\n",
       "        3.94487954e+00,  2.52300454e+00,  2.99175454e+00,  1.22612954e+00,\n",
       "        3.78081704e+00,  2.61727315e+00,  1.12456704e+00,  2.52300454e+00,\n",
       "        2.88237954e+00,  2.35894204e+00,  5.17144204e+00,  3.43706704e+00,\n",
       "        1.85112954e+00,  3.14019204e+00,  2.83550454e+00,  2.80477315e+00])"
      ]
     },
     "execution_count": 355,
     "metadata": {},
     "output_type": "execute_result"
    }
   ],
   "source": [
    "lr.predict(X_test)"
   ]
  },
  {
   "cell_type": "markdown",
   "metadata": {},
   "source": [
    "Хочу посмотреть, как меняется количество ошибок для каждого репозитория по времени"
   ]
  },
  {
   "cell_type": "code",
   "execution_count": null,
   "metadata": {},
   "outputs": [],
   "source": []
  }
 ],
 "metadata": {
  "kernelspec": {
   "display_name": "Python 3.9.12 ('diplomaProject')",
   "language": "python",
   "name": "python3"
  },
  "language_info": {
   "codemirror_mode": {
    "name": "ipython",
    "version": 3
   },
   "file_extension": ".py",
   "mimetype": "text/x-python",
   "name": "python",
   "nbconvert_exporter": "python",
   "pygments_lexer": "ipython3",
   "version": "3.9.12"
  },
  "orig_nbformat": 4,
  "vscode": {
   "interpreter": {
    "hash": "95689078ebe8f48794fe428c16bfa405d9d770c8cd04c5cedb8e7c54f831e462"
   }
  }
 },
 "nbformat": 4,
 "nbformat_minor": 2
}
