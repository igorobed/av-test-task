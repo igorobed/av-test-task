{
 "cells": [
  {
   "cell_type": "code",
   "execution_count": 146,
   "metadata": {},
   "outputs": [],
   "source": [
    "import pandas as pd\n",
    "from collections import Counter\n",
    "import numpy as np\n",
    "from sklearn.feature_extraction.text import TfidfVectorizer\n",
    "import os\n",
    "import sys\n",
    "import copy\n",
    "from sklearn.model_selection import train_test_split\n",
    "from sklearn.preprocessing import StandardScaler\n",
    "from sklearn.linear_model import LinearRegression, SGDRegressor, Ridge, Lasso\n",
    "from sklearn.svm import SVR\n",
    "from sklearn.ensemble import RandomForestRegressor, GradientBoostingRegressor\n",
    "from sklearn.metrics import mean_squared_error, mean_absolute_error\n",
    "from sklearn.decomposition import TruncatedSVD, PCA\n",
    "from sklearn.model_selection import cross_val_score, KFold\n",
    "\n",
    "sys.path.append(\"../\")\n",
    "import src.data_utils as d_u\n",
    "import src.feats_generation as f_g"
   ]
  },
  {
   "cell_type": "markdown",
   "metadata": {},
   "source": [
    "Предварительный анализ данных производится в файле data_exploration.ipynb"
   ]
  },
  {
   "cell_type": "markdown",
   "metadata": {},
   "source": [
    "Загрузим исходный датасет"
   ]
  },
  {
   "cell_type": "code",
   "execution_count": 147,
   "metadata": {},
   "outputs": [],
   "source": [
    "df = pd.read_csv(\"../data/raw/АВСОФТ_тест_ML_приложение.csv\")"
   ]
  },
  {
   "cell_type": "code",
   "execution_count": 148,
   "metadata": {},
   "outputs": [
    {
     "data": {
      "text/plain": [
       "Index(['repository_name', 'commit_hash', 'commit_date', 'commit_author',\n",
       "       'commit_message', 'bugs'],\n",
       "      dtype='object')"
      ]
     },
     "execution_count": 148,
     "metadata": {},
     "output_type": "execute_result"
    }
   ],
   "source": [
    "df.columns"
   ]
  },
  {
   "cell_type": "markdown",
   "metadata": {},
   "source": [
    "Удалим столбец, не несущий никакой полезной инфы"
   ]
  },
  {
   "cell_type": "code",
   "execution_count": 149,
   "metadata": {},
   "outputs": [],
   "source": [
    "df.drop(columns=[\"commit_hash\"], inplace=True)"
   ]
  },
  {
   "cell_type": "markdown",
   "metadata": {},
   "source": [
    "Преобразуем категориальные признаки в числовые"
   ]
  },
  {
   "cell_type": "code",
   "execution_count": 150,
   "metadata": {},
   "outputs": [],
   "source": [
    "# OHE для имени репозитория\n",
    "\n",
    "df = pd.concat([df, pd.get_dummies(df.repository_name)], axis=1)\n",
    "df.drop(columns=[\"repository_name\"], inplace=True)"
   ]
  },
  {
   "cell_type": "code",
   "execution_count": 151,
   "metadata": {},
   "outputs": [],
   "source": [
    "# закодируем столбец commit_author, в данном случае я сделаю обычный OHE\n",
    "\n",
    "df = f_g.ohe(df, \"commit_author\")  # функция выполняет действия аналогичные ячейке выше"
   ]
  },
  {
   "cell_type": "code",
   "execution_count": 152,
   "metadata": {},
   "outputs": [
    {
     "data": {
      "text/html": [
       "<div>\n",
       "<style scoped>\n",
       "    .dataframe tbody tr th:only-of-type {\n",
       "        vertical-align: middle;\n",
       "    }\n",
       "\n",
       "    .dataframe tbody tr th {\n",
       "        vertical-align: top;\n",
       "    }\n",
       "\n",
       "    .dataframe thead th {\n",
       "        text-align: right;\n",
       "    }\n",
       "</style>\n",
       "<table border=\"1\" class=\"dataframe\">\n",
       "  <thead>\n",
       "    <tr style=\"text-align: right;\">\n",
       "      <th></th>\n",
       "      <th>commit_date</th>\n",
       "      <th>commit_message</th>\n",
       "      <th>bugs</th>\n",
       "      <th>agent</th>\n",
       "      <th>conductor</th>\n",
       "      <th>dockers</th>\n",
       "      <th>mlm</th>\n",
       "      <th>sensor</th>\n",
       "      <th>standard</th>\n",
       "      <th>Alice</th>\n",
       "      <th>Bob</th>\n",
       "      <th>Carol</th>\n",
       "      <th>Dabe</th>\n",
       "      <th>Eve</th>\n",
       "      <th>Mallory</th>\n",
       "      <th>Peggy</th>\n",
       "      <th>Trudy</th>\n",
       "      <th>Victor</th>\n",
       "      <th>Wendy</th>\n",
       "    </tr>\n",
       "  </thead>\n",
       "  <tbody>\n",
       "    <tr>\n",
       "      <th>179</th>\n",
       "      <td>2020-03-20T10:24:33</td>\n",
       "      <td>return simple OK</td>\n",
       "      <td>2</td>\n",
       "      <td>0</td>\n",
       "      <td>1</td>\n",
       "      <td>0</td>\n",
       "      <td>0</td>\n",
       "      <td>0</td>\n",
       "      <td>0</td>\n",
       "      <td>0</td>\n",
       "      <td>0</td>\n",
       "      <td>0</td>\n",
       "      <td>1</td>\n",
       "      <td>0</td>\n",
       "      <td>0</td>\n",
       "      <td>0</td>\n",
       "      <td>0</td>\n",
       "      <td>0</td>\n",
       "      <td>0</td>\n",
       "    </tr>\n",
       "    <tr>\n",
       "      <th>174</th>\n",
       "      <td>2020-03-20T17:05:56</td>\n",
       "      <td>Diff remote</td>\n",
       "      <td>2</td>\n",
       "      <td>0</td>\n",
       "      <td>1</td>\n",
       "      <td>0</td>\n",
       "      <td>0</td>\n",
       "      <td>0</td>\n",
       "      <td>0</td>\n",
       "      <td>0</td>\n",
       "      <td>0</td>\n",
       "      <td>0</td>\n",
       "      <td>1</td>\n",
       "      <td>0</td>\n",
       "      <td>0</td>\n",
       "      <td>0</td>\n",
       "      <td>0</td>\n",
       "      <td>0</td>\n",
       "      <td>0</td>\n",
       "    </tr>\n",
       "    <tr>\n",
       "      <th>135</th>\n",
       "      <td>2020-04-13T12:57:17</td>\n",
       "      <td>compose configs moved to traps/docker</td>\n",
       "      <td>4</td>\n",
       "      <td>0</td>\n",
       "      <td>1</td>\n",
       "      <td>0</td>\n",
       "      <td>0</td>\n",
       "      <td>0</td>\n",
       "      <td>0</td>\n",
       "      <td>0</td>\n",
       "      <td>0</td>\n",
       "      <td>0</td>\n",
       "      <td>0</td>\n",
       "      <td>0</td>\n",
       "      <td>1</td>\n",
       "      <td>0</td>\n",
       "      <td>0</td>\n",
       "      <td>0</td>\n",
       "      <td>0</td>\n",
       "    </tr>\n",
       "  </tbody>\n",
       "</table>\n",
       "</div>"
      ],
      "text/plain": [
       "             commit_date                         commit_message  bugs  agent  \\\n",
       "179  2020-03-20T10:24:33                       return simple OK     2      0   \n",
       "174  2020-03-20T17:05:56                            Diff remote     2      0   \n",
       "135  2020-04-13T12:57:17  compose configs moved to traps/docker     4      0   \n",
       "\n",
       "     conductor  dockers  mlm  sensor  standard  Alice  Bob  Carol  Dabe  Eve  \\\n",
       "179          1        0    0       0         0      0    0      0     1    0   \n",
       "174          1        0    0       0         0      0    0      0     1    0   \n",
       "135          1        0    0       0         0      0    0      0     0    0   \n",
       "\n",
       "     Mallory  Peggy  Trudy  Victor  Wendy  \n",
       "179        0      0      0       0      0  \n",
       "174        0      0      0       0      0  \n",
       "135        1      0      0       0      0  "
      ]
     },
     "execution_count": 152,
     "metadata": {},
     "output_type": "execute_result"
    }
   ],
   "source": [
    "# данные на текущий момент\n",
    "df.sample(3)"
   ]
  },
  {
   "cell_type": "markdown",
   "metadata": {},
   "source": [
    "Сгенерируем признаки из столбца отвечающего за время коммита"
   ]
  },
  {
   "cell_type": "code",
   "execution_count": 153,
   "metadata": {},
   "outputs": [],
   "source": [
    "# так как изначально тип данного столбца - object\n",
    "df[\"commit_date\"] = pd.to_datetime(df.commit_date)\n",
    "\n",
    "df = f_g.encode_work_days(df)\n",
    "df = f_g.encode_work_hours(df)"
   ]
  },
  {
   "cell_type": "code",
   "execution_count": 154,
   "metadata": {},
   "outputs": [
    {
     "data": {
      "text/html": [
       "<div>\n",
       "<style scoped>\n",
       "    .dataframe tbody tr th:only-of-type {\n",
       "        vertical-align: middle;\n",
       "    }\n",
       "\n",
       "    .dataframe tbody tr th {\n",
       "        vertical-align: top;\n",
       "    }\n",
       "\n",
       "    .dataframe thead th {\n",
       "        text-align: right;\n",
       "    }\n",
       "</style>\n",
       "<table border=\"1\" class=\"dataframe\">\n",
       "  <thead>\n",
       "    <tr style=\"text-align: right;\">\n",
       "      <th></th>\n",
       "      <th>commit_date</th>\n",
       "      <th>commit_message</th>\n",
       "      <th>bugs</th>\n",
       "      <th>agent</th>\n",
       "      <th>conductor</th>\n",
       "      <th>dockers</th>\n",
       "      <th>mlm</th>\n",
       "      <th>sensor</th>\n",
       "      <th>standard</th>\n",
       "      <th>Alice</th>\n",
       "      <th>...</th>\n",
       "      <th>Eve</th>\n",
       "      <th>Mallory</th>\n",
       "      <th>Peggy</th>\n",
       "      <th>Trudy</th>\n",
       "      <th>Victor</th>\n",
       "      <th>Wendy</th>\n",
       "      <th>no_work_d</th>\n",
       "      <th>work_d</th>\n",
       "      <th>no_work_h</th>\n",
       "      <th>work_h</th>\n",
       "    </tr>\n",
       "  </thead>\n",
       "  <tbody>\n",
       "    <tr>\n",
       "      <th>150</th>\n",
       "      <td>2020-04-06 16:36:00</td>\n",
       "      <td>Popen service enabling/disabling; removing ima...</td>\n",
       "      <td>6</td>\n",
       "      <td>0</td>\n",
       "      <td>1</td>\n",
       "      <td>0</td>\n",
       "      <td>0</td>\n",
       "      <td>0</td>\n",
       "      <td>0</td>\n",
       "      <td>0</td>\n",
       "      <td>...</td>\n",
       "      <td>0</td>\n",
       "      <td>1</td>\n",
       "      <td>0</td>\n",
       "      <td>0</td>\n",
       "      <td>0</td>\n",
       "      <td>0</td>\n",
       "      <td>0</td>\n",
       "      <td>1</td>\n",
       "      <td>0</td>\n",
       "      <td>1</td>\n",
       "    </tr>\n",
       "    <tr>\n",
       "      <th>75</th>\n",
       "      <td>2020-05-22 16:08:34</td>\n",
       "      <td>Обращение к главному серверу</td>\n",
       "      <td>3</td>\n",
       "      <td>1</td>\n",
       "      <td>0</td>\n",
       "      <td>0</td>\n",
       "      <td>0</td>\n",
       "      <td>0</td>\n",
       "      <td>0</td>\n",
       "      <td>0</td>\n",
       "      <td>...</td>\n",
       "      <td>0</td>\n",
       "      <td>0</td>\n",
       "      <td>0</td>\n",
       "      <td>0</td>\n",
       "      <td>1</td>\n",
       "      <td>0</td>\n",
       "      <td>0</td>\n",
       "      <td>1</td>\n",
       "      <td>0</td>\n",
       "      <td>1</td>\n",
       "    </tr>\n",
       "    <tr>\n",
       "      <th>227</th>\n",
       "      <td>2020-05-12 16:53:07</td>\n",
       "      <td>Авторизация в ЕЛК</td>\n",
       "      <td>2</td>\n",
       "      <td>0</td>\n",
       "      <td>0</td>\n",
       "      <td>0</td>\n",
       "      <td>0</td>\n",
       "      <td>1</td>\n",
       "      <td>0</td>\n",
       "      <td>0</td>\n",
       "      <td>...</td>\n",
       "      <td>0</td>\n",
       "      <td>0</td>\n",
       "      <td>0</td>\n",
       "      <td>0</td>\n",
       "      <td>1</td>\n",
       "      <td>0</td>\n",
       "      <td>0</td>\n",
       "      <td>1</td>\n",
       "      <td>0</td>\n",
       "      <td>1</td>\n",
       "    </tr>\n",
       "  </tbody>\n",
       "</table>\n",
       "<p>3 rows × 23 columns</p>\n",
       "</div>"
      ],
      "text/plain": [
       "            commit_date                                     commit_message  \\\n",
       "150 2020-04-06 16:36:00  Popen service enabling/disabling; removing ima...   \n",
       "75  2020-05-22 16:08:34                       Обращение к главному серверу   \n",
       "227 2020-05-12 16:53:07                                  Авторизация в ЕЛК   \n",
       "\n",
       "     bugs  agent  conductor  dockers  mlm  sensor  standard  Alice  ...  Eve  \\\n",
       "150     6      0          1        0    0       0         0      0  ...    0   \n",
       "75      3      1          0        0    0       0         0      0  ...    0   \n",
       "227     2      0          0        0    0       1         0      0  ...    0   \n",
       "\n",
       "     Mallory  Peggy  Trudy  Victor  Wendy  no_work_d  work_d  no_work_h  \\\n",
       "150        1      0      0       0      0          0       1          0   \n",
       "75         0      0      0       1      0          0       1          0   \n",
       "227        0      0      0       1      0          0       1          0   \n",
       "\n",
       "     work_h  \n",
       "150       1  \n",
       "75        1  \n",
       "227       1  \n",
       "\n",
       "[3 rows x 23 columns]"
      ]
     },
     "execution_count": 154,
     "metadata": {},
     "output_type": "execute_result"
    }
   ],
   "source": [
    "df.sample(3)"
   ]
  },
  {
   "cell_type": "code",
   "execution_count": 155,
   "metadata": {},
   "outputs": [],
   "source": [
    "if \"commit_date\" in df.columns:\n",
    "    df.drop(columns=[\"commit_date\"], inplace=True)"
   ]
  },
  {
   "cell_type": "markdown",
   "metadata": {},
   "source": [
    "Сначала получим бэйзлан без какой-либо информации из сообщения коммита"
   ]
  },
  {
   "cell_type": "code",
   "execution_count": 156,
   "metadata": {},
   "outputs": [],
   "source": [
    "df_without_msg = df.drop(columns=[\"commit_message\"])"
   ]
  },
  {
   "cell_type": "code",
   "execution_count": 157,
   "metadata": {},
   "outputs": [],
   "source": [
    "X = df_without_msg.drop(columns=[\"bugs\"])\n",
    "y = df_without_msg.bugs"
   ]
  },
  {
   "cell_type": "code",
   "execution_count": 158,
   "metadata": {},
   "outputs": [],
   "source": [
    "X_train, X_test, y_train, y_test = train_test_split(X, y, test_size=0.2, random_state=42)\n",
    "train_idxs, test_idxs = X_train.index, X_test.index"
   ]
  },
  {
   "cell_type": "markdown",
   "metadata": {},
   "source": [
    "Отмасштабируем значения"
   ]
  },
  {
   "cell_type": "code",
   "execution_count": 159,
   "metadata": {},
   "outputs": [],
   "source": [
    "ss = StandardScaler()\n",
    "X_train = ss.fit_transform(X_train)\n",
    "X_test = ss.transform(X_test)"
   ]
  },
  {
   "cell_type": "markdown",
   "metadata": {},
   "source": [
    "Посмотрим качество на разных базовых моделях"
   ]
  },
  {
   "cell_type": "code",
   "execution_count": 160,
   "metadata": {},
   "outputs": [
    {
     "name": "stdout",
     "output_type": "stream",
     "text": [
      "Модель - LinearRegression()\n",
      "Среднее квадратное отклонение: 3.599230424388977\n",
      "\n",
      "Модель - SGDRegressor(random_state=42)\n",
      "Среднее квадратное отклонение: 2.792461669579143\n",
      "\n",
      "Модель - Ridge(random_state=42)\n",
      "Среднее квадратное отклонение: 2.813940971574099\n",
      "\n",
      "Модель - Lasso(random_state=42)\n",
      "Среднее квадратное отклонение: 2.5254327662437523\n",
      "\n",
      "Модель - RandomForestRegressor(random_state=42)\n",
      "Среднее квадратное отклонение: 2.6581221678556193\n",
      "\n",
      "Модель - GradientBoostingRegressor(random_state=42)\n",
      "Среднее квадратное отклонение: 2.7976837028211925\n",
      "\n",
      "Модель - SVR()\n",
      "Среднее квадратное отклонение: 2.547624178147599\n",
      "\n"
     ]
    }
   ],
   "source": [
    "zoo_models = [\n",
    "    LinearRegression(),\n",
    "    SGDRegressor(random_state=42),\n",
    "    Ridge(random_state=42),\n",
    "    Lasso(random_state=42),\n",
    "    RandomForestRegressor(random_state=42),\n",
    "    GradientBoostingRegressor(random_state=42),\n",
    "    SVR()\n",
    "    ]\n",
    "\n",
    "for model in zoo_models:\n",
    "    print(f\"Модель - {model}\")\n",
    "    model.fit(X_train, y_train)\n",
    "    preds = model.predict(X_test)\n",
    "    print(f\"Среднее квадратное отклонение: {mean_squared_error(y_test, preds)}\")\n",
    "    # print(f\"Среднее абсолютное отклонение: {mean_absolute_error(y_test, preds)}\")\n",
    "    print()\n",
    "    "
   ]
  },
  {
   "cell_type": "code",
   "execution_count": 162,
   "metadata": {},
   "outputs": [
    {
     "name": "stdout",
     "output_type": "stream",
     "text": [
      "Модель - LinearRegression()\n",
      "Среднее квадратное отклонение: 3.061867391378663\n",
      "\n",
      "Модель - SGDRegressor(random_state=42)\n",
      "Среднее квадратное отклонение: 2.8427464535834384\n",
      "\n",
      "Модель - Ridge(random_state=42)\n",
      "Среднее квадратное отклонение: 2.8261025740434538\n",
      "\n",
      "Модель - Lasso(random_state=42)\n",
      "Среднее квадратное отклонение: 3.4774931163795175\n",
      "\n",
      "Модель - RandomForestRegressor(random_state=42)\n",
      "Среднее квадратное отклонение: 2.8155012197320235\n",
      "\n",
      "Модель - GradientBoostingRegressor(random_state=42)\n",
      "Среднее квадратное отклонение: 2.8420382249740155\n",
      "\n",
      "Модель - SVR()\n",
      "Среднее квадратное отклонение: 3.0814115021828874\n",
      "\n"
     ]
    }
   ],
   "source": [
    "cv = KFold(n_splits=5, shuffle=True, random_state=42)\n",
    "splits = cv.split(X)\n",
    "\n",
    "eval_data_lst = []\n",
    "for i_train, i_test in splits:\n",
    "    \n",
    "\n",
    "    X_train, X_test, y_train, y_test = X.loc[i_train], X.loc[i_test], y[i_train], y[i_test]\n",
    "\n",
    "    ss = StandardScaler()\n",
    "    X_train = ss.fit_transform(X_train)\n",
    "    X_test = ss.transform(X_test)\n",
    "\n",
    "    eval_data_lst.append((X_train, X_test, y_train, y_test))\n",
    "\n",
    "for model in zoo_models:\n",
    "    print(f\"Модель - {model}\")\n",
    "\n",
    "    tmp_lst = []\n",
    "\n",
    "    for X_train, X_test, y_train, y_test in eval_data_lst:\n",
    "        model.fit(X_train, y_train)\n",
    "        preds = model.predict(X_test)\n",
    "        tmp_lst.append(mean_squared_error(y_test, preds))\n",
    "    print(f\"Среднее квадратное отклонение: {np.mean(tmp_lst)}\")\n",
    "    # print(f\"Среднее абсолютное отклонение: {mean_absolute_error(y_test, preds)}\")\n",
    "    print() "
   ]
  },
  {
   "cell_type": "markdown",
   "metadata": {},
   "source": [
    "Теперь посмотрим, как отработают модели, если мы попробуем извлечь информацию из сообщения комита самым простым способом с помощью tfidf и svd/pca"
   ]
  },
  {
   "cell_type": "code",
   "execution_count": 163,
   "metadata": {},
   "outputs": [
    {
     "name": "stdout",
     "output_type": "stream",
     "text": [
      "(255, 555)\n",
      "(64, 555)\n"
     ]
    }
   ],
   "source": [
    "tfidf = TfidfVectorizer(tokenizer=d_u.simple_tokenizer)\n",
    "\n",
    "msg_embs_train = tfidf.fit_transform(df.commit_message.values[train_idxs]).toarray()\n",
    "msg_embs_test = tfidf.transform(df.commit_message.values[test_idxs]).toarray()\n",
    "print(msg_embs_train.shape)\n",
    "print(msg_embs_test.shape)"
   ]
  },
  {
   "cell_type": "code",
   "execution_count": 164,
   "metadata": {},
   "outputs": [],
   "source": [
    "X = df.drop(columns=[\"bugs\", \"commit_message\"])\n",
    "y = df.bugs\n",
    "\n",
    "msg_embs_train = pd.DataFrame(msg_embs_train)\n",
    "msg_embs_test = pd.DataFrame(msg_embs_test)\n",
    "# X = pd.concat([X, msg_embs], axis=1)\n",
    "\n",
    "X_train, X_test, y_train, y_test = X.loc[train_idxs], X.loc[test_idxs], y[train_idxs], y[test_idxs]\n",
    "\n",
    "msg_embs_train.index = train_idxs\n",
    "msg_embs_test.index = test_idxs\n",
    "\n",
    "X_train_emb = pd.concat([X_train, msg_embs_train], axis=1)\n",
    "X_test_emb = pd.concat([X_test, msg_embs_test], axis=1)"
   ]
  },
  {
   "cell_type": "code",
   "execution_count": 165,
   "metadata": {},
   "outputs": [
    {
     "name": "stdout",
     "output_type": "stream",
     "text": [
      "Модель - LinearRegression()\n",
      "Среднее квадратное отклонение: 4.466638540535732\n",
      "\n",
      "Модель - SGDRegressor(random_state=42)\n",
      "Среднее квадратное отклонение: 2.3360978058935036\n",
      "\n",
      "Модель - Ridge(random_state=42)\n",
      "Среднее квадратное отклонение: 2.5210254767340077\n",
      "\n",
      "Модель - Lasso(random_state=42)\n",
      "Среднее квадратное отклонение: 2.5254327662437523\n",
      "\n",
      "Модель - RandomForestRegressor(random_state=42)\n",
      "Среднее квадратное отклонение: 1.9212890625\n",
      "\n",
      "Модель - GradientBoostingRegressor(random_state=42)\n",
      "Среднее квадратное отклонение: 1.9642904281494462\n",
      "\n",
      "Модель - SVR()\n",
      "Среднее квадратное отклонение: 2.060367996474572\n",
      "\n"
     ]
    }
   ],
   "source": [
    "for model in zoo_models:\n",
    "    print(f\"Модель - {model}\")\n",
    "    model.fit(X_train_emb.to_numpy(), y_train.to_numpy())\n",
    "    preds = model.predict(X_test_emb.to_numpy())\n",
    "    print(f\"Среднее квадратное отклонение: {mean_squared_error(y_test, preds)}\")\n",
    "    # print(f\"Среднее абсолютное отклонение: {mean_absolute_error(y_test, preds)}\")\n",
    "    print()"
   ]
  },
  {
   "cell_type": "markdown",
   "metadata": {},
   "source": [
    "Можем заметить, что при добавлении информации из сообщения коммита с помощью tfidf мы получили наименьшее отклонение от целевой переменной с помощью моделей RandomForestRegressor и GradientBoostingRegressor. Теперь посмотрим на средние ошибки на кросс-валидации"
   ]
  },
  {
   "cell_type": "code",
   "execution_count": 177,
   "metadata": {},
   "outputs": [],
   "source": [
    "cv = KFold(n_splits=5, shuffle=True, random_state=42)\n",
    "splits = cv.split(X)"
   ]
  },
  {
   "cell_type": "code",
   "execution_count": 178,
   "metadata": {},
   "outputs": [
    {
     "name": "stderr",
     "output_type": "stream",
     "text": [
      "c:\\Users\\DungeonMaster3000\\.conda\\envs\\avsoft_test_task\\lib\\site-packages\\sklearn\\utils\\validation.py:1858: FutureWarning: Feature names only support names that are all strings. Got feature names with dtypes: ['int', 'str']. An error will be raised in 1.2.\n",
      "  warnings.warn(\n",
      "c:\\Users\\DungeonMaster3000\\.conda\\envs\\avsoft_test_task\\lib\\site-packages\\sklearn\\utils\\validation.py:1858: FutureWarning: Feature names only support names that are all strings. Got feature names with dtypes: ['int', 'str']. An error will be raised in 1.2.\n",
      "  warnings.warn(\n",
      "c:\\Users\\DungeonMaster3000\\.conda\\envs\\avsoft_test_task\\lib\\site-packages\\sklearn\\utils\\validation.py:1858: FutureWarning: Feature names only support names that are all strings. Got feature names with dtypes: ['int', 'str']. An error will be raised in 1.2.\n",
      "  warnings.warn(\n",
      "c:\\Users\\DungeonMaster3000\\.conda\\envs\\avsoft_test_task\\lib\\site-packages\\sklearn\\utils\\validation.py:1858: FutureWarning: Feature names only support names that are all strings. Got feature names with dtypes: ['int', 'str']. An error will be raised in 1.2.\n",
      "  warnings.warn(\n",
      "c:\\Users\\DungeonMaster3000\\.conda\\envs\\avsoft_test_task\\lib\\site-packages\\sklearn\\utils\\validation.py:1858: FutureWarning: Feature names only support names that are all strings. Got feature names with dtypes: ['int', 'str']. An error will be raised in 1.2.\n",
      "  warnings.warn(\n",
      "c:\\Users\\DungeonMaster3000\\.conda\\envs\\avsoft_test_task\\lib\\site-packages\\sklearn\\utils\\validation.py:1858: FutureWarning: Feature names only support names that are all strings. Got feature names with dtypes: ['int', 'str']. An error will be raised in 1.2.\n",
      "  warnings.warn(\n",
      "c:\\Users\\DungeonMaster3000\\.conda\\envs\\avsoft_test_task\\lib\\site-packages\\sklearn\\utils\\validation.py:1858: FutureWarning: Feature names only support names that are all strings. Got feature names with dtypes: ['int', 'str']. An error will be raised in 1.2.\n",
      "  warnings.warn(\n",
      "c:\\Users\\DungeonMaster3000\\.conda\\envs\\avsoft_test_task\\lib\\site-packages\\sklearn\\utils\\validation.py:1858: FutureWarning: Feature names only support names that are all strings. Got feature names with dtypes: ['int', 'str']. An error will be raised in 1.2.\n",
      "  warnings.warn(\n",
      "c:\\Users\\DungeonMaster3000\\.conda\\envs\\avsoft_test_task\\lib\\site-packages\\sklearn\\utils\\validation.py:1858: FutureWarning: Feature names only support names that are all strings. Got feature names with dtypes: ['int', 'str']. An error will be raised in 1.2.\n",
      "  warnings.warn(\n",
      "c:\\Users\\DungeonMaster3000\\.conda\\envs\\avsoft_test_task\\lib\\site-packages\\sklearn\\utils\\validation.py:1858: FutureWarning: Feature names only support names that are all strings. Got feature names with dtypes: ['int', 'str']. An error will be raised in 1.2.\n",
      "  warnings.warn(\n",
      "c:\\Users\\DungeonMaster3000\\.conda\\envs\\avsoft_test_task\\lib\\site-packages\\sklearn\\utils\\validation.py:1858: FutureWarning: Feature names only support names that are all strings. Got feature names with dtypes: ['int', 'str']. An error will be raised in 1.2.\n",
      "  warnings.warn(\n",
      "c:\\Users\\DungeonMaster3000\\.conda\\envs\\avsoft_test_task\\lib\\site-packages\\sklearn\\utils\\validation.py:1858: FutureWarning: Feature names only support names that are all strings. Got feature names with dtypes: ['int', 'str']. An error will be raised in 1.2.\n",
      "  warnings.warn(\n",
      "c:\\Users\\DungeonMaster3000\\.conda\\envs\\avsoft_test_task\\lib\\site-packages\\sklearn\\utils\\validation.py:1858: FutureWarning: Feature names only support names that are all strings. Got feature names with dtypes: ['int', 'str']. An error will be raised in 1.2.\n",
      "  warnings.warn(\n",
      "c:\\Users\\DungeonMaster3000\\.conda\\envs\\avsoft_test_task\\lib\\site-packages\\sklearn\\utils\\validation.py:1858: FutureWarning: Feature names only support names that are all strings. Got feature names with dtypes: ['int', 'str']. An error will be raised in 1.2.\n",
      "  warnings.warn(\n",
      "c:\\Users\\DungeonMaster3000\\.conda\\envs\\avsoft_test_task\\lib\\site-packages\\sklearn\\utils\\validation.py:1858: FutureWarning: Feature names only support names that are all strings. Got feature names with dtypes: ['int', 'str']. An error will be raised in 1.2.\n",
      "  warnings.warn(\n"
     ]
    }
   ],
   "source": [
    "eval_data_lst = []\n",
    "for i_train, i_test in splits:\n",
    "    tfidf = TfidfVectorizer(tokenizer=d_u.simple_tokenizer)\n",
    "\n",
    "    msg_embs_train = tfidf.fit_transform(df.commit_message.values[i_train]).toarray()\n",
    "    msg_embs_test = tfidf.transform(df.commit_message.values[i_test]).toarray()\n",
    "\n",
    "    msg_embs_train = pd.DataFrame(msg_embs_train)\n",
    "    msg_embs_test = pd.DataFrame(msg_embs_test)\n",
    "    # X = pd.concat([X, msg_embs], axis=1)\n",
    "\n",
    "    X_train, X_test, y_train, y_test = X.loc[i_train], X.loc[i_test], y[i_train], y[i_test]\n",
    "\n",
    "    msg_embs_train.index = i_train\n",
    "    msg_embs_test.index = i_test\n",
    "\n",
    "    X_train_emb = pd.concat([X_train, msg_embs_train], axis=1)\n",
    "    X_test_emb = pd.concat([X_test, msg_embs_test], axis=1)\n",
    "\n",
    "    ss = StandardScaler()\n",
    "    X_train = ss.fit_transform(X_train_emb)\n",
    "    X_test = ss.transform(X_test_emb)\n",
    "\n",
    "    eval_data_lst.append((X_train_emb, X_test_emb, y_train, y_test))    "
   ]
  },
  {
   "cell_type": "code",
   "execution_count": 180,
   "metadata": {},
   "outputs": [
    {
     "name": "stdout",
     "output_type": "stream",
     "text": [
      "Модель - LinearRegression()\n",
      "Среднее квадратное отклонение: 4.051258697962091\n",
      "\n",
      "Модель - SGDRegressor(random_state=42)\n",
      "Среднее квадратное отклонение: 2.544314136103807\n",
      "\n",
      "Модель - Ridge(random_state=42)\n",
      "Среднее квадратное отклонение: 2.569979525885581\n",
      "\n",
      "Модель - Lasso(random_state=42)\n",
      "Среднее квадратное отклонение: 3.4774931163795175\n",
      "\n",
      "Модель - RandomForestRegressor(random_state=42)\n",
      "Среднее квадратное отклонение: 2.55626306547619\n",
      "\n",
      "Модель - GradientBoostingRegressor(random_state=42)\n",
      "Среднее квадратное отклонение: 2.3125281732052922\n",
      "\n",
      "Модель - SVR()\n",
      "Среднее квадратное отклонение: 2.75252931290019\n",
      "\n"
     ]
    }
   ],
   "source": [
    "for model in zoo_models:\n",
    "    print(f\"Модель - {model}\")\n",
    "\n",
    "    tmp_lst = []\n",
    "\n",
    "    for X_train_emb, X_test_emb, y_train, y_test in eval_data_lst:\n",
    "        model.fit(X_train_emb.to_numpy(), y_train)\n",
    "        preds = model.predict(X_test_emb.to_numpy())\n",
    "        tmp_lst.append(mean_squared_error(y_test, preds))\n",
    "    print(f\"Среднее квадратное отклонение: {np.mean(tmp_lst)}\")\n",
    "    # print(f\"Среднее абсолютное отклонение: {mean_absolute_error(y_test, preds)}\")\n",
    "    print()"
   ]
  },
  {
   "cell_type": "code",
   "execution_count": 106,
   "metadata": {},
   "outputs": [],
   "source": []
  },
  {
   "cell_type": "code",
   "execution_count": 95,
   "metadata": {},
   "outputs": [
    {
     "data": {
      "text/plain": [
       "(sklearn.decomposition._truncated_svd.TruncatedSVD, 5)"
      ]
     },
     "execution_count": 95,
     "metadata": {},
     "output_type": "execute_result"
    }
   ],
   "source": [
    "dim_red_comps[0]"
   ]
  },
  {
   "cell_type": "code",
   "execution_count": 111,
   "metadata": {},
   "outputs": [],
   "source": []
  },
  {
   "cell_type": "code",
   "execution_count": 114,
   "metadata": {},
   "outputs": [],
   "source": []
  },
  {
   "cell_type": "code",
   "execution_count": 117,
   "metadata": {},
   "outputs": [
    {
     "name": "stdout",
     "output_type": "stream",
     "text": [
      "Модель - LinearRegression()\n",
      "<class 'sklearn.decomposition._truncated_svd.TruncatedSVD'>________5\n",
      "Среднее квадратное отклонение: 2.707965850830078\n",
      "<class 'sklearn.decomposition._truncated_svd.TruncatedSVD'>________10\n",
      "Среднее квадратное отклонение: 2.6955108642578125\n",
      "<class 'sklearn.decomposition._truncated_svd.TruncatedSVD'>________20\n",
      "Среднее квадратное отклонение: 2.68939208984375\n",
      "<class 'sklearn.decomposition._truncated_svd.TruncatedSVD'>________50\n",
      "Среднее квадратное отклонение: 2.6620330810546875\n",
      "<class 'sklearn.decomposition._truncated_svd.TruncatedSVD'>________100\n",
      "Среднее квадратное отклонение: 2.7361907958984375\n",
      "<class 'sklearn.decomposition._truncated_svd.TruncatedSVD'>________300\n",
      "Среднее квадратное отклонение: 2.6362152099609375\n",
      "<class 'sklearn.decomposition._pca.PCA'>________5\n",
      "Среднее квадратное отклонение: 2.624267578125\n",
      "<class 'sklearn.decomposition._pca.PCA'>________10\n",
      "Среднее квадратное отклонение: 2.6888427734375\n",
      "<class 'sklearn.decomposition._pca.PCA'>________20\n",
      "Среднее квадратное отклонение: 2.6460418701171875\n",
      "<class 'sklearn.decomposition._pca.PCA'>________50\n",
      "Среднее квадратное отклонение: 2.7081298828125\n",
      "<class 'sklearn.decomposition._pca.PCA'>________100\n",
      "Среднее квадратное отклонение: 2.7122802734375\n",
      "<class 'sklearn.decomposition._pca.PCA'>________300\n",
      "Среднее квадратное отклонение: 2.591827392578125\n",
      "_________________________________________________\n",
      "Модель - SGDRegressor(random_state=42)\n",
      "<class 'sklearn.decomposition._truncated_svd.TruncatedSVD'>________5\n",
      "Среднее квадратное отклонение: 2.4249403449885354\n",
      "<class 'sklearn.decomposition._truncated_svd.TruncatedSVD'>________10\n",
      "Среднее квадратное отклонение: 2.425162989138494\n",
      "<class 'sklearn.decomposition._truncated_svd.TruncatedSVD'>________20\n",
      "Среднее квадратное отклонение: 2.4261126928880965\n",
      "<class 'sklearn.decomposition._truncated_svd.TruncatedSVD'>________50\n",
      "Среднее квадратное отклонение: 2.425289944869508\n",
      "<class 'sklearn.decomposition._truncated_svd.TruncatedSVD'>________100\n",
      "Среднее квадратное отклонение: 2.4253063001411905\n",
      "<class 'sklearn.decomposition._truncated_svd.TruncatedSVD'>________300\n",
      "Среднее квадратное отклонение: 2.4230935720190114\n",
      "<class 'sklearn.decomposition._pca.PCA'>________5\n",
      "Среднее квадратное отклонение: 2.4228914663504337\n",
      "<class 'sklearn.decomposition._pca.PCA'>________10\n",
      "Среднее квадратное отклонение: 2.4249408821182104\n",
      "<class 'sklearn.decomposition._pca.PCA'>________20\n",
      "Среднее квадратное отклонение: 2.4257189135977955\n",
      "<class 'sklearn.decomposition._pca.PCA'>________50\n",
      "Среднее квадратное отклонение: 2.4253324373635103\n",
      "<class 'sklearn.decomposition._pca.PCA'>________100\n",
      "Среднее квадратное отклонение: 2.4253207218022754\n",
      "<class 'sklearn.decomposition._pca.PCA'>________300\n",
      "Среднее квадратное отклонение: 2.4262388258515015\n",
      "_________________________________________________\n",
      "Модель - Ridge(random_state=42)\n",
      "<class 'sklearn.decomposition._truncated_svd.TruncatedSVD'>________5\n",
      "Среднее квадратное отклонение: 2.426614940759859\n",
      "<class 'sklearn.decomposition._truncated_svd.TruncatedSVD'>________10\n",
      "Среднее квадратное отклонение: 2.425131900010837\n",
      "<class 'sklearn.decomposition._truncated_svd.TruncatedSVD'>________20\n",
      "Среднее квадратное отклонение: 2.4262729853998364\n",
      "<class 'sklearn.decomposition._truncated_svd.TruncatedSVD'>________50\n",
      "Среднее квадратное отклонение: 2.425739981692972\n",
      "<class 'sklearn.decomposition._truncated_svd.TruncatedSVD'>________100\n",
      "Среднее квадратное отклонение: 2.423587309290891\n",
      "<class 'sklearn.decomposition._truncated_svd.TruncatedSVD'>________300\n",
      "Среднее квадратное отклонение: 2.4238910677694334\n",
      "<class 'sklearn.decomposition._pca.PCA'>________5\n",
      "Среднее квадратное отклонение: 2.4236715674968794\n",
      "<class 'sklearn.decomposition._pca.PCA'>________10\n",
      "Среднее квадратное отклонение: 2.425952321965016\n",
      "<class 'sklearn.decomposition._pca.PCA'>________20\n",
      "Среднее квадратное отклонение: 2.4213016911558696\n",
      "<class 'sklearn.decomposition._pca.PCA'>________50\n",
      "Среднее квадратное отклонение: 2.426235364884616\n",
      "<class 'sklearn.decomposition._pca.PCA'>________100\n",
      "Среднее квадратное отклонение: 2.4277050779380174\n",
      "<class 'sklearn.decomposition._pca.PCA'>________300\n",
      "Среднее квадратное отклонение: 2.424457156494834\n",
      "_________________________________________________\n",
      "Модель - Lasso(random_state=42)\n",
      "<class 'sklearn.decomposition._truncated_svd.TruncatedSVD'>________5\n",
      "Среднее квадратное отклонение: 2.5254327662437523\n",
      "<class 'sklearn.decomposition._truncated_svd.TruncatedSVD'>________10\n",
      "Среднее квадратное отклонение: 2.5254327662437523\n",
      "<class 'sklearn.decomposition._truncated_svd.TruncatedSVD'>________20\n",
      "Среднее квадратное отклонение: 2.5254327662437523\n",
      "<class 'sklearn.decomposition._truncated_svd.TruncatedSVD'>________50\n",
      "Среднее квадратное отклонение: 2.5254327662437523\n",
      "<class 'sklearn.decomposition._truncated_svd.TruncatedSVD'>________100\n",
      "Среднее квадратное отклонение: 2.5254327662437523\n",
      "<class 'sklearn.decomposition._truncated_svd.TruncatedSVD'>________300\n",
      "Среднее квадратное отклонение: 2.5254327662437523\n",
      "<class 'sklearn.decomposition._pca.PCA'>________5\n",
      "Среднее квадратное отклонение: 2.5254327662437523\n",
      "<class 'sklearn.decomposition._pca.PCA'>________10\n",
      "Среднее квадратное отклонение: 2.5254327662437523\n",
      "<class 'sklearn.decomposition._pca.PCA'>________20\n",
      "Среднее квадратное отклонение: 2.5254327662437523\n",
      "<class 'sklearn.decomposition._pca.PCA'>________50\n",
      "Среднее квадратное отклонение: 2.5254327662437523\n",
      "<class 'sklearn.decomposition._pca.PCA'>________100\n",
      "Среднее квадратное отклонение: 2.5254327662437523\n",
      "<class 'sklearn.decomposition._pca.PCA'>________300\n",
      "Среднее квадратное отклонение: 2.5254327662437523\n",
      "_________________________________________________\n",
      "Модель - RandomForestRegressor(random_state=42)\n",
      "<class 'sklearn.decomposition._truncated_svd.TruncatedSVD'>________5\n",
      "Среднее квадратное отклонение: 2.760634375\n",
      "<class 'sklearn.decomposition._truncated_svd.TruncatedSVD'>________10\n",
      "Среднее квадратное отклонение: 2.8540828124999997\n",
      "<class 'sklearn.decomposition._truncated_svd.TruncatedSVD'>________20\n",
      "Среднее квадратное отклонение: 2.486184375\n",
      "<class 'sklearn.decomposition._truncated_svd.TruncatedSVD'>________50\n",
      "Среднее квадратное отклонение: 2.5750406249999997\n",
      "<class 'sklearn.decomposition._truncated_svd.TruncatedSVD'>________100\n",
      "Среднее квадратное отклонение: 2.6452359375\n",
      "<class 'sklearn.decomposition._truncated_svd.TruncatedSVD'>________300\n",
      "Среднее квадратное отклонение: 2.6158562499999998\n",
      "<class 'sklearn.decomposition._pca.PCA'>________5\n",
      "Среднее квадратное отклонение: 2.5719093749999997\n",
      "<class 'sklearn.decomposition._pca.PCA'>________10\n",
      "Среднее квадратное отклонение: 3.0745390624999995\n",
      "<class 'sklearn.decomposition._pca.PCA'>________20\n",
      "Среднее квадратное отклонение: 2.7933625\n",
      "<class 'sklearn.decomposition._pca.PCA'>________50\n",
      "Среднее квадратное отклонение: 2.4651109375\n",
      "<class 'sklearn.decomposition._pca.PCA'>________100\n",
      "Среднее квадратное отклонение: 2.61365\n",
      "<class 'sklearn.decomposition._pca.PCA'>________300\n",
      "Среднее квадратное отклонение: 3.2056640625\n",
      "_________________________________________________\n",
      "Модель - GradientBoostingRegressor(random_state=42)\n",
      "<class 'sklearn.decomposition._truncated_svd.TruncatedSVD'>________5\n",
      "Среднее квадратное отклонение: 2.662219970212714\n",
      "<class 'sklearn.decomposition._truncated_svd.TruncatedSVD'>________10\n",
      "Среднее квадратное отклонение: 3.0350529781663793\n",
      "<class 'sklearn.decomposition._truncated_svd.TruncatedSVD'>________20\n",
      "Среднее квадратное отклонение: 2.635827649571172\n",
      "<class 'sklearn.decomposition._truncated_svd.TruncatedSVD'>________50\n",
      "Среднее квадратное отклонение: 2.8323223221795333\n",
      "<class 'sklearn.decomposition._truncated_svd.TruncatedSVD'>________100\n",
      "Среднее квадратное отклонение: 2.9143648716507515\n",
      "<class 'sklearn.decomposition._truncated_svd.TruncatedSVD'>________300\n",
      "Среднее квадратное отклонение: 2.759297875727533\n",
      "<class 'sklearn.decomposition._pca.PCA'>________5\n",
      "Среднее квадратное отклонение: 2.8088429750315687\n",
      "<class 'sklearn.decomposition._pca.PCA'>________10\n",
      "Среднее квадратное отклонение: 3.396167409379066\n",
      "<class 'sklearn.decomposition._pca.PCA'>________20\n",
      "Среднее квадратное отклонение: 2.853071169316962\n",
      "<class 'sklearn.decomposition._pca.PCA'>________50\n",
      "Среднее квадратное отклонение: 2.983443645077193\n",
      "<class 'sklearn.decomposition._pca.PCA'>________100\n",
      "Среднее квадратное отклонение: 2.999860343507998\n",
      "<class 'sklearn.decomposition._pca.PCA'>________300\n",
      "Среднее квадратное отклонение: 3.1174182123927903\n",
      "_________________________________________________\n",
      "Модель - SVR()\n",
      "<class 'sklearn.decomposition._truncated_svd.TruncatedSVD'>________5\n",
      "Среднее квадратное отклонение: 2.2390019451540857\n",
      "<class 'sklearn.decomposition._truncated_svd.TruncatedSVD'>________10\n",
      "Среднее квадратное отклонение: 2.2396061462899355\n",
      "<class 'sklearn.decomposition._truncated_svd.TruncatedSVD'>________20\n",
      "Среднее квадратное отклонение: 2.2409744475389344\n",
      "<class 'sklearn.decomposition._truncated_svd.TruncatedSVD'>________50\n",
      "Среднее квадратное отклонение: 2.2396915583549735\n",
      "<class 'sklearn.decomposition._truncated_svd.TruncatedSVD'>________100\n",
      "Среднее квадратное отклонение: 2.2383471948986364\n",
      "<class 'sklearn.decomposition._truncated_svd.TruncatedSVD'>________300\n",
      "Среднее квадратное отклонение: 2.2422391199741583\n",
      "<class 'sklearn.decomposition._pca.PCA'>________5\n",
      "Среднее квадратное отклонение: 2.2368535021947054\n",
      "<class 'sklearn.decomposition._pca.PCA'>________10\n",
      "Среднее квадратное отклонение: 2.240654873432277\n",
      "<class 'sklearn.decomposition._pca.PCA'>________20\n",
      "Среднее квадратное отклонение: 2.236981002462376\n",
      "<class 'sklearn.decomposition._pca.PCA'>________50\n",
      "Среднее квадратное отклонение: 2.239351389670902\n",
      "<class 'sklearn.decomposition._pca.PCA'>________100\n",
      "Среднее квадратное отклонение: 2.2410984160597924\n",
      "<class 'sklearn.decomposition._pca.PCA'>________300\n",
      "Среднее квадратное отклонение: 2.2404746294233937\n",
      "_________________________________________________\n"
     ]
    }
   ],
   "source": []
  },
  {
   "cell_type": "code",
   "execution_count": null,
   "metadata": {},
   "outputs": [],
   "source": []
  }
 ],
 "metadata": {
  "kernelspec": {
   "display_name": "Python 3.9.12 ('avsoft_test_task')",
   "language": "python",
   "name": "python3"
  },
  "language_info": {
   "codemirror_mode": {
    "name": "ipython",
    "version": 3
   },
   "file_extension": ".py",
   "mimetype": "text/x-python",
   "name": "python",
   "nbconvert_exporter": "python",
   "pygments_lexer": "ipython3",
   "version": "3.9.12"
  },
  "orig_nbformat": 4,
  "vscode": {
   "interpreter": {
    "hash": "55b5977c218ce617a475901f98f0c5239dda01575bc0160c4b4058a44613146e"
   }
  }
 },
 "nbformat": 4,
 "nbformat_minor": 2
}
