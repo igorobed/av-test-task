{
 "cells": [
  {
   "cell_type": "code",
   "execution_count": 1,
   "metadata": {},
   "outputs": [],
   "source": [
    "import pandas as pd\n",
    "from collections import Counter\n",
    "import numpy as np\n",
    "from sklearn.feature_extraction.text import CountVectorizer\n",
    "import os\n",
    "import sys"
   ]
  },
  {
   "cell_type": "code",
   "execution_count": 2,
   "metadata": {},
   "outputs": [
    {
     "name": "stderr",
     "output_type": "stream",
     "text": [
      "[nltk_data] Downloading package stopwords to\n",
      "[nltk_data]     C:\\Users\\DungeonMaster3000\\AppData\\Roaming\\nltk_data..\n",
      "[nltk_data]     .\n",
      "[nltk_data]   Package stopwords is already up-to-date!\n"
     ]
    }
   ],
   "source": [
    "sys.path.append(\"../\")\n",
    "\n",
    "# import ipynb.fs.full.data_utils as d_u\n",
    "import src.data_utils as d_u"
   ]
  },
  {
   "cell_type": "code",
   "execution_count": 3,
   "metadata": {},
   "outputs": [],
   "source": [
    "df = pd.read_csv(\"../data/raw/АВСОФТ_тест_ML_приложение.csv\")"
   ]
  },
  {
   "cell_type": "markdown",
   "metadata": {},
   "source": [
    "Посмотрим на имеющиеся данные"
   ]
  },
  {
   "cell_type": "code",
   "execution_count": 4,
   "metadata": {},
   "outputs": [
    {
     "data": {
      "text/html": [
       "<div>\n",
       "<style scoped>\n",
       "    .dataframe tbody tr th:only-of-type {\n",
       "        vertical-align: middle;\n",
       "    }\n",
       "\n",
       "    .dataframe tbody tr th {\n",
       "        vertical-align: top;\n",
       "    }\n",
       "\n",
       "    .dataframe thead th {\n",
       "        text-align: right;\n",
       "    }\n",
       "</style>\n",
       "<table border=\"1\" class=\"dataframe\">\n",
       "  <thead>\n",
       "    <tr style=\"text-align: right;\">\n",
       "      <th></th>\n",
       "      <th>repository_name</th>\n",
       "      <th>commit_hash</th>\n",
       "      <th>commit_date</th>\n",
       "      <th>commit_author</th>\n",
       "      <th>commit_message</th>\n",
       "      <th>bugs</th>\n",
       "    </tr>\n",
       "  </thead>\n",
       "  <tbody>\n",
       "    <tr>\n",
       "      <th>113</th>\n",
       "      <td>conductor</td>\n",
       "      <td>d5ec27d7</td>\n",
       "      <td>2020-04-30T11:44:04</td>\n",
       "      <td>Victor</td>\n",
       "      <td>хэш вычисляется у существующих файлов</td>\n",
       "      <td>4</td>\n",
       "    </tr>\n",
       "    <tr>\n",
       "      <th>61</th>\n",
       "      <td>standard</td>\n",
       "      <td>366750c8</td>\n",
       "      <td>2020-05-05T10:02:27</td>\n",
       "      <td>Victor</td>\n",
       "      <td>Fix proxy_install</td>\n",
       "      <td>2</td>\n",
       "    </tr>\n",
       "    <tr>\n",
       "      <th>190</th>\n",
       "      <td>conductor</td>\n",
       "      <td>188ac88b</td>\n",
       "      <td>2020-03-14T11:22:29</td>\n",
       "      <td>Dabe</td>\n",
       "      <td>Added auth toke</td>\n",
       "      <td>3</td>\n",
       "    </tr>\n",
       "    <tr>\n",
       "      <th>236</th>\n",
       "      <td>sensor</td>\n",
       "      <td>3b5d6df1</td>\n",
       "      <td>2020-05-06T11:39:39</td>\n",
       "      <td>Victor</td>\n",
       "      <td>Update filebeat</td>\n",
       "      <td>1</td>\n",
       "    </tr>\n",
       "    <tr>\n",
       "      <th>251</th>\n",
       "      <td>sensor</td>\n",
       "      <td>f31bcced</td>\n",
       "      <td>2020-04-30T09:27:27</td>\n",
       "      <td>Victor</td>\n",
       "      <td>права через acl</td>\n",
       "      <td>2</td>\n",
       "    </tr>\n",
       "  </tbody>\n",
       "</table>\n",
       "</div>"
      ],
      "text/plain": [
       "    repository_name commit_hash          commit_date commit_author  \\\n",
       "113       conductor    d5ec27d7  2020-04-30T11:44:04        Victor   \n",
       "61         standard    366750c8  2020-05-05T10:02:27        Victor   \n",
       "190       conductor    188ac88b  2020-03-14T11:22:29          Dabe   \n",
       "236          sensor    3b5d6df1  2020-05-06T11:39:39        Victor   \n",
       "251          sensor    f31bcced  2020-04-30T09:27:27        Victor   \n",
       "\n",
       "                            commit_message  bugs  \n",
       "113  хэш вычисляется у существующих файлов     4  \n",
       "61                       Fix proxy_install     2  \n",
       "190                        Added auth toke     3  \n",
       "236                        Update filebeat     1  \n",
       "251                        права через acl     2  "
      ]
     },
     "execution_count": 4,
     "metadata": {},
     "output_type": "execute_result"
    }
   ],
   "source": [
    "df.sample(5)"
   ]
  },
  {
   "cell_type": "code",
   "execution_count": 5,
   "metadata": {},
   "outputs": [
    {
     "name": "stdout",
     "output_type": "stream",
     "text": [
      "<class 'pandas.core.frame.DataFrame'>\n",
      "RangeIndex: 319 entries, 0 to 318\n",
      "Data columns (total 6 columns):\n",
      " #   Column           Non-Null Count  Dtype \n",
      "---  ------           --------------  ----- \n",
      " 0   repository_name  319 non-null    object\n",
      " 1   commit_hash      319 non-null    object\n",
      " 2   commit_date      319 non-null    object\n",
      " 3   commit_author    319 non-null    object\n",
      " 4   commit_message   319 non-null    object\n",
      " 5   bugs             319 non-null    int64 \n",
      "dtypes: int64(1), object(5)\n",
      "memory usage: 15.1+ KB\n"
     ]
    }
   ],
   "source": [
    "df.info()"
   ]
  },
  {
   "cell_type": "code",
   "execution_count": 6,
   "metadata": {},
   "outputs": [
    {
     "data": {
      "text/plain": [
       "repository_name    0\n",
       "commit_hash        0\n",
       "commit_date        0\n",
       "commit_author      0\n",
       "commit_message     0\n",
       "bugs               0\n",
       "dtype: int64"
      ]
     },
     "execution_count": 6,
     "metadata": {},
     "output_type": "execute_result"
    }
   ],
   "source": [
    "df.isnull().sum()"
   ]
  },
  {
   "cell_type": "markdown",
   "metadata": {},
   "source": [
    "Данных очень мало, пропущенные значения отсутствуют. Числовых признаков нету, не считая целевой переменной. Также необходимо проверить датасет на наличие дубликатов"
   ]
  },
  {
   "cell_type": "code",
   "execution_count": 7,
   "metadata": {},
   "outputs": [
    {
     "data": {
      "text/plain": [
       "0"
      ]
     },
     "execution_count": 7,
     "metadata": {},
     "output_type": "execute_result"
    }
   ],
   "source": [
    "df.duplicated().sum()"
   ]
  },
  {
   "cell_type": "markdown",
   "metadata": {},
   "source": [
    "Дубликаты отсутствуют..."
   ]
  },
  {
   "cell_type": "markdown",
   "metadata": {},
   "source": [
    "Сразу посмотрим на признак commit_hash"
   ]
  },
  {
   "cell_type": "code",
   "execution_count": 8,
   "metadata": {},
   "outputs": [
    {
     "data": {
      "text/plain": [
       "True"
      ]
     },
     "execution_count": 8,
     "metadata": {},
     "output_type": "execute_result"
    }
   ],
   "source": [
    "len(df.commit_hash.unique()) == len(df)"
   ]
  },
  {
   "cell_type": "markdown",
   "metadata": {},
   "source": [
    "Все значения уникальны и не несут какого-либо полезного смысла, поэтому данный признак удаляется"
   ]
  },
  {
   "cell_type": "code",
   "execution_count": 9,
   "metadata": {},
   "outputs": [],
   "source": [
    "df.drop(columns=[\"commit_hash\"], inplace=True)"
   ]
  },
  {
   "cell_type": "markdown",
   "metadata": {},
   "source": [
    "Следующий изучаемый нами признак - repository_name"
   ]
  },
  {
   "cell_type": "code",
   "execution_count": 10,
   "metadata": {},
   "outputs": [
    {
     "data": {
      "text/plain": [
       "conductor    114\n",
       "sensor       102\n",
       "mlm           41\n",
       "standard      29\n",
       "dockers       19\n",
       "agent         14\n",
       "Name: repository_name, dtype: int64"
      ]
     },
     "execution_count": 10,
     "metadata": {},
     "output_type": "execute_result"
    }
   ],
   "source": [
    "df.repository_name.value_counts()"
   ]
  },
  {
   "cell_type": "code",
   "execution_count": 11,
   "metadata": {},
   "outputs": [
    {
     "data": {
      "text/html": [
       "<div>\n",
       "<style scoped>\n",
       "    .dataframe tbody tr th:only-of-type {\n",
       "        vertical-align: middle;\n",
       "    }\n",
       "\n",
       "    .dataframe tbody tr th {\n",
       "        vertical-align: top;\n",
       "    }\n",
       "\n",
       "    .dataframe thead th {\n",
       "        text-align: right;\n",
       "    }\n",
       "</style>\n",
       "<table border=\"1\" class=\"dataframe\">\n",
       "  <thead>\n",
       "    <tr style=\"text-align: right;\">\n",
       "      <th></th>\n",
       "      <th>sum</th>\n",
       "      <th>mean</th>\n",
       "      <th>median</th>\n",
       "      <th>min</th>\n",
       "      <th>max</th>\n",
       "    </tr>\n",
       "    <tr>\n",
       "      <th>repository_name</th>\n",
       "      <th></th>\n",
       "      <th></th>\n",
       "      <th></th>\n",
       "      <th></th>\n",
       "      <th></th>\n",
       "    </tr>\n",
       "  </thead>\n",
       "  <tbody>\n",
       "    <tr>\n",
       "      <th>agent</th>\n",
       "      <td>41</td>\n",
       "      <td>2.928571</td>\n",
       "      <td>3.0</td>\n",
       "      <td>1</td>\n",
       "      <td>5</td>\n",
       "    </tr>\n",
       "    <tr>\n",
       "      <th>conductor</th>\n",
       "      <td>343</td>\n",
       "      <td>3.008772</td>\n",
       "      <td>3.0</td>\n",
       "      <td>0</td>\n",
       "      <td>9</td>\n",
       "    </tr>\n",
       "    <tr>\n",
       "      <th>dockers</th>\n",
       "      <td>48</td>\n",
       "      <td>2.526316</td>\n",
       "      <td>3.0</td>\n",
       "      <td>0</td>\n",
       "      <td>5</td>\n",
       "    </tr>\n",
       "    <tr>\n",
       "      <th>mlm</th>\n",
       "      <td>206</td>\n",
       "      <td>5.024390</td>\n",
       "      <td>4.0</td>\n",
       "      <td>1</td>\n",
       "      <td>12</td>\n",
       "    </tr>\n",
       "    <tr>\n",
       "      <th>sensor</th>\n",
       "      <td>233</td>\n",
       "      <td>2.284314</td>\n",
       "      <td>2.0</td>\n",
       "      <td>0</td>\n",
       "      <td>6</td>\n",
       "    </tr>\n",
       "    <tr>\n",
       "      <th>standard</th>\n",
       "      <td>85</td>\n",
       "      <td>2.931034</td>\n",
       "      <td>3.0</td>\n",
       "      <td>0</td>\n",
       "      <td>7</td>\n",
       "    </tr>\n",
       "  </tbody>\n",
       "</table>\n",
       "</div>"
      ],
      "text/plain": [
       "                 sum      mean  median  min  max\n",
       "repository_name                                 \n",
       "agent             41  2.928571     3.0    1    5\n",
       "conductor        343  3.008772     3.0    0    9\n",
       "dockers           48  2.526316     3.0    0    5\n",
       "mlm              206  5.024390     4.0    1   12\n",
       "sensor           233  2.284314     2.0    0    6\n",
       "standard          85  2.931034     3.0    0    7"
      ]
     },
     "execution_count": 11,
     "metadata": {},
     "output_type": "execute_result"
    }
   ],
   "source": [
    "df.groupby(\"repository_name\")[\"bugs\"].agg([\"sum\", \"mean\", \"median\", \"min\", \"max\"])"
   ]
  },
  {
   "cell_type": "markdown",
   "metadata": {},
   "source": [
    "Заметно выделяется репозиторий mlm в нем в среднем находят багов больше"
   ]
  },
  {
   "cell_type": "markdown",
   "metadata": {},
   "source": [
    "У нас всего 6 репозиториев, что довольно немного. Для кодирования данного признака используем One-Hot Encoder"
   ]
  },
  {
   "cell_type": "markdown",
   "metadata": {},
   "source": [
    "Посмотрим на признак commit_author"
   ]
  },
  {
   "cell_type": "code",
   "execution_count": 31,
   "metadata": {},
   "outputs": [
    {
     "data": {
      "text/plain": [
       "Victor     134\n",
       "Mallory     67\n",
       "Wendy       48\n",
       "Dabe        42\n",
       "Trudy        9\n",
       "Eve          9\n",
       "Carol        4\n",
       "Peggy        2\n",
       "Bob          2\n",
       "Alice        2\n",
       "Name: commit_author, dtype: int64"
      ]
     },
     "execution_count": 31,
     "metadata": {},
     "output_type": "execute_result"
    }
   ],
   "source": [
    "df.commit_author.value_counts()"
   ]
  },
  {
   "cell_type": "code",
   "execution_count": 32,
   "metadata": {},
   "outputs": [
    {
     "data": {
      "text/html": [
       "<div>\n",
       "<style scoped>\n",
       "    .dataframe tbody tr th:only-of-type {\n",
       "        vertical-align: middle;\n",
       "    }\n",
       "\n",
       "    .dataframe tbody tr th {\n",
       "        vertical-align: top;\n",
       "    }\n",
       "\n",
       "    .dataframe thead th {\n",
       "        text-align: right;\n",
       "    }\n",
       "</style>\n",
       "<table border=\"1\" class=\"dataframe\">\n",
       "  <thead>\n",
       "    <tr style=\"text-align: right;\">\n",
       "      <th></th>\n",
       "      <th>sum</th>\n",
       "      <th>mean</th>\n",
       "      <th>median</th>\n",
       "      <th>min</th>\n",
       "      <th>max</th>\n",
       "    </tr>\n",
       "    <tr>\n",
       "      <th>commit_author</th>\n",
       "      <th></th>\n",
       "      <th></th>\n",
       "      <th></th>\n",
       "      <th></th>\n",
       "      <th></th>\n",
       "    </tr>\n",
       "  </thead>\n",
       "  <tbody>\n",
       "    <tr>\n",
       "      <th>Alice</th>\n",
       "      <td>1</td>\n",
       "      <td>0.500000</td>\n",
       "      <td>0.5</td>\n",
       "      <td>0</td>\n",
       "      <td>1</td>\n",
       "    </tr>\n",
       "    <tr>\n",
       "      <th>Bob</th>\n",
       "      <td>5</td>\n",
       "      <td>2.500000</td>\n",
       "      <td>2.5</td>\n",
       "      <td>2</td>\n",
       "      <td>3</td>\n",
       "    </tr>\n",
       "    <tr>\n",
       "      <th>Carol</th>\n",
       "      <td>6</td>\n",
       "      <td>1.500000</td>\n",
       "      <td>1.0</td>\n",
       "      <td>0</td>\n",
       "      <td>4</td>\n",
       "    </tr>\n",
       "    <tr>\n",
       "      <th>Dabe</th>\n",
       "      <td>101</td>\n",
       "      <td>2.404762</td>\n",
       "      <td>2.0</td>\n",
       "      <td>1</td>\n",
       "      <td>6</td>\n",
       "    </tr>\n",
       "    <tr>\n",
       "      <th>Eve</th>\n",
       "      <td>32</td>\n",
       "      <td>3.555556</td>\n",
       "      <td>3.0</td>\n",
       "      <td>1</td>\n",
       "      <td>7</td>\n",
       "    </tr>\n",
       "    <tr>\n",
       "      <th>Mallory</th>\n",
       "      <td>213</td>\n",
       "      <td>3.179104</td>\n",
       "      <td>3.0</td>\n",
       "      <td>0</td>\n",
       "      <td>8</td>\n",
       "    </tr>\n",
       "    <tr>\n",
       "      <th>Peggy</th>\n",
       "      <td>7</td>\n",
       "      <td>3.500000</td>\n",
       "      <td>3.5</td>\n",
       "      <td>1</td>\n",
       "      <td>6</td>\n",
       "    </tr>\n",
       "    <tr>\n",
       "      <th>Trudy</th>\n",
       "      <td>19</td>\n",
       "      <td>2.111111</td>\n",
       "      <td>2.0</td>\n",
       "      <td>1</td>\n",
       "      <td>4</td>\n",
       "    </tr>\n",
       "    <tr>\n",
       "      <th>Victor</th>\n",
       "      <td>464</td>\n",
       "      <td>3.462687</td>\n",
       "      <td>3.0</td>\n",
       "      <td>0</td>\n",
       "      <td>12</td>\n",
       "    </tr>\n",
       "    <tr>\n",
       "      <th>Wendy</th>\n",
       "      <td>108</td>\n",
       "      <td>2.250000</td>\n",
       "      <td>2.0</td>\n",
       "      <td>0</td>\n",
       "      <td>7</td>\n",
       "    </tr>\n",
       "  </tbody>\n",
       "</table>\n",
       "</div>"
      ],
      "text/plain": [
       "               sum      mean  median  min  max\n",
       "commit_author                                 \n",
       "Alice            1  0.500000     0.5    0    1\n",
       "Bob              5  2.500000     2.5    2    3\n",
       "Carol            6  1.500000     1.0    0    4\n",
       "Dabe           101  2.404762     2.0    1    6\n",
       "Eve             32  3.555556     3.0    1    7\n",
       "Mallory        213  3.179104     3.0    0    8\n",
       "Peggy            7  3.500000     3.5    1    6\n",
       "Trudy           19  2.111111     2.0    1    4\n",
       "Victor         464  3.462687     3.0    0   12\n",
       "Wendy          108  2.250000     2.0    0    7"
      ]
     },
     "execution_count": 32,
     "metadata": {},
     "output_type": "execute_result"
    }
   ],
   "source": [
    "df.groupby(\"commit_author\")[\"bugs\"].agg([\"sum\", \"mean\", \"median\", \"min\", \"max\"])"
   ]
  },
  {
   "cell_type": "markdown",
   "metadata": {},
   "source": [
    "Среди авторов коммитов можно выделить 3 категори: исправивший ОЧ большое кол-во багов, испаравившие больше 10 багов и исправившие меньше или равно 10 багов. Таким образом сразу возникает несколько идей кодирования данного категориального признака. Во-первых, использовать стандартный One-Hot Encoder, но этот вариант кажется не самым разумным в данный момент, так как не хочется раздувать размер признакового пространства при малом количестве обучающих данных. Во-вторых, разделить авторов коммитов на 3 категории и уже к ним применять One-Hot Encoder. В-третьих, мы можем применить Label Encoder, где наибольшее значение будет соответствоватьавтору, который нашел больше всего багов."
   ]
  },
  {
   "cell_type": "markdown",
   "metadata": {},
   "source": [
    "Следующим рассмотрим признак commit_date."
   ]
  },
  {
   "cell_type": "code",
   "execution_count": 34,
   "metadata": {},
   "outputs": [
    {
     "data": {
      "text/html": [
       "<div>\n",
       "<style scoped>\n",
       "    .dataframe tbody tr th:only-of-type {\n",
       "        vertical-align: middle;\n",
       "    }\n",
       "\n",
       "    .dataframe tbody tr th {\n",
       "        vertical-align: top;\n",
       "    }\n",
       "\n",
       "    .dataframe thead th {\n",
       "        text-align: right;\n",
       "    }\n",
       "</style>\n",
       "<table border=\"1\" class=\"dataframe\">\n",
       "  <thead>\n",
       "    <tr style=\"text-align: right;\">\n",
       "      <th></th>\n",
       "      <th>repository_name</th>\n",
       "      <th>commit_author</th>\n",
       "      <th>commit_date</th>\n",
       "    </tr>\n",
       "  </thead>\n",
       "  <tbody>\n",
       "    <tr>\n",
       "      <th>0</th>\n",
       "      <td>mlm</td>\n",
       "      <td>Victor</td>\n",
       "      <td>2020-06-12T14:26:12</td>\n",
       "    </tr>\n",
       "    <tr>\n",
       "      <th>1</th>\n",
       "      <td>mlm</td>\n",
       "      <td>Victor</td>\n",
       "      <td>2020-06-12T11:53:10</td>\n",
       "    </tr>\n",
       "    <tr>\n",
       "      <th>2</th>\n",
       "      <td>mlm</td>\n",
       "      <td>Victor</td>\n",
       "      <td>2020-06-11T15:19:03</td>\n",
       "    </tr>\n",
       "    <tr>\n",
       "      <th>3</th>\n",
       "      <td>mlm</td>\n",
       "      <td>Victor</td>\n",
       "      <td>2020-06-11T10:42:29</td>\n",
       "    </tr>\n",
       "    <tr>\n",
       "      <th>4</th>\n",
       "      <td>mlm</td>\n",
       "      <td>Victor</td>\n",
       "      <td>2020-06-11T09:25:19</td>\n",
       "    </tr>\n",
       "    <tr>\n",
       "      <th>...</th>\n",
       "      <td>...</td>\n",
       "      <td>...</td>\n",
       "      <td>...</td>\n",
       "    </tr>\n",
       "    <tr>\n",
       "      <th>314</th>\n",
       "      <td>sensor</td>\n",
       "      <td>Dabe</td>\n",
       "      <td>2020-03-23T12:54:35</td>\n",
       "    </tr>\n",
       "    <tr>\n",
       "      <th>315</th>\n",
       "      <td>sensor</td>\n",
       "      <td>Dabe</td>\n",
       "      <td>2020-03-23T12:30:52</td>\n",
       "    </tr>\n",
       "    <tr>\n",
       "      <th>316</th>\n",
       "      <td>sensor</td>\n",
       "      <td>Dabe</td>\n",
       "      <td>2020-03-23T11:27:40</td>\n",
       "    </tr>\n",
       "    <tr>\n",
       "      <th>317</th>\n",
       "      <td>sensor</td>\n",
       "      <td>Dabe</td>\n",
       "      <td>2020-03-23T11:20:50</td>\n",
       "    </tr>\n",
       "    <tr>\n",
       "      <th>318</th>\n",
       "      <td>sensor</td>\n",
       "      <td>Dabe</td>\n",
       "      <td>2020-03-23T11:07:07</td>\n",
       "    </tr>\n",
       "  </tbody>\n",
       "</table>\n",
       "<p>319 rows × 3 columns</p>\n",
       "</div>"
      ],
      "text/plain": [
       "    repository_name commit_author          commit_date\n",
       "0               mlm        Victor  2020-06-12T14:26:12\n",
       "1               mlm        Victor  2020-06-12T11:53:10\n",
       "2               mlm        Victor  2020-06-11T15:19:03\n",
       "3               mlm        Victor  2020-06-11T10:42:29\n",
       "4               mlm        Victor  2020-06-11T09:25:19\n",
       "..              ...           ...                  ...\n",
       "314          sensor          Dabe  2020-03-23T12:54:35\n",
       "315          sensor          Dabe  2020-03-23T12:30:52\n",
       "316          sensor          Dabe  2020-03-23T11:27:40\n",
       "317          sensor          Dabe  2020-03-23T11:20:50\n",
       "318          sensor          Dabe  2020-03-23T11:07:07\n",
       "\n",
       "[319 rows x 3 columns]"
      ]
     },
     "execution_count": 34,
     "metadata": {},
     "output_type": "execute_result"
    }
   ],
   "source": [
    "df[[\"repository_name\", \"commit_author\", \"commit_date\"]]"
   ]
  },
  {
   "cell_type": "markdown",
   "metadata": {},
   "source": [
    "Преобразуем столбец commit_date в более удобный для работы формат"
   ]
  },
  {
   "cell_type": "code",
   "execution_count": 35,
   "metadata": {},
   "outputs": [],
   "source": [
    "df[\"commit_date\"] = pd.to_datetime(df.commit_date)"
   ]
  },
  {
   "cell_type": "code",
   "execution_count": 36,
   "metadata": {},
   "outputs": [],
   "source": [
    "df[\"month\"] = df.commit_date.apply(lambda x: x.month)\n",
    "df[\"week\"] = df.commit_date.apply(lambda x: x.week)\n",
    "df[\"day\"] = df.commit_date.apply(lambda x: x.weekday())\n",
    "df[\"hour\"] = df.commit_date.apply(lambda x: x.hour)\n",
    "df[\"year\"] = df.commit_date.apply(lambda x: x.year)"
   ]
  },
  {
   "cell_type": "code",
   "execution_count": 37,
   "metadata": {},
   "outputs": [
    {
     "name": "stdout",
     "output_type": "stream",
     "text": [
      "2020    319\n",
      "Name: year, dtype: int64\n",
      "\n",
      "4    122\n",
      "5     83\n",
      "3     65\n",
      "6     49\n",
      "Name: month, dtype: int64\n",
      "\n"
     ]
    }
   ],
   "source": [
    "for column in [\"year\", \"month\"]:\n",
    "    print(df[column].value_counts())\n",
    "    print()"
   ]
  },
  {
   "cell_type": "markdown",
   "metadata": {},
   "source": [
    "В итоге у нас имеются данные всего навсего за 4 месяца в одном году. Посчитаем статистику по багам для каждого месяца"
   ]
  },
  {
   "cell_type": "code",
   "execution_count": 38,
   "metadata": {},
   "outputs": [
    {
     "data": {
      "text/html": [
       "<div>\n",
       "<style scoped>\n",
       "    .dataframe tbody tr th:only-of-type {\n",
       "        vertical-align: middle;\n",
       "    }\n",
       "\n",
       "    .dataframe tbody tr th {\n",
       "        vertical-align: top;\n",
       "    }\n",
       "\n",
       "    .dataframe thead th {\n",
       "        text-align: right;\n",
       "    }\n",
       "</style>\n",
       "<table border=\"1\" class=\"dataframe\">\n",
       "  <thead>\n",
       "    <tr style=\"text-align: right;\">\n",
       "      <th></th>\n",
       "      <th>sum</th>\n",
       "      <th>mean</th>\n",
       "      <th>median</th>\n",
       "      <th>min</th>\n",
       "      <th>max</th>\n",
       "    </tr>\n",
       "    <tr>\n",
       "      <th>month</th>\n",
       "      <th></th>\n",
       "      <th></th>\n",
       "      <th></th>\n",
       "      <th></th>\n",
       "      <th></th>\n",
       "    </tr>\n",
       "  </thead>\n",
       "  <tbody>\n",
       "    <tr>\n",
       "      <th>3</th>\n",
       "      <td>215</td>\n",
       "      <td>3.307692</td>\n",
       "      <td>3.0</td>\n",
       "      <td>1</td>\n",
       "      <td>12</td>\n",
       "    </tr>\n",
       "    <tr>\n",
       "      <th>4</th>\n",
       "      <td>355</td>\n",
       "      <td>2.909836</td>\n",
       "      <td>3.0</td>\n",
       "      <td>0</td>\n",
       "      <td>8</td>\n",
       "    </tr>\n",
       "    <tr>\n",
       "      <th>5</th>\n",
       "      <td>230</td>\n",
       "      <td>2.771084</td>\n",
       "      <td>2.0</td>\n",
       "      <td>0</td>\n",
       "      <td>9</td>\n",
       "    </tr>\n",
       "    <tr>\n",
       "      <th>6</th>\n",
       "      <td>156</td>\n",
       "      <td>3.183673</td>\n",
       "      <td>3.0</td>\n",
       "      <td>0</td>\n",
       "      <td>11</td>\n",
       "    </tr>\n",
       "  </tbody>\n",
       "</table>\n",
       "</div>"
      ],
      "text/plain": [
       "       sum      mean  median  min  max\n",
       "month                                 \n",
       "3      215  3.307692     3.0    1   12\n",
       "4      355  2.909836     3.0    0    8\n",
       "5      230  2.771084     2.0    0    9\n",
       "6      156  3.183673     3.0    0   11"
      ]
     },
     "execution_count": 38,
     "metadata": {},
     "output_type": "execute_result"
    }
   ],
   "source": [
    "df.groupby(\"month\")[\"bugs\"].agg([\"sum\", \"mean\", \"median\", \"min\", \"max\"])"
   ]
  },
  {
   "cell_type": "markdown",
   "metadata": {},
   "source": [
    "Видим, что сильно выделяется 4ый месяц. Меньше всего багов найдено в последнем 6ом месяце, однако это скорее всего связано с тем, что в датасет попало только 12 дней из этого месяца"
   ]
  },
  {
   "cell_type": "markdown",
   "metadata": {},
   "source": [
    "Тоже самое посмотрим для дней недели и часов"
   ]
  },
  {
   "cell_type": "code",
   "execution_count": 39,
   "metadata": {},
   "outputs": [
    {
     "data": {
      "text/html": [
       "<div>\n",
       "<style scoped>\n",
       "    .dataframe tbody tr th:only-of-type {\n",
       "        vertical-align: middle;\n",
       "    }\n",
       "\n",
       "    .dataframe tbody tr th {\n",
       "        vertical-align: top;\n",
       "    }\n",
       "\n",
       "    .dataframe thead th {\n",
       "        text-align: right;\n",
       "    }\n",
       "</style>\n",
       "<table border=\"1\" class=\"dataframe\">\n",
       "  <thead>\n",
       "    <tr style=\"text-align: right;\">\n",
       "      <th></th>\n",
       "      <th>sum</th>\n",
       "      <th>mean</th>\n",
       "      <th>median</th>\n",
       "      <th>min</th>\n",
       "      <th>max</th>\n",
       "    </tr>\n",
       "    <tr>\n",
       "      <th>day</th>\n",
       "      <th></th>\n",
       "      <th></th>\n",
       "      <th></th>\n",
       "      <th></th>\n",
       "      <th></th>\n",
       "    </tr>\n",
       "  </thead>\n",
       "  <tbody>\n",
       "    <tr>\n",
       "      <th>0</th>\n",
       "      <td>121</td>\n",
       "      <td>2.951220</td>\n",
       "      <td>2.0</td>\n",
       "      <td>1</td>\n",
       "      <td>7</td>\n",
       "    </tr>\n",
       "    <tr>\n",
       "      <th>1</th>\n",
       "      <td>65</td>\n",
       "      <td>2.600000</td>\n",
       "      <td>2.0</td>\n",
       "      <td>0</td>\n",
       "      <td>7</td>\n",
       "    </tr>\n",
       "    <tr>\n",
       "      <th>2</th>\n",
       "      <td>253</td>\n",
       "      <td>3.328947</td>\n",
       "      <td>3.0</td>\n",
       "      <td>0</td>\n",
       "      <td>11</td>\n",
       "    </tr>\n",
       "    <tr>\n",
       "      <th>3</th>\n",
       "      <td>174</td>\n",
       "      <td>2.852459</td>\n",
       "      <td>3.0</td>\n",
       "      <td>0</td>\n",
       "      <td>9</td>\n",
       "    </tr>\n",
       "    <tr>\n",
       "      <th>4</th>\n",
       "      <td>229</td>\n",
       "      <td>2.573034</td>\n",
       "      <td>2.0</td>\n",
       "      <td>0</td>\n",
       "      <td>6</td>\n",
       "    </tr>\n",
       "    <tr>\n",
       "      <th>5</th>\n",
       "      <td>40</td>\n",
       "      <td>3.333333</td>\n",
       "      <td>3.0</td>\n",
       "      <td>2</td>\n",
       "      <td>8</td>\n",
       "    </tr>\n",
       "    <tr>\n",
       "      <th>6</th>\n",
       "      <td>74</td>\n",
       "      <td>4.933333</td>\n",
       "      <td>3.0</td>\n",
       "      <td>2</td>\n",
       "      <td>12</td>\n",
       "    </tr>\n",
       "  </tbody>\n",
       "</table>\n",
       "</div>"
      ],
      "text/plain": [
       "     sum      mean  median  min  max\n",
       "day                                 \n",
       "0    121  2.951220     2.0    1    7\n",
       "1     65  2.600000     2.0    0    7\n",
       "2    253  3.328947     3.0    0   11\n",
       "3    174  2.852459     3.0    0    9\n",
       "4    229  2.573034     2.0    0    6\n",
       "5     40  3.333333     3.0    2    8\n",
       "6     74  4.933333     3.0    2   12"
      ]
     },
     "execution_count": 39,
     "metadata": {},
     "output_type": "execute_result"
    }
   ],
   "source": [
    "df.groupby(\"day\")[\"bugs\"].agg([\"sum\", \"mean\", \"median\", \"min\", \"max\"])"
   ]
  },
  {
   "cell_type": "code",
   "execution_count": 40,
   "metadata": {},
   "outputs": [
    {
     "data": {
      "text/html": [
       "<div>\n",
       "<style scoped>\n",
       "    .dataframe tbody tr th:only-of-type {\n",
       "        vertical-align: middle;\n",
       "    }\n",
       "\n",
       "    .dataframe tbody tr th {\n",
       "        vertical-align: top;\n",
       "    }\n",
       "\n",
       "    .dataframe thead th {\n",
       "        text-align: right;\n",
       "    }\n",
       "</style>\n",
       "<table border=\"1\" class=\"dataframe\">\n",
       "  <thead>\n",
       "    <tr style=\"text-align: right;\">\n",
       "      <th></th>\n",
       "      <th>sum</th>\n",
       "      <th>mean</th>\n",
       "      <th>median</th>\n",
       "      <th>min</th>\n",
       "      <th>max</th>\n",
       "    </tr>\n",
       "    <tr>\n",
       "      <th>hour</th>\n",
       "      <th></th>\n",
       "      <th></th>\n",
       "      <th></th>\n",
       "      <th></th>\n",
       "      <th></th>\n",
       "    </tr>\n",
       "  </thead>\n",
       "  <tbody>\n",
       "    <tr>\n",
       "      <th>13</th>\n",
       "      <td>131</td>\n",
       "      <td>2.977273</td>\n",
       "      <td>3.0</td>\n",
       "      <td>0</td>\n",
       "      <td>11</td>\n",
       "    </tr>\n",
       "    <tr>\n",
       "      <th>12</th>\n",
       "      <td>113</td>\n",
       "      <td>3.138889</td>\n",
       "      <td>3.0</td>\n",
       "      <td>0</td>\n",
       "      <td>10</td>\n",
       "    </tr>\n",
       "    <tr>\n",
       "      <th>16</th>\n",
       "      <td>113</td>\n",
       "      <td>2.897436</td>\n",
       "      <td>2.0</td>\n",
       "      <td>0</td>\n",
       "      <td>7</td>\n",
       "    </tr>\n",
       "    <tr>\n",
       "      <th>11</th>\n",
       "      <td>105</td>\n",
       "      <td>2.837838</td>\n",
       "      <td>3.0</td>\n",
       "      <td>0</td>\n",
       "      <td>7</td>\n",
       "    </tr>\n",
       "    <tr>\n",
       "      <th>15</th>\n",
       "      <td>100</td>\n",
       "      <td>3.225806</td>\n",
       "      <td>3.0</td>\n",
       "      <td>1</td>\n",
       "      <td>9</td>\n",
       "    </tr>\n",
       "    <tr>\n",
       "      <th>17</th>\n",
       "      <td>94</td>\n",
       "      <td>3.916667</td>\n",
       "      <td>2.5</td>\n",
       "      <td>1</td>\n",
       "      <td>12</td>\n",
       "    </tr>\n",
       "    <tr>\n",
       "      <th>14</th>\n",
       "      <td>91</td>\n",
       "      <td>3.033333</td>\n",
       "      <td>3.0</td>\n",
       "      <td>1</td>\n",
       "      <td>7</td>\n",
       "    </tr>\n",
       "    <tr>\n",
       "      <th>10</th>\n",
       "      <td>78</td>\n",
       "      <td>2.600000</td>\n",
       "      <td>2.0</td>\n",
       "      <td>0</td>\n",
       "      <td>7</td>\n",
       "    </tr>\n",
       "    <tr>\n",
       "      <th>9</th>\n",
       "      <td>60</td>\n",
       "      <td>3.157895</td>\n",
       "      <td>3.0</td>\n",
       "      <td>1</td>\n",
       "      <td>7</td>\n",
       "    </tr>\n",
       "    <tr>\n",
       "      <th>18</th>\n",
       "      <td>21</td>\n",
       "      <td>2.625000</td>\n",
       "      <td>2.5</td>\n",
       "      <td>1</td>\n",
       "      <td>4</td>\n",
       "    </tr>\n",
       "    <tr>\n",
       "      <th>8</th>\n",
       "      <td>12</td>\n",
       "      <td>2.400000</td>\n",
       "      <td>2.0</td>\n",
       "      <td>2</td>\n",
       "      <td>3</td>\n",
       "    </tr>\n",
       "    <tr>\n",
       "      <th>20</th>\n",
       "      <td>8</td>\n",
       "      <td>2.000000</td>\n",
       "      <td>2.0</td>\n",
       "      <td>1</td>\n",
       "      <td>3</td>\n",
       "    </tr>\n",
       "    <tr>\n",
       "      <th>21</th>\n",
       "      <td>7</td>\n",
       "      <td>1.750000</td>\n",
       "      <td>2.0</td>\n",
       "      <td>0</td>\n",
       "      <td>3</td>\n",
       "    </tr>\n",
       "    <tr>\n",
       "      <th>19</th>\n",
       "      <td>7</td>\n",
       "      <td>2.333333</td>\n",
       "      <td>2.0</td>\n",
       "      <td>1</td>\n",
       "      <td>4</td>\n",
       "    </tr>\n",
       "    <tr>\n",
       "      <th>6</th>\n",
       "      <td>6</td>\n",
       "      <td>6.000000</td>\n",
       "      <td>6.0</td>\n",
       "      <td>6</td>\n",
       "      <td>6</td>\n",
       "    </tr>\n",
       "    <tr>\n",
       "      <th>23</th>\n",
       "      <td>6</td>\n",
       "      <td>3.000000</td>\n",
       "      <td>3.0</td>\n",
       "      <td>3</td>\n",
       "      <td>3</td>\n",
       "    </tr>\n",
       "    <tr>\n",
       "      <th>7</th>\n",
       "      <td>3</td>\n",
       "      <td>3.000000</td>\n",
       "      <td>3.0</td>\n",
       "      <td>3</td>\n",
       "      <td>3</td>\n",
       "    </tr>\n",
       "    <tr>\n",
       "      <th>22</th>\n",
       "      <td>1</td>\n",
       "      <td>1.000000</td>\n",
       "      <td>1.0</td>\n",
       "      <td>1</td>\n",
       "      <td>1</td>\n",
       "    </tr>\n",
       "  </tbody>\n",
       "</table>\n",
       "</div>"
      ],
      "text/plain": [
       "      sum      mean  median  min  max\n",
       "hour                                 \n",
       "13    131  2.977273     3.0    0   11\n",
       "12    113  3.138889     3.0    0   10\n",
       "16    113  2.897436     2.0    0    7\n",
       "11    105  2.837838     3.0    0    7\n",
       "15    100  3.225806     3.0    1    9\n",
       "17     94  3.916667     2.5    1   12\n",
       "14     91  3.033333     3.0    1    7\n",
       "10     78  2.600000     2.0    0    7\n",
       "9      60  3.157895     3.0    1    7\n",
       "18     21  2.625000     2.5    1    4\n",
       "8      12  2.400000     2.0    2    3\n",
       "20      8  2.000000     2.0    1    3\n",
       "21      7  1.750000     2.0    0    3\n",
       "19      7  2.333333     2.0    1    4\n",
       "6       6  6.000000     6.0    6    6\n",
       "23      6  3.000000     3.0    3    3\n",
       "7       3  3.000000     3.0    3    3\n",
       "22      1  1.000000     1.0    1    1"
      ]
     },
     "execution_count": 40,
     "metadata": {},
     "output_type": "execute_result"
    }
   ],
   "source": [
    "df.groupby(\"hour\")[\"bugs\"].agg([\"sum\", \"mean\", \"median\", \"min\", \"max\"]).sort_values(by=\"sum\", ascending=False)"
   ]
  },
  {
   "cell_type": "markdown",
   "metadata": {},
   "source": [
    "Можно заметить, что больше всего багов было найдено в будние дни в рабочие часы..."
   ]
  },
  {
   "cell_type": "markdown",
   "metadata": {},
   "source": [
    "Проверим, уменьшается ли со временем количества найденных в течение дня багов в каждом репозитории"
   ]
  },
  {
   "cell_type": "code",
   "execution_count": 41,
   "metadata": {},
   "outputs": [
    {
     "data": {
      "text/html": [
       "<div>\n",
       "<style scoped>\n",
       "    .dataframe tbody tr th:only-of-type {\n",
       "        vertical-align: middle;\n",
       "    }\n",
       "\n",
       "    .dataframe tbody tr th {\n",
       "        vertical-align: top;\n",
       "    }\n",
       "\n",
       "    .dataframe thead th {\n",
       "        text-align: right;\n",
       "    }\n",
       "</style>\n",
       "<table border=\"1\" class=\"dataframe\">\n",
       "  <thead>\n",
       "    <tr style=\"text-align: right;\">\n",
       "      <th></th>\n",
       "      <th>repository_name</th>\n",
       "      <th>commit_date</th>\n",
       "      <th>commit_author</th>\n",
       "      <th>commit_message</th>\n",
       "      <th>bugs</th>\n",
       "      <th>month</th>\n",
       "      <th>week</th>\n",
       "      <th>day</th>\n",
       "      <th>hour</th>\n",
       "      <th>year</th>\n",
       "    </tr>\n",
       "  </thead>\n",
       "  <tbody>\n",
       "    <tr>\n",
       "      <th>217</th>\n",
       "      <td>sensor</td>\n",
       "      <td>2020-06-10 10:17:03</td>\n",
       "      <td>Wendy</td>\n",
       "      <td>No more log rotate</td>\n",
       "      <td>2</td>\n",
       "      <td>6</td>\n",
       "      <td>24</td>\n",
       "      <td>2</td>\n",
       "      <td>10</td>\n",
       "      <td>2020</td>\n",
       "    </tr>\n",
       "    <tr>\n",
       "      <th>218</th>\n",
       "      <td>sensor</td>\n",
       "      <td>2020-06-04 20:44:51</td>\n",
       "      <td>Wendy</td>\n",
       "      <td>Update rules.yaml</td>\n",
       "      <td>1</td>\n",
       "      <td>6</td>\n",
       "      <td>23</td>\n",
       "      <td>3</td>\n",
       "      <td>20</td>\n",
       "      <td>2020</td>\n",
       "    </tr>\n",
       "    <tr>\n",
       "      <th>219</th>\n",
       "      <td>sensor</td>\n",
       "      <td>2020-06-04 20:33:07</td>\n",
       "      <td>Wendy</td>\n",
       "      <td>Добавлен энтрипоинт</td>\n",
       "      <td>1</td>\n",
       "      <td>6</td>\n",
       "      <td>23</td>\n",
       "      <td>3</td>\n",
       "      <td>20</td>\n",
       "      <td>2020</td>\n",
       "    </tr>\n",
       "    <tr>\n",
       "      <th>220</th>\n",
       "      <td>sensor</td>\n",
       "      <td>2020-06-04 18:28:36</td>\n",
       "      <td>Wendy</td>\n",
       "      <td>add rules folder</td>\n",
       "      <td>1</td>\n",
       "      <td>6</td>\n",
       "      <td>23</td>\n",
       "      <td>3</td>\n",
       "      <td>18</td>\n",
       "      <td>2020</td>\n",
       "    </tr>\n",
       "    <tr>\n",
       "      <th>221</th>\n",
       "      <td>sensor</td>\n",
       "      <td>2020-06-04 16:17:13</td>\n",
       "      <td>Wendy</td>\n",
       "      <td>fix rules.yaml</td>\n",
       "      <td>1</td>\n",
       "      <td>6</td>\n",
       "      <td>23</td>\n",
       "      <td>3</td>\n",
       "      <td>16</td>\n",
       "      <td>2020</td>\n",
       "    </tr>\n",
       "    <tr>\n",
       "      <th>...</th>\n",
       "      <td>...</td>\n",
       "      <td>...</td>\n",
       "      <td>...</td>\n",
       "      <td>...</td>\n",
       "      <td>...</td>\n",
       "      <td>...</td>\n",
       "      <td>...</td>\n",
       "      <td>...</td>\n",
       "      <td>...</td>\n",
       "      <td>...</td>\n",
       "    </tr>\n",
       "    <tr>\n",
       "      <th>314</th>\n",
       "      <td>sensor</td>\n",
       "      <td>2020-03-23 12:54:35</td>\n",
       "      <td>Dabe</td>\n",
       "      <td>setting hostname</td>\n",
       "      <td>1</td>\n",
       "      <td>3</td>\n",
       "      <td>13</td>\n",
       "      <td>0</td>\n",
       "      <td>12</td>\n",
       "      <td>2020</td>\n",
       "    </tr>\n",
       "    <tr>\n",
       "      <th>315</th>\n",
       "      <td>sensor</td>\n",
       "      <td>2020-03-23 12:30:52</td>\n",
       "      <td>Dabe</td>\n",
       "      <td>heralding default dockerfile</td>\n",
       "      <td>2</td>\n",
       "      <td>3</td>\n",
       "      <td>13</td>\n",
       "      <td>0</td>\n",
       "      <td>12</td>\n",
       "      <td>2020</td>\n",
       "    </tr>\n",
       "    <tr>\n",
       "      <th>316</th>\n",
       "      <td>sensor</td>\n",
       "      <td>2020-03-23 11:27:40</td>\n",
       "      <td>Dabe</td>\n",
       "      <td>unnesserity /data path permissions setting</td>\n",
       "      <td>3</td>\n",
       "      <td>3</td>\n",
       "      <td>13</td>\n",
       "      <td>0</td>\n",
       "      <td>11</td>\n",
       "      <td>2020</td>\n",
       "    </tr>\n",
       "    <tr>\n",
       "      <th>317</th>\n",
       "      <td>sensor</td>\n",
       "      <td>2020-03-23 11:20:50</td>\n",
       "      <td>Dabe</td>\n",
       "      <td>added trapconductor</td>\n",
       "      <td>1</td>\n",
       "      <td>3</td>\n",
       "      <td>13</td>\n",
       "      <td>0</td>\n",
       "      <td>11</td>\n",
       "      <td>2020</td>\n",
       "    </tr>\n",
       "    <tr>\n",
       "      <th>318</th>\n",
       "      <td>sensor</td>\n",
       "      <td>2020-03-23 11:07:07</td>\n",
       "      <td>Dabe</td>\n",
       "      <td>sensor</td>\n",
       "      <td>1</td>\n",
       "      <td>3</td>\n",
       "      <td>13</td>\n",
       "      <td>0</td>\n",
       "      <td>11</td>\n",
       "      <td>2020</td>\n",
       "    </tr>\n",
       "  </tbody>\n",
       "</table>\n",
       "<p>102 rows × 10 columns</p>\n",
       "</div>"
      ],
      "text/plain": [
       "    repository_name         commit_date commit_author  \\\n",
       "217          sensor 2020-06-10 10:17:03         Wendy   \n",
       "218          sensor 2020-06-04 20:44:51         Wendy   \n",
       "219          sensor 2020-06-04 20:33:07         Wendy   \n",
       "220          sensor 2020-06-04 18:28:36         Wendy   \n",
       "221          sensor 2020-06-04 16:17:13         Wendy   \n",
       "..              ...                 ...           ...   \n",
       "314          sensor 2020-03-23 12:54:35          Dabe   \n",
       "315          sensor 2020-03-23 12:30:52          Dabe   \n",
       "316          sensor 2020-03-23 11:27:40          Dabe   \n",
       "317          sensor 2020-03-23 11:20:50          Dabe   \n",
       "318          sensor 2020-03-23 11:07:07          Dabe   \n",
       "\n",
       "                                 commit_message  bugs  month  week  day  hour  \\\n",
       "217                          No more log rotate     2      6    24    2    10   \n",
       "218                           Update rules.yaml     1      6    23    3    20   \n",
       "219                         Добавлен энтрипоинт     1      6    23    3    20   \n",
       "220                            add rules folder     1      6    23    3    18   \n",
       "221                              fix rules.yaml     1      6    23    3    16   \n",
       "..                                          ...   ...    ...   ...  ...   ...   \n",
       "314                            setting hostname     1      3    13    0    12   \n",
       "315                heralding default dockerfile     2      3    13    0    12   \n",
       "316  unnesserity /data path permissions setting     3      3    13    0    11   \n",
       "317                         added trapconductor     1      3    13    0    11   \n",
       "318                                      sensor     1      3    13    0    11   \n",
       "\n",
       "     year  \n",
       "217  2020  \n",
       "218  2020  \n",
       "219  2020  \n",
       "220  2020  \n",
       "221  2020  \n",
       "..    ...  \n",
       "314  2020  \n",
       "315  2020  \n",
       "316  2020  \n",
       "317  2020  \n",
       "318  2020  \n",
       "\n",
       "[102 rows x 10 columns]"
      ]
     },
     "execution_count": 41,
     "metadata": {},
     "output_type": "execute_result"
    }
   ],
   "source": [
    "df[df.repository_name == \"sensor\"]"
   ]
  },
  {
   "cell_type": "code",
   "execution_count": 42,
   "metadata": {},
   "outputs": [
    {
     "name": "stdout",
     "output_type": "stream",
     "text": [
      "mlm\n",
      "      sum      mean\n",
      "week               \n",
      "10     45  7.500000\n",
      "11     30  6.000000\n",
      "12     23  4.600000\n",
      "23     20  3.333333\n",
      "24     88  4.631579\n",
      "\n",
      "standard\n",
      "      sum      mean\n",
      "week               \n",
      "18     22  2.750000\n",
      "19     24  3.428571\n",
      "20     29  2.900000\n",
      "21     10  2.500000\n",
      "\n",
      "agent\n",
      "      sum      mean\n",
      "week               \n",
      "21     30  3.333333\n",
      "22      2  2.000000\n",
      "23      5  2.500000\n",
      "24      4  2.000000\n",
      "\n",
      "conductor\n",
      "      sum      mean\n",
      "week               \n",
      "11     31  2.818182\n",
      "12     49  2.578947\n",
      "13     11  2.200000\n",
      "14     23  2.300000\n",
      "15     68  4.000000\n",
      "16     42  3.500000\n",
      "17     24  2.666667\n",
      "18     42  3.230769\n",
      "19      8  2.666667\n",
      "20     21  7.000000\n",
      "21      1  1.000000\n",
      "22      4  2.000000\n",
      "23      7  2.333333\n",
      "24     12  2.000000\n",
      "\n",
      "dockers\n",
      "      sum      mean\n",
      "week               \n",
      "16     16  3.200000\n",
      "17      2  2.000000\n",
      "19      1  1.000000\n",
      "20      5  2.500000\n",
      "21      7  2.333333\n",
      "22      5  2.500000\n",
      "23      6  2.000000\n",
      "24      6  3.000000\n",
      "\n",
      "sensor\n",
      "      sum      mean\n",
      "week               \n",
      "13     26  1.857143\n",
      "14     52  3.250000\n",
      "15     22  2.444444\n",
      "16     17  2.833333\n",
      "17     29  1.705882\n",
      "18     45  2.647059\n",
      "19     25  2.083333\n",
      "20      8  2.000000\n",
      "22      1  1.000000\n",
      "23      6  1.200000\n",
      "24      2  2.000000\n",
      "\n"
     ]
    }
   ],
   "source": [
    "for rep_name in df.repository_name.unique():\n",
    "    print(rep_name)\n",
    "    print(df[df.repository_name == rep_name].sort_values(by=\"commit_date\").groupby([\"week\"])[\"bugs\"].agg([\"sum\", \"mean\"]))\n",
    "    print()"
   ]
  },
  {
   "cell_type": "markdown",
   "metadata": {},
   "source": [
    "Хмммм со временем в части репозиториев число обнаруживаемых багов снижается, но есть и такие, в которых происходят резкие скачки по количеству найденных багов за неделю"
   ]
  },
  {
   "cell_type": "markdown",
   "metadata": {},
   "source": [
    "Теперь посмотрим на столбец commit_message"
   ]
  },
  {
   "cell_type": "code",
   "execution_count": 43,
   "metadata": {},
   "outputs": [
    {
     "data": {
      "text/plain": [
       "array(['added deploy scripts',\n",
       "       'Update .gitignore, adbhoney.yaml, and 25 more files...',\n",
       "       'setting hostname', 'добавил aiohttp', 'Added docker auth config',\n",
       "       'смена elk адреса', 'install zabbix',\n",
       "       'Изменен метод взаимодействия с композами с Popen на check_call.',\n",
       "       \"Merge branch 'master' of \", \"Обновить 'src/monitor.py'\"],\n",
       "      dtype=object)"
      ]
     },
     "execution_count": 43,
     "metadata": {},
     "output_type": "execute_result"
    }
   ],
   "source": [
    "df.commit_message.sample(10).values"
   ]
  },
  {
   "cell_type": "code",
   "execution_count": 44,
   "metadata": {},
   "outputs": [
    {
     "name": "stdout",
     "output_type": "stream",
     "text": [
      "Максимальная длина: 86\n",
      "Минимальная длина: 4\n",
      "Медианная длина: 26.0\n"
     ]
    }
   ],
   "source": [
    "msg_lengths = [len(item) for item in df.commit_message.values]\n",
    "print(f\"Максимальная длина: {max(msg_lengths)}\")\n",
    "print(f\"Минимальная длина: {min(msg_lengths)}\")\n",
    "print(f\"Медианная длина: {np.median(msg_lengths)}\")"
   ]
  },
  {
   "cell_type": "markdown",
   "metadata": {},
   "source": [
    "В данном столбце содержатся короткие предложения на русском и английском языках, несущие некоторый смысл о проделанной автором коммита работе. С помощью tfidf или мультиязыковой модели будем получать вектор предположительно несущий часть смысла сообщения, который после с помощью svd или pca будет уменьшаться до приемлемого размера."
   ]
  },
  {
   "cell_type": "markdown",
   "metadata": {},
   "source": [
    "Хмммм можно сделать мешок слов и посмотреть какие слова коррелируют с багами лучше всего"
   ]
  },
  {
   "cell_type": "code",
   "execution_count": 48,
   "metadata": {},
   "outputs": [],
   "source": [
    "# bow = CountVectorizer(tokenizer=d_u.simple_tokenizer)\n",
    "\n",
    "# msg_bow = bow.fit_transform(df.commit_message.values)\n",
    "\n",
    "# np.argsort(pd.concat([pd.DataFrame(msg_bow.toarray()), df.bugs], axis=1).corr().bugs.iloc[:-1].values)"
   ]
  }
 ],
 "metadata": {
  "kernelspec": {
   "display_name": "Python 3.9.12 ('avsoft_test_task')",
   "language": "python",
   "name": "python3"
  },
  "language_info": {
   "codemirror_mode": {
    "name": "ipython",
    "version": 3
   },
   "file_extension": ".py",
   "mimetype": "text/x-python",
   "name": "python",
   "nbconvert_exporter": "python",
   "pygments_lexer": "ipython3",
   "version": "3.9.12"
  },
  "orig_nbformat": 4,
  "vscode": {
   "interpreter": {
    "hash": "55b5977c218ce617a475901f98f0c5239dda01575bc0160c4b4058a44613146e"
   }
  }
 },
 "nbformat": 4,
 "nbformat_minor": 2
}
